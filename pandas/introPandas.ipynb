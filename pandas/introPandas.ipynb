{
 "cells": [
  {
   "metadata": {},
   "cell_type": "markdown",
   "source": [
    "Series\n",
    "\n",
    "Una Series es una estructura de datos unidimensional (como una columna de Excel o una lista en Python) que tiene:\n",
    "\n",
    "Datos (números, texto, booleanos, etc.)\n",
    "\n",
    "Índices que etiquetan cada elemento"
   ],
   "id": "eb5db19ef2ad7555"
  },
  {
   "metadata": {
    "ExecuteTime": {
     "end_time": "2025-06-12T17:35:34.197031Z",
     "start_time": "2025-06-12T17:35:33.306828Z"
    }
   },
   "cell_type": "code",
   "source": [
    "import pandas as pd\n",
    "import openpyxl as xl\n"
   ],
   "id": "15172997c6db229d",
   "outputs": [],
   "execution_count": 1
  },
  {
   "metadata": {
    "ExecuteTime": {
     "end_time": "2025-06-12T17:35:37.269235Z",
     "start_time": "2025-06-12T17:35:37.255611Z"
    }
   },
   "cell_type": "code",
   "source": [
    "#Crea una serie\n",
    "serie = pd.Series([2,6,-1,8,9,2.3],index=['a','b','c','d','e','f'])\n",
    "serie"
   ],
   "id": "b9c38500f3adfbd0",
   "outputs": [
    {
     "data": {
      "text/plain": [
       "a    2.0\n",
       "b    6.0\n",
       "c   -1.0\n",
       "d    8.0\n",
       "e    9.0\n",
       "f    2.3\n",
       "dtype: float64"
      ]
     },
     "execution_count": 2,
     "metadata": {},
     "output_type": "execute_result"
    }
   ],
   "execution_count": 2
  },
  {
   "metadata": {
    "ExecuteTime": {
     "end_time": "2025-06-12T17:35:47.777995Z",
     "start_time": "2025-06-12T17:35:47.730168Z"
    }
   },
   "cell_type": "code",
   "source": [
    "#Borra serie\n",
    "serie2=serie.drop(['a','e'])\n",
    "serie2"
   ],
   "id": "908c0eb275413077",
   "outputs": [
    {
     "data": {
      "text/plain": [
       "b    6.0\n",
       "c   -1.0\n",
       "d    8.0\n",
       "f    2.3\n",
       "dtype: float64"
      ]
     },
     "execution_count": 3,
     "metadata": {},
     "output_type": "execute_result"
    }
   ],
   "execution_count": 3
  },
  {
   "metadata": {
    "ExecuteTime": {
     "end_time": "2025-06-12T17:35:57.123647Z",
     "start_time": "2025-06-12T17:35:57.115673Z"
    }
   },
   "cell_type": "code",
   "source": [
    "#Seleccion\n",
    "serie[['b','a']]"
   ],
   "id": "6519de583099138c",
   "outputs": [
    {
     "data": {
      "text/plain": [
       "b    6.0\n",
       "a    2.0\n",
       "dtype: float64"
      ]
     },
     "execution_count": 4,
     "metadata": {},
     "output_type": "execute_result"
    }
   ],
   "execution_count": 4
  },
  {
   "metadata": {
    "ExecuteTime": {
     "end_time": "2025-06-12T17:36:00.873453Z",
     "start_time": "2025-06-12T17:36:00.866482Z"
    }
   },
   "cell_type": "code",
   "source": [
    "#Asignacion\n",
    "serie['b']=55\n",
    "serie"
   ],
   "id": "768bc49e31c7c7d8",
   "outputs": [
    {
     "data": {
      "text/plain": [
       "a     2.0\n",
       "b    55.0\n",
       "c    -1.0\n",
       "d     8.0\n",
       "e     9.0\n",
       "f     2.3\n",
       "dtype: float64"
      ]
     },
     "execution_count": 5,
     "metadata": {},
     "output_type": "execute_result"
    }
   ],
   "execution_count": 5
  },
  {
   "metadata": {
    "ExecuteTime": {
     "end_time": "2025-06-12T17:36:06.853791Z",
     "start_time": "2025-06-12T17:36:06.845809Z"
    }
   },
   "cell_type": "code",
   "source": [
    "#Filtros - pulsar alt+126 ~\n",
    "#Valores menores a 4\n",
    "serie[~(serie>4)]"
   ],
   "id": "5cf596ab40367649",
   "outputs": [
    {
     "data": {
      "text/plain": [
       "a    2.0\n",
       "c   -1.0\n",
       "f    2.3\n",
       "dtype: float64"
      ]
     },
     "execution_count": 6,
     "metadata": {},
     "output_type": "execute_result"
    }
   ],
   "execution_count": 6
  },
  {
   "metadata": {
    "ExecuteTime": {
     "end_time": "2025-06-12T17:36:20.508076Z",
     "start_time": "2025-06-12T17:36:20.500113Z"
    }
   },
   "cell_type": "code",
   "source": "serie[(serie<4)]",
   "id": "722cb03cc9b06db1",
   "outputs": [
    {
     "data": {
      "text/plain": [
       "a    2.0\n",
       "c   -1.0\n",
       "f    2.3\n",
       "dtype: float64"
      ]
     },
     "execution_count": 7,
     "metadata": {},
     "output_type": "execute_result"
    }
   ],
   "execution_count": 7
  },
  {
   "metadata": {
    "ExecuteTime": {
     "end_time": "2025-06-12T17:36:27.592663Z",
     "start_time": "2025-06-12T17:36:27.585432Z"
    }
   },
   "cell_type": "code",
   "source": [
    "#valor entre intervalo - alt gr + 1 |\n",
    "serie[(serie<0) | (serie>4)]"
   ],
   "id": "6731cd244408bc9",
   "outputs": [
    {
     "data": {
      "text/plain": [
       "b    55.0\n",
       "c    -1.0\n",
       "d     8.0\n",
       "e     9.0\n",
       "dtype: float64"
      ]
     },
     "execution_count": 8,
     "metadata": {},
     "output_type": "execute_result"
    }
   ],
   "execution_count": 8
  },
  {
   "metadata": {
    "ExecuteTime": {
     "end_time": "2025-06-12T17:36:37.465675Z",
     "start_time": "2025-06-12T17:36:37.457895Z"
    }
   },
   "cell_type": "code",
   "source": "serie",
   "id": "c249905ded133829",
   "outputs": [
    {
     "data": {
      "text/plain": [
       "a     2.0\n",
       "b    55.0\n",
       "c    -1.0\n",
       "d     8.0\n",
       "e     9.0\n",
       "f     2.3\n",
       "dtype: float64"
      ]
     },
     "execution_count": 9,
     "metadata": {},
     "output_type": "execute_result"
    }
   ],
   "execution_count": 9
  },
  {
   "metadata": {
    "ExecuteTime": {
     "end_time": "2025-06-12T17:36:43.829176Z",
     "start_time": "2025-06-12T17:36:43.821131Z"
    }
   },
   "cell_type": "code",
   "source": [
    "#Valores nulos al unir series con diferentes indices\n",
    "serie3 = pd.Series([7,5,-4],index=['b','c','e'])\n",
    "serie3"
   ],
   "id": "c29375ab3959b8bc",
   "outputs": [
    {
     "data": {
      "text/plain": [
       "b    7\n",
       "c    5\n",
       "e   -4\n",
       "dtype: int64"
      ]
     },
     "execution_count": 10,
     "metadata": {},
     "output_type": "execute_result"
    }
   ],
   "execution_count": 10
  },
  {
   "metadata": {
    "ExecuteTime": {
     "end_time": "2025-06-12T17:36:50.225390Z",
     "start_time": "2025-06-12T17:36:50.217845Z"
    }
   },
   "cell_type": "code",
   "source": [
    "serie4 = serie + serie3\n",
    "serie4"
   ],
   "id": "eb2f177a53ff3fa8",
   "outputs": [
    {
     "data": {
      "text/plain": [
       "a     NaN\n",
       "b    62.0\n",
       "c     4.0\n",
       "d     NaN\n",
       "e     5.0\n",
       "f     NaN\n",
       "dtype: float64"
      ]
     },
     "execution_count": 11,
     "metadata": {},
     "output_type": "execute_result"
    }
   ],
   "execution_count": 11
  },
  {
   "metadata": {},
   "cell_type": "markdown",
   "source": "Operaciones para con metodos nulos",
   "id": "2f84d136386aca22"
  },
  {
   "metadata": {
    "ExecuteTime": {
     "end_time": "2025-06-12T17:37:14.392084Z",
     "start_time": "2025-06-12T17:37:14.383902Z"
    }
   },
   "cell_type": "code",
   "source": "serie.add(serie3,fill_value=0) #  si encuentra valores nulos sumale 0",
   "id": "4772437b4fa0de85",
   "outputs": [
    {
     "data": {
      "text/plain": [
       "a     2.0\n",
       "b    62.0\n",
       "c     4.0\n",
       "d     8.0\n",
       "e     5.0\n",
       "f     2.3\n",
       "dtype: float64"
      ]
     },
     "execution_count": 12,
     "metadata": {},
     "output_type": "execute_result"
    }
   ],
   "execution_count": 12
  },
  {
   "metadata": {
    "ExecuteTime": {
     "end_time": "2025-06-12T17:37:32.044634Z",
     "start_time": "2025-06-12T17:37:32.036909Z"
    }
   },
   "cell_type": "code",
   "source": [
    "serie4=serie.sub(serie3,fill_value=0) # sub es para la resta\n",
    "serie4"
   ],
   "id": "8bb844bab2bed773",
   "outputs": [
    {
     "data": {
      "text/plain": [
       "a     2.0\n",
       "b    48.0\n",
       "c    -6.0\n",
       "d     8.0\n",
       "e    13.0\n",
       "f     2.3\n",
       "dtype: float64"
      ]
     },
     "execution_count": 13,
     "metadata": {},
     "output_type": "execute_result"
    }
   ],
   "execution_count": 13
  },
  {
   "metadata": {
    "ExecuteTime": {
     "end_time": "2025-06-12T17:37:35.126503Z",
     "start_time": "2025-06-12T17:37:35.118654Z"
    }
   },
   "cell_type": "code",
   "source": "serie.mul(serie3,fill_value=0)",
   "id": "2e7291ca9cc4cd4d",
   "outputs": [
    {
     "data": {
      "text/plain": [
       "a      0.0\n",
       "b    385.0\n",
       "c     -5.0\n",
       "d      0.0\n",
       "e    -36.0\n",
       "f      0.0\n",
       "dtype: float64"
      ]
     },
     "execution_count": 14,
     "metadata": {},
     "output_type": "execute_result"
    }
   ],
   "execution_count": 14
  },
  {
   "metadata": {
    "ExecuteTime": {
     "end_time": "2025-06-12T17:37:58.337553Z",
     "start_time": "2025-06-12T17:37:58.329954Z"
    }
   },
   "cell_type": "code",
   "source": "serie.div(serie3)",
   "id": "6f6cb079ca4de3b9",
   "outputs": [
    {
     "data": {
      "text/plain": [
       "a         NaN\n",
       "b    7.857143\n",
       "c   -0.200000\n",
       "d         NaN\n",
       "e   -2.250000\n",
       "f         NaN\n",
       "dtype: float64"
      ]
     },
     "execution_count": 15,
     "metadata": {},
     "output_type": "execute_result"
    }
   ],
   "execution_count": 15
  },
  {
   "metadata": {},
   "cell_type": "markdown",
   "source": [
    "DataFrame\n",
    "\n",
    "Un DataFrame es una estructura de datos en forma de tabla, similar a una hoja de Excel o una tabla SQL. Es bidimensional: filas y columnas.\n",
    "\n",
    "En pandas, un DataFrame es:\n",
    "\n",
    "Una colección de Series (columnas)\n",
    "\n",
    "Con un índice de filas (como etiquetas de cada fila)\n",
    "\n",
    "Cada columna puede tener un tipo de dato distinto\n"
   ],
   "id": "d4e7a21b88c0d5cc"
  },
  {
   "metadata": {
    "ExecuteTime": {
     "end_time": "2025-06-12T17:38:06.988953Z",
     "start_time": "2025-06-12T17:38:06.976327Z"
    }
   },
   "cell_type": "code",
   "source": [
    "datos ={ 'Alumno':['M Mar','Lucia','Jose','Eva'],\n",
    "         'Nota':[8,9,6,10]}\n",
    "df=pd.DataFrame(datos,columns=['Alumno','Nota'])\n",
    "df"
   ],
   "id": "e61f607900ba3b3f",
   "outputs": [
    {
     "data": {
      "text/plain": [
       "  Alumno  Nota\n",
       "0  M Mar     8\n",
       "1  Lucia     9\n",
       "2   Jose     6\n",
       "3    Eva    10"
      ],
      "text/html": [
       "<div>\n",
       "<style scoped>\n",
       "    .dataframe tbody tr th:only-of-type {\n",
       "        vertical-align: middle;\n",
       "    }\n",
       "\n",
       "    .dataframe tbody tr th {\n",
       "        vertical-align: top;\n",
       "    }\n",
       "\n",
       "    .dataframe thead th {\n",
       "        text-align: right;\n",
       "    }\n",
       "</style>\n",
       "<table border=\"1\" class=\"dataframe\">\n",
       "  <thead>\n",
       "    <tr style=\"text-align: right;\">\n",
       "      <th></th>\n",
       "      <th>Alumno</th>\n",
       "      <th>Nota</th>\n",
       "    </tr>\n",
       "  </thead>\n",
       "  <tbody>\n",
       "    <tr>\n",
       "      <th>0</th>\n",
       "      <td>M Mar</td>\n",
       "      <td>8</td>\n",
       "    </tr>\n",
       "    <tr>\n",
       "      <th>1</th>\n",
       "      <td>Lucia</td>\n",
       "      <td>9</td>\n",
       "    </tr>\n",
       "    <tr>\n",
       "      <th>2</th>\n",
       "      <td>Jose</td>\n",
       "      <td>6</td>\n",
       "    </tr>\n",
       "    <tr>\n",
       "      <th>3</th>\n",
       "      <td>Eva</td>\n",
       "      <td>10</td>\n",
       "    </tr>\n",
       "  </tbody>\n",
       "</table>\n",
       "</div>"
      ]
     },
     "execution_count": 16,
     "metadata": {},
     "output_type": "execute_result"
    }
   ],
   "execution_count": 16
  },
  {
   "metadata": {
    "ExecuteTime": {
     "end_time": "2025-06-12T17:38:25.265367Z",
     "start_time": "2025-06-12T17:38:25.255933Z"
    }
   },
   "cell_type": "code",
   "source": [
    "#Borrar columna\n",
    "df.drop('Nota',axis=1) # borra pero  sin  guardar por que nose asigno a la misma variable\n",
    "df"
   ],
   "id": "d01456b3317e5731",
   "outputs": [
    {
     "data": {
      "text/plain": [
       "  Alumno  Nota\n",
       "0  M Mar     8\n",
       "1  Lucia     9\n",
       "2   Jose     6\n",
       "3    Eva    10"
      ],
      "text/html": [
       "<div>\n",
       "<style scoped>\n",
       "    .dataframe tbody tr th:only-of-type {\n",
       "        vertical-align: middle;\n",
       "    }\n",
       "\n",
       "    .dataframe tbody tr th {\n",
       "        vertical-align: top;\n",
       "    }\n",
       "\n",
       "    .dataframe thead th {\n",
       "        text-align: right;\n",
       "    }\n",
       "</style>\n",
       "<table border=\"1\" class=\"dataframe\">\n",
       "  <thead>\n",
       "    <tr style=\"text-align: right;\">\n",
       "      <th></th>\n",
       "      <th>Alumno</th>\n",
       "      <th>Nota</th>\n",
       "    </tr>\n",
       "  </thead>\n",
       "  <tbody>\n",
       "    <tr>\n",
       "      <th>0</th>\n",
       "      <td>M Mar</td>\n",
       "      <td>8</td>\n",
       "    </tr>\n",
       "    <tr>\n",
       "      <th>1</th>\n",
       "      <td>Lucia</td>\n",
       "      <td>9</td>\n",
       "    </tr>\n",
       "    <tr>\n",
       "      <th>2</th>\n",
       "      <td>Jose</td>\n",
       "      <td>6</td>\n",
       "    </tr>\n",
       "    <tr>\n",
       "      <th>3</th>\n",
       "      <td>Eva</td>\n",
       "      <td>10</td>\n",
       "    </tr>\n",
       "  </tbody>\n",
       "</table>\n",
       "</div>"
      ]
     },
     "execution_count": 17,
     "metadata": {},
     "output_type": "execute_result"
    }
   ],
   "execution_count": 17
  },
  {
   "metadata": {
    "ExecuteTime": {
     "end_time": "2025-06-12T17:38:49.720147Z",
     "start_time": "2025-06-12T17:38:49.711535Z"
    }
   },
   "cell_type": "code",
   "source": [
    "#Mostrar parte del dataframe\n",
    "df.head(2)"
   ],
   "id": "7b8beb1ebe3f6bce",
   "outputs": [
    {
     "data": {
      "text/plain": [
       "  Alumno  Nota\n",
       "0  M Mar     8\n",
       "1  Lucia     9"
      ],
      "text/html": [
       "<div>\n",
       "<style scoped>\n",
       "    .dataframe tbody tr th:only-of-type {\n",
       "        vertical-align: middle;\n",
       "    }\n",
       "\n",
       "    .dataframe tbody tr th {\n",
       "        vertical-align: top;\n",
       "    }\n",
       "\n",
       "    .dataframe thead th {\n",
       "        text-align: right;\n",
       "    }\n",
       "</style>\n",
       "<table border=\"1\" class=\"dataframe\">\n",
       "  <thead>\n",
       "    <tr style=\"text-align: right;\">\n",
       "      <th></th>\n",
       "      <th>Alumno</th>\n",
       "      <th>Nota</th>\n",
       "    </tr>\n",
       "  </thead>\n",
       "  <tbody>\n",
       "    <tr>\n",
       "      <th>0</th>\n",
       "      <td>M Mar</td>\n",
       "      <td>8</td>\n",
       "    </tr>\n",
       "    <tr>\n",
       "      <th>1</th>\n",
       "      <td>Lucia</td>\n",
       "      <td>9</td>\n",
       "    </tr>\n",
       "  </tbody>\n",
       "</table>\n",
       "</div>"
      ]
     },
     "execution_count": 18,
     "metadata": {},
     "output_type": "execute_result"
    }
   ],
   "execution_count": 18
  },
  {
   "metadata": {
    "ExecuteTime": {
     "end_time": "2025-06-12T17:38:56.223831Z",
     "start_time": "2025-06-12T17:38:56.215810Z"
    }
   },
   "cell_type": "code",
   "source": "df.tail(2)",
   "id": "bc63c7c53663837a",
   "outputs": [
    {
     "data": {
      "text/plain": [
       "  Alumno  Nota\n",
       "2   Jose     6\n",
       "3    Eva    10"
      ],
      "text/html": [
       "<div>\n",
       "<style scoped>\n",
       "    .dataframe tbody tr th:only-of-type {\n",
       "        vertical-align: middle;\n",
       "    }\n",
       "\n",
       "    .dataframe tbody tr th {\n",
       "        vertical-align: top;\n",
       "    }\n",
       "\n",
       "    .dataframe thead th {\n",
       "        text-align: right;\n",
       "    }\n",
       "</style>\n",
       "<table border=\"1\" class=\"dataframe\">\n",
       "  <thead>\n",
       "    <tr style=\"text-align: right;\">\n",
       "      <th></th>\n",
       "      <th>Alumno</th>\n",
       "      <th>Nota</th>\n",
       "    </tr>\n",
       "  </thead>\n",
       "  <tbody>\n",
       "    <tr>\n",
       "      <th>2</th>\n",
       "      <td>Jose</td>\n",
       "      <td>6</td>\n",
       "    </tr>\n",
       "    <tr>\n",
       "      <th>3</th>\n",
       "      <td>Eva</td>\n",
       "      <td>10</td>\n",
       "    </tr>\n",
       "  </tbody>\n",
       "</table>\n",
       "</div>"
      ]
     },
     "execution_count": 19,
     "metadata": {},
     "output_type": "execute_result"
    }
   ],
   "execution_count": 19
  },
  {
   "metadata": {
    "ExecuteTime": {
     "end_time": "2025-06-12T17:42:22.764266Z",
     "start_time": "2025-06-12T17:42:22.756134Z"
    }
   },
   "cell_type": "code",
   "source": [
    "#Ordenar dataframe\n",
    "df.sort_index()#ordena por indice"
   ],
   "id": "2f2bb552694a1f2e",
   "outputs": [
    {
     "data": {
      "text/plain": [
       "  Alumno  Nota\n",
       "0  M Mar     8\n",
       "1  Lucia     9\n",
       "2   Jose     6\n",
       "3    Eva    10"
      ],
      "text/html": [
       "<div>\n",
       "<style scoped>\n",
       "    .dataframe tbody tr th:only-of-type {\n",
       "        vertical-align: middle;\n",
       "    }\n",
       "\n",
       "    .dataframe tbody tr th {\n",
       "        vertical-align: top;\n",
       "    }\n",
       "\n",
       "    .dataframe thead th {\n",
       "        text-align: right;\n",
       "    }\n",
       "</style>\n",
       "<table border=\"1\" class=\"dataframe\">\n",
       "  <thead>\n",
       "    <tr style=\"text-align: right;\">\n",
       "      <th></th>\n",
       "      <th>Alumno</th>\n",
       "      <th>Nota</th>\n",
       "    </tr>\n",
       "  </thead>\n",
       "  <tbody>\n",
       "    <tr>\n",
       "      <th>0</th>\n",
       "      <td>M Mar</td>\n",
       "      <td>8</td>\n",
       "    </tr>\n",
       "    <tr>\n",
       "      <th>1</th>\n",
       "      <td>Lucia</td>\n",
       "      <td>9</td>\n",
       "    </tr>\n",
       "    <tr>\n",
       "      <th>2</th>\n",
       "      <td>Jose</td>\n",
       "      <td>6</td>\n",
       "    </tr>\n",
       "    <tr>\n",
       "      <th>3</th>\n",
       "      <td>Eva</td>\n",
       "      <td>10</td>\n",
       "    </tr>\n",
       "  </tbody>\n",
       "</table>\n",
       "</div>"
      ]
     },
     "execution_count": 20,
     "metadata": {},
     "output_type": "execute_result"
    }
   ],
   "execution_count": 20
  },
  {
   "metadata": {
    "ExecuteTime": {
     "end_time": "2025-06-12T17:42:32.593821Z",
     "start_time": "2025-06-12T17:42:32.584381Z"
    }
   },
   "cell_type": "code",
   "source": "df.sort_values(by='Nota')",
   "id": "7e03bbb1a57898f5",
   "outputs": [
    {
     "data": {
      "text/plain": [
       "  Alumno  Nota\n",
       "2   Jose     6\n",
       "0  M Mar     8\n",
       "1  Lucia     9\n",
       "3    Eva    10"
      ],
      "text/html": [
       "<div>\n",
       "<style scoped>\n",
       "    .dataframe tbody tr th:only-of-type {\n",
       "        vertical-align: middle;\n",
       "    }\n",
       "\n",
       "    .dataframe tbody tr th {\n",
       "        vertical-align: top;\n",
       "    }\n",
       "\n",
       "    .dataframe thead th {\n",
       "        text-align: right;\n",
       "    }\n",
       "</style>\n",
       "<table border=\"1\" class=\"dataframe\">\n",
       "  <thead>\n",
       "    <tr style=\"text-align: right;\">\n",
       "      <th></th>\n",
       "      <th>Alumno</th>\n",
       "      <th>Nota</th>\n",
       "    </tr>\n",
       "  </thead>\n",
       "  <tbody>\n",
       "    <tr>\n",
       "      <th>2</th>\n",
       "      <td>Jose</td>\n",
       "      <td>6</td>\n",
       "    </tr>\n",
       "    <tr>\n",
       "      <th>0</th>\n",
       "      <td>M Mar</td>\n",
       "      <td>8</td>\n",
       "    </tr>\n",
       "    <tr>\n",
       "      <th>1</th>\n",
       "      <td>Lucia</td>\n",
       "      <td>9</td>\n",
       "    </tr>\n",
       "    <tr>\n",
       "      <th>3</th>\n",
       "      <td>Eva</td>\n",
       "      <td>10</td>\n",
       "    </tr>\n",
       "  </tbody>\n",
       "</table>\n",
       "</div>"
      ]
     },
     "execution_count": 21,
     "metadata": {},
     "output_type": "execute_result"
    }
   ],
   "execution_count": 21
  },
  {
   "metadata": {
    "ExecuteTime": {
     "end_time": "2025-06-12T17:43:17.205880Z",
     "start_time": "2025-06-12T17:43:17.196830Z"
    }
   },
   "cell_type": "code",
   "source": "df.sort_values(by='Alumno')",
   "id": "80b1150b8c9c5d4",
   "outputs": [
    {
     "data": {
      "text/plain": [
       "  Alumno  Nota\n",
       "3    Eva    10\n",
       "2   Jose     6\n",
       "1  Lucia     9\n",
       "0  M Mar     8"
      ],
      "text/html": [
       "<div>\n",
       "<style scoped>\n",
       "    .dataframe tbody tr th:only-of-type {\n",
       "        vertical-align: middle;\n",
       "    }\n",
       "\n",
       "    .dataframe tbody tr th {\n",
       "        vertical-align: top;\n",
       "    }\n",
       "\n",
       "    .dataframe thead th {\n",
       "        text-align: right;\n",
       "    }\n",
       "</style>\n",
       "<table border=\"1\" class=\"dataframe\">\n",
       "  <thead>\n",
       "    <tr style=\"text-align: right;\">\n",
       "      <th></th>\n",
       "      <th>Alumno</th>\n",
       "      <th>Nota</th>\n",
       "    </tr>\n",
       "  </thead>\n",
       "  <tbody>\n",
       "    <tr>\n",
       "      <th>3</th>\n",
       "      <td>Eva</td>\n",
       "      <td>10</td>\n",
       "    </tr>\n",
       "    <tr>\n",
       "      <th>2</th>\n",
       "      <td>Jose</td>\n",
       "      <td>6</td>\n",
       "    </tr>\n",
       "    <tr>\n",
       "      <th>1</th>\n",
       "      <td>Lucia</td>\n",
       "      <td>9</td>\n",
       "    </tr>\n",
       "    <tr>\n",
       "      <th>0</th>\n",
       "      <td>M Mar</td>\n",
       "      <td>8</td>\n",
       "    </tr>\n",
       "  </tbody>\n",
       "</table>\n",
       "</div>"
      ]
     },
     "execution_count": 22,
     "metadata": {},
     "output_type": "execute_result"
    }
   ],
   "execution_count": 22
  },
  {
   "metadata": {
    "ExecuteTime": {
     "end_time": "2025-06-12T17:43:19.893696Z",
     "start_time": "2025-06-12T17:43:19.884199Z"
    }
   },
   "cell_type": "code",
   "source": [
    "#Asigna rango a las entradas\n",
    "df=df.rank() # le da un  rango opr orden  alfabetico\n",
    "df"
   ],
   "id": "3d53e34fb08fa56d",
   "outputs": [
    {
     "data": {
      "text/plain": [
       "   Alumno  Nota\n",
       "0     4.0   2.0\n",
       "1     3.0   3.0\n",
       "2     2.0   1.0\n",
       "3     1.0   4.0"
      ],
      "text/html": [
       "<div>\n",
       "<style scoped>\n",
       "    .dataframe tbody tr th:only-of-type {\n",
       "        vertical-align: middle;\n",
       "    }\n",
       "\n",
       "    .dataframe tbody tr th {\n",
       "        vertical-align: top;\n",
       "    }\n",
       "\n",
       "    .dataframe thead th {\n",
       "        text-align: right;\n",
       "    }\n",
       "</style>\n",
       "<table border=\"1\" class=\"dataframe\">\n",
       "  <thead>\n",
       "    <tr style=\"text-align: right;\">\n",
       "      <th></th>\n",
       "      <th>Alumno</th>\n",
       "      <th>Nota</th>\n",
       "    </tr>\n",
       "  </thead>\n",
       "  <tbody>\n",
       "    <tr>\n",
       "      <th>0</th>\n",
       "      <td>4.0</td>\n",
       "      <td>2.0</td>\n",
       "    </tr>\n",
       "    <tr>\n",
       "      <th>1</th>\n",
       "      <td>3.0</td>\n",
       "      <td>3.0</td>\n",
       "    </tr>\n",
       "    <tr>\n",
       "      <th>2</th>\n",
       "      <td>2.0</td>\n",
       "      <td>1.0</td>\n",
       "    </tr>\n",
       "    <tr>\n",
       "      <th>3</th>\n",
       "      <td>1.0</td>\n",
       "      <td>4.0</td>\n",
       "    </tr>\n",
       "  </tbody>\n",
       "</table>\n",
       "</div>"
      ]
     },
     "execution_count": 23,
     "metadata": {},
     "output_type": "execute_result"
    }
   ],
   "execution_count": 23
  },
  {
   "metadata": {
    "ExecuteTime": {
     "end_time": "2025-04-18T21:27:58.033499Z",
     "start_time": "2025-04-18T21:27:58.027187Z"
    }
   },
   "cell_type": "code",
   "source": "df.sort_values(by='Nota')",
   "id": "3c4cbbcef9236461",
   "outputs": [
    {
     "data": {
      "text/plain": [
       "   Alumno  Nota\n",
       "2     2.0   1.0\n",
       "0     4.0   2.0\n",
       "1     3.0   3.0\n",
       "3     1.0   4.0"
      ],
      "text/html": [
       "<div>\n",
       "<style scoped>\n",
       "    .dataframe tbody tr th:only-of-type {\n",
       "        vertical-align: middle;\n",
       "    }\n",
       "\n",
       "    .dataframe tbody tr th {\n",
       "        vertical-align: top;\n",
       "    }\n",
       "\n",
       "    .dataframe thead th {\n",
       "        text-align: right;\n",
       "    }\n",
       "</style>\n",
       "<table border=\"1\" class=\"dataframe\">\n",
       "  <thead>\n",
       "    <tr style=\"text-align: right;\">\n",
       "      <th></th>\n",
       "      <th>Alumno</th>\n",
       "      <th>Nota</th>\n",
       "    </tr>\n",
       "  </thead>\n",
       "  <tbody>\n",
       "    <tr>\n",
       "      <th>2</th>\n",
       "      <td>2.0</td>\n",
       "      <td>1.0</td>\n",
       "    </tr>\n",
       "    <tr>\n",
       "      <th>0</th>\n",
       "      <td>4.0</td>\n",
       "      <td>2.0</td>\n",
       "    </tr>\n",
       "    <tr>\n",
       "      <th>1</th>\n",
       "      <td>3.0</td>\n",
       "      <td>3.0</td>\n",
       "    </tr>\n",
       "    <tr>\n",
       "      <th>3</th>\n",
       "      <td>1.0</td>\n",
       "      <td>4.0</td>\n",
       "    </tr>\n",
       "  </tbody>\n",
       "</table>\n",
       "</div>"
      ]
     },
     "execution_count": 28,
     "metadata": {},
     "output_type": "execute_result"
    }
   ],
   "execution_count": 28
  },
  {
   "metadata": {},
   "cell_type": "markdown",
   "source": "Entrada / Salida - Lectura / Escritura\n",
   "id": "77debb8bea4c7fa6"
  },
  {
   "metadata": {
    "ExecuteTime": {
     "end_time": "2025-04-18T21:43:32.709894Z",
     "start_time": "2025-04-18T21:43:32.703284Z"
    }
   },
   "cell_type": "code",
   "source": [
    "#grabar DataFrame\n",
    "df.to_csv('misDatos.csv',index=False,columns=['Alumno','Nota'])"
   ],
   "id": "4610c1eb732261f6",
   "outputs": [],
   "execution_count": 29
  },
  {
   "metadata": {
    "ExecuteTime": {
     "end_time": "2025-04-18T21:43:49.293941Z",
     "start_time": "2025-04-18T21:43:49.285673Z"
    }
   },
   "cell_type": "code",
   "source": [
    "#leer DataFrame\n",
    "mis_datos=pd.read_csv('misDatos.csv',header=None,nrows=3)\n",
    "mis_datos.columns=['Alumno','Nota']\n",
    "mis_datos.head()"
   ],
   "id": "28bdade819bbd302",
   "outputs": [
    {
     "data": {
      "text/plain": [
       "   Alumno  Nota\n",
       "0     4.0   2.0\n",
       "1     3.0   3.0\n",
       "2     2.0   1.0"
      ],
      "text/html": [
       "<div>\n",
       "<style scoped>\n",
       "    .dataframe tbody tr th:only-of-type {\n",
       "        vertical-align: middle;\n",
       "    }\n",
       "\n",
       "    .dataframe tbody tr th {\n",
       "        vertical-align: top;\n",
       "    }\n",
       "\n",
       "    .dataframe thead th {\n",
       "        text-align: right;\n",
       "    }\n",
       "</style>\n",
       "<table border=\"1\" class=\"dataframe\">\n",
       "  <thead>\n",
       "    <tr style=\"text-align: right;\">\n",
       "      <th></th>\n",
       "      <th>Alumno</th>\n",
       "      <th>Nota</th>\n",
       "    </tr>\n",
       "  </thead>\n",
       "  <tbody>\n",
       "    <tr>\n",
       "      <th>0</th>\n",
       "      <td>4.0</td>\n",
       "      <td>2.0</td>\n",
       "    </tr>\n",
       "    <tr>\n",
       "      <th>1</th>\n",
       "      <td>3.0</td>\n",
       "      <td>3.0</td>\n",
       "    </tr>\n",
       "    <tr>\n",
       "      <th>2</th>\n",
       "      <td>2.0</td>\n",
       "      <td>1.0</td>\n",
       "    </tr>\n",
       "  </tbody>\n",
       "</table>\n",
       "</div>"
      ]
     },
     "execution_count": 31,
     "metadata": {},
     "output_type": "execute_result"
    }
   ],
   "execution_count": 31
  },
  {
   "metadata": {
    "ExecuteTime": {
     "end_time": "2025-04-18T21:48:09.078207Z",
     "start_time": "2025-04-18T21:48:08.753925Z"
    }
   },
   "cell_type": "code",
   "source": [
    "#grabar en excel\n",
    "df.to_excel('misDatos.xlsx',index=False,sheet_name='MiHoja')"
   ],
   "id": "8d7da67995030aba",
   "outputs": [],
   "execution_count": 34
  },
  {
   "metadata": {
    "ExecuteTime": {
     "end_time": "2025-04-18T21:48:10.469961Z",
     "start_time": "2025-04-18T21:48:10.450844Z"
    }
   },
   "cell_type": "code",
   "source": [
    "#leer de excel\n",
    "mis_datos_excel = pd.read_excel('misDatos.xlsx')\n",
    "mis_datos_excel"
   ],
   "id": "5a1b32ba9f67469e",
   "outputs": [
    {
     "data": {
      "text/plain": [
       "   Alumno  Nota\n",
       "0       4     2\n",
       "1       3     3\n",
       "2       2     1\n",
       "3       1     4"
      ],
      "text/html": [
       "<div>\n",
       "<style scoped>\n",
       "    .dataframe tbody tr th:only-of-type {\n",
       "        vertical-align: middle;\n",
       "    }\n",
       "\n",
       "    .dataframe tbody tr th {\n",
       "        vertical-align: top;\n",
       "    }\n",
       "\n",
       "    .dataframe thead th {\n",
       "        text-align: right;\n",
       "    }\n",
       "</style>\n",
       "<table border=\"1\" class=\"dataframe\">\n",
       "  <thead>\n",
       "    <tr style=\"text-align: right;\">\n",
       "      <th></th>\n",
       "      <th>Alumno</th>\n",
       "      <th>Nota</th>\n",
       "    </tr>\n",
       "  </thead>\n",
       "  <tbody>\n",
       "    <tr>\n",
       "      <th>0</th>\n",
       "      <td>4</td>\n",
       "      <td>2</td>\n",
       "    </tr>\n",
       "    <tr>\n",
       "      <th>1</th>\n",
       "      <td>3</td>\n",
       "      <td>3</td>\n",
       "    </tr>\n",
       "    <tr>\n",
       "      <th>2</th>\n",
       "      <td>2</td>\n",
       "      <td>1</td>\n",
       "    </tr>\n",
       "    <tr>\n",
       "      <th>3</th>\n",
       "      <td>1</td>\n",
       "      <td>4</td>\n",
       "    </tr>\n",
       "  </tbody>\n",
       "</table>\n",
       "</div>"
      ]
     },
     "execution_count": 35,
     "metadata": {},
     "output_type": "execute_result"
    }
   ],
   "execution_count": 35
  },
  {
   "metadata": {},
   "cell_type": "markdown",
   "source": "Selección por posición",
   "id": "55b81813cdaeb754"
  },
  {
   "metadata": {
    "ExecuteTime": {
     "end_time": "2025-04-18T21:53:35.605934Z",
     "start_time": "2025-04-18T21:53:35.600191Z"
    }
   },
   "cell_type": "code",
   "source": "df",
   "id": "7eed6a8941372bcd",
   "outputs": [
    {
     "data": {
      "text/plain": [
       "  Alumno  Nota\n",
       "0  M Mar     8\n",
       "1  Lucia     9\n",
       "2   Jose     6\n",
       "3    Eva    10"
      ],
      "text/html": [
       "<div>\n",
       "<style scoped>\n",
       "    .dataframe tbody tr th:only-of-type {\n",
       "        vertical-align: middle;\n",
       "    }\n",
       "\n",
       "    .dataframe tbody tr th {\n",
       "        vertical-align: top;\n",
       "    }\n",
       "\n",
       "    .dataframe thead th {\n",
       "        text-align: right;\n",
       "    }\n",
       "</style>\n",
       "<table border=\"1\" class=\"dataframe\">\n",
       "  <thead>\n",
       "    <tr style=\"text-align: right;\">\n",
       "      <th></th>\n",
       "      <th>Alumno</th>\n",
       "      <th>Nota</th>\n",
       "    </tr>\n",
       "  </thead>\n",
       "  <tbody>\n",
       "    <tr>\n",
       "      <th>0</th>\n",
       "      <td>M Mar</td>\n",
       "      <td>8</td>\n",
       "    </tr>\n",
       "    <tr>\n",
       "      <th>1</th>\n",
       "      <td>Lucia</td>\n",
       "      <td>9</td>\n",
       "    </tr>\n",
       "    <tr>\n",
       "      <th>2</th>\n",
       "      <td>Jose</td>\n",
       "      <td>6</td>\n",
       "    </tr>\n",
       "    <tr>\n",
       "      <th>3</th>\n",
       "      <td>Eva</td>\n",
       "      <td>10</td>\n",
       "    </tr>\n",
       "  </tbody>\n",
       "</table>\n",
       "</div>"
      ]
     },
     "execution_count": 42,
     "metadata": {},
     "output_type": "execute_result"
    }
   ],
   "execution_count": 42
  },
  {
   "metadata": {
    "ExecuteTime": {
     "end_time": "2025-04-18T21:53:51.545347Z",
     "start_time": "2025-04-18T21:53:51.539662Z"
    }
   },
   "cell_type": "code",
   "source": [
    "#Selección por indice\n",
    "df[1:3]"
   ],
   "id": "b3e5ff00791488fc",
   "outputs": [
    {
     "data": {
      "text/plain": [
       "  Alumno  Nota\n",
       "1  Lucia     9\n",
       "2   Jose     6"
      ],
      "text/html": [
       "<div>\n",
       "<style scoped>\n",
       "    .dataframe tbody tr th:only-of-type {\n",
       "        vertical-align: middle;\n",
       "    }\n",
       "\n",
       "    .dataframe tbody tr th {\n",
       "        vertical-align: top;\n",
       "    }\n",
       "\n",
       "    .dataframe thead th {\n",
       "        text-align: right;\n",
       "    }\n",
       "</style>\n",
       "<table border=\"1\" class=\"dataframe\">\n",
       "  <thead>\n",
       "    <tr style=\"text-align: right;\">\n",
       "      <th></th>\n",
       "      <th>Alumno</th>\n",
       "      <th>Nota</th>\n",
       "    </tr>\n",
       "  </thead>\n",
       "  <tbody>\n",
       "    <tr>\n",
       "      <th>1</th>\n",
       "      <td>Lucia</td>\n",
       "      <td>9</td>\n",
       "    </tr>\n",
       "    <tr>\n",
       "      <th>2</th>\n",
       "      <td>Jose</td>\n",
       "      <td>6</td>\n",
       "    </tr>\n",
       "  </tbody>\n",
       "</table>\n",
       "</div>"
      ]
     },
     "execution_count": 43,
     "metadata": {},
     "output_type": "execute_result"
    }
   ],
   "execution_count": 43
  },
  {
   "metadata": {
    "ExecuteTime": {
     "end_time": "2025-04-18T21:56:16.381170Z",
     "start_time": "2025-04-18T21:56:16.374648Z"
    }
   },
   "cell_type": "code",
   "source": [
    "#Por posicion fila - columna\n",
    "df.iloc[[1],[1]]"
   ],
   "id": "6b52055ac840b762",
   "outputs": [
    {
     "data": {
      "text/plain": [
       "   Nota\n",
       "1     9"
      ],
      "text/html": [
       "<div>\n",
       "<style scoped>\n",
       "    .dataframe tbody tr th:only-of-type {\n",
       "        vertical-align: middle;\n",
       "    }\n",
       "\n",
       "    .dataframe tbody tr th {\n",
       "        vertical-align: top;\n",
       "    }\n",
       "\n",
       "    .dataframe thead th {\n",
       "        text-align: right;\n",
       "    }\n",
       "</style>\n",
       "<table border=\"1\" class=\"dataframe\">\n",
       "  <thead>\n",
       "    <tr style=\"text-align: right;\">\n",
       "      <th></th>\n",
       "      <th>Nota</th>\n",
       "    </tr>\n",
       "  </thead>\n",
       "  <tbody>\n",
       "    <tr>\n",
       "      <th>1</th>\n",
       "      <td>9</td>\n",
       "    </tr>\n",
       "  </tbody>\n",
       "</table>\n",
       "</div>"
      ]
     },
     "execution_count": 44,
     "metadata": {},
     "output_type": "execute_result"
    }
   ],
   "execution_count": 44
  },
  {
   "metadata": {
    "ExecuteTime": {
     "end_time": "2025-04-18T21:58:19.842242Z",
     "start_time": "2025-04-18T21:58:19.836630Z"
    }
   },
   "cell_type": "code",
   "source": [
    "#Por etiqueta, fila por indice y columna por valor\n",
    "df.loc[[2],['Alumno']]"
   ],
   "id": "4e35c395ed098404",
   "outputs": [
    {
     "data": {
      "text/plain": [
       "  Alumno\n",
       "2   Jose"
      ],
      "text/html": [
       "<div>\n",
       "<style scoped>\n",
       "    .dataframe tbody tr th:only-of-type {\n",
       "        vertical-align: middle;\n",
       "    }\n",
       "\n",
       "    .dataframe tbody tr th {\n",
       "        vertical-align: top;\n",
       "    }\n",
       "\n",
       "    .dataframe thead th {\n",
       "        text-align: right;\n",
       "    }\n",
       "</style>\n",
       "<table border=\"1\" class=\"dataframe\">\n",
       "  <thead>\n",
       "    <tr style=\"text-align: right;\">\n",
       "      <th></th>\n",
       "      <th>Alumno</th>\n",
       "    </tr>\n",
       "  </thead>\n",
       "  <tbody>\n",
       "    <tr>\n",
       "      <th>2</th>\n",
       "      <td>Jose</td>\n",
       "    </tr>\n",
       "  </tbody>\n",
       "</table>\n",
       "</div>"
      ]
     },
     "execution_count": 45,
     "metadata": {},
     "output_type": "execute_result"
    }
   ],
   "execution_count": 45
  },
  {
   "metadata": {
    "ExecuteTime": {
     "end_time": "2025-04-18T21:58:56.583442Z",
     "start_time": "2025-04-18T21:58:56.575042Z"
    }
   },
   "cell_type": "code",
   "source": [
    "#Filtro\n",
    "df_mayor_9=df[df['Nota']>8]\n",
    "df_mayor_9"
   ],
   "id": "f057eafe48b736b0",
   "outputs": [
    {
     "data": {
      "text/plain": [
       "  Alumno  Nota\n",
       "1  Lucia     9\n",
       "3    Eva    10"
      ],
      "text/html": [
       "<div>\n",
       "<style scoped>\n",
       "    .dataframe tbody tr th:only-of-type {\n",
       "        vertical-align: middle;\n",
       "    }\n",
       "\n",
       "    .dataframe tbody tr th {\n",
       "        vertical-align: top;\n",
       "    }\n",
       "\n",
       "    .dataframe thead th {\n",
       "        text-align: right;\n",
       "    }\n",
       "</style>\n",
       "<table border=\"1\" class=\"dataframe\">\n",
       "  <thead>\n",
       "    <tr style=\"text-align: right;\">\n",
       "      <th></th>\n",
       "      <th>Alumno</th>\n",
       "      <th>Nota</th>\n",
       "    </tr>\n",
       "  </thead>\n",
       "  <tbody>\n",
       "    <tr>\n",
       "      <th>1</th>\n",
       "      <td>Lucia</td>\n",
       "      <td>9</td>\n",
       "    </tr>\n",
       "    <tr>\n",
       "      <th>3</th>\n",
       "      <td>Eva</td>\n",
       "      <td>10</td>\n",
       "    </tr>\n",
       "  </tbody>\n",
       "</table>\n",
       "</div>"
      ]
     },
     "execution_count": 46,
     "metadata": {},
     "output_type": "execute_result"
    }
   ],
   "execution_count": 46
  },
  {
   "metadata": {},
   "cell_type": "markdown",
   "source": "Obteniendo información del dataset",
   "id": "c2aeb74425e07dc8"
  },
  {
   "metadata": {
    "ExecuteTime": {
     "end_time": "2025-04-18T22:11:14.139248Z",
     "start_time": "2025-04-18T22:11:14.133953Z"
    }
   },
   "cell_type": "code",
   "source": [
    "# Nos da el número de filas y columnas\n",
    "df.shape"
   ],
   "id": "57564b7fb14de329",
   "outputs": [
    {
     "data": {
      "text/plain": [
       "(4, 2)"
      ]
     },
     "execution_count": 47,
     "metadata": {},
     "output_type": "execute_result"
    }
   ],
   "execution_count": 47
  },
  {
   "metadata": {
    "ExecuteTime": {
     "end_time": "2025-04-18T22:11:58.159277Z",
     "start_time": "2025-04-18T22:11:58.154677Z"
    }
   },
   "cell_type": "code",
   "source": [
    "#Nos informa del indice\n",
    "df.index"
   ],
   "id": "5133a995611083cd",
   "outputs": [
    {
     "data": {
      "text/plain": [
       "RangeIndex(start=0, stop=4, step=1)"
      ]
     },
     "execution_count": 48,
     "metadata": {},
     "output_type": "execute_result"
    }
   ],
   "execution_count": 48
  },
  {
   "metadata": {
    "ExecuteTime": {
     "end_time": "2025-04-18T22:12:17.188228Z",
     "start_time": "2025-04-18T22:12:17.184311Z"
    }
   },
   "cell_type": "code",
   "source": [
    "#Columnas\n",
    "df.columns"
   ],
   "id": "88d4321b92754654",
   "outputs": [
    {
     "data": {
      "text/plain": [
       "Index(['Alumno', 'Nota'], dtype='object')"
      ]
     },
     "execution_count": 49,
     "metadata": {},
     "output_type": "execute_result"
    }
   ],
   "execution_count": 49
  },
  {
   "metadata": {
    "ExecuteTime": {
     "end_time": "2025-04-18T22:12:24.028630Z",
     "start_time": "2025-04-18T22:12:24.022480Z"
    }
   },
   "cell_type": "code",
   "source": [
    "#Nos da informacion\n",
    "df.info()"
   ],
   "id": "133e46b27aa1ae74",
   "outputs": [
    {
     "name": "stdout",
     "output_type": "stream",
     "text": [
      "<class 'pandas.core.frame.DataFrame'>\n",
      "RangeIndex: 4 entries, 0 to 3\n",
      "Data columns (total 2 columns):\n",
      " #   Column  Non-Null Count  Dtype \n",
      "---  ------  --------------  ----- \n",
      " 0   Alumno  4 non-null      object\n",
      " 1   Nota    4 non-null      int64 \n",
      "dtypes: int64(1), object(1)\n",
      "memory usage: 196.0+ bytes\n"
     ]
    }
   ],
   "execution_count": 51
  },
  {
   "metadata": {
    "ExecuteTime": {
     "end_time": "2025-04-18T22:12:33.981990Z",
     "start_time": "2025-04-18T22:12:33.976034Z"
    }
   },
   "cell_type": "code",
   "source": [
    "#Nos indica los valores no nulos\n",
    "df.count()"
   ],
   "id": "dd9f105fa217ed7d",
   "outputs": [
    {
     "data": {
      "text/plain": [
       "Alumno    4\n",
       "Nota      4\n",
       "dtype: int64"
      ]
     },
     "execution_count": 52,
     "metadata": {},
     "output_type": "execute_result"
    }
   ],
   "execution_count": 52
  },
  {
   "metadata": {
    "ExecuteTime": {
     "end_time": "2025-04-18T22:12:44.602545Z",
     "start_time": "2025-04-18T22:12:44.596910Z"
    }
   },
   "cell_type": "code",
   "source": [
    "#Suma de valores\n",
    "df.sum()"
   ],
   "id": "e04257a5bc3181e5",
   "outputs": [
    {
     "data": {
      "text/plain": [
       "Alumno    M MarLuciaJoseEva\n",
       "Nota                     33\n",
       "dtype: object"
      ]
     },
     "execution_count": 53,
     "metadata": {},
     "output_type": "execute_result"
    }
   ],
   "execution_count": 53
  },
  {
   "metadata": {
    "ExecuteTime": {
     "end_time": "2025-04-18T22:13:03.810660Z",
     "start_time": "2025-04-18T22:13:03.801318Z"
    }
   },
   "cell_type": "code",
   "source": "df.cumsum()",
   "id": "d15de45bdbba3395",
   "outputs": [
    {
     "data": {
      "text/plain": [
       "              Alumno  Nota\n",
       "0              M Mar     8\n",
       "1         M MarLucia    17\n",
       "2     M MarLuciaJose    23\n",
       "3  M MarLuciaJoseEva    33"
      ],
      "text/html": [
       "<div>\n",
       "<style scoped>\n",
       "    .dataframe tbody tr th:only-of-type {\n",
       "        vertical-align: middle;\n",
       "    }\n",
       "\n",
       "    .dataframe tbody tr th {\n",
       "        vertical-align: top;\n",
       "    }\n",
       "\n",
       "    .dataframe thead th {\n",
       "        text-align: right;\n",
       "    }\n",
       "</style>\n",
       "<table border=\"1\" class=\"dataframe\">\n",
       "  <thead>\n",
       "    <tr style=\"text-align: right;\">\n",
       "      <th></th>\n",
       "      <th>Alumno</th>\n",
       "      <th>Nota</th>\n",
       "    </tr>\n",
       "  </thead>\n",
       "  <tbody>\n",
       "    <tr>\n",
       "      <th>0</th>\n",
       "      <td>M Mar</td>\n",
       "      <td>8</td>\n",
       "    </tr>\n",
       "    <tr>\n",
       "      <th>1</th>\n",
       "      <td>M MarLucia</td>\n",
       "      <td>17</td>\n",
       "    </tr>\n",
       "    <tr>\n",
       "      <th>2</th>\n",
       "      <td>M MarLuciaJose</td>\n",
       "      <td>23</td>\n",
       "    </tr>\n",
       "    <tr>\n",
       "      <th>3</th>\n",
       "      <td>M MarLuciaJoseEva</td>\n",
       "      <td>33</td>\n",
       "    </tr>\n",
       "  </tbody>\n",
       "</table>\n",
       "</div>"
      ]
     },
     "execution_count": 54,
     "metadata": {},
     "output_type": "execute_result"
    }
   ],
   "execution_count": 54
  },
  {
   "metadata": {
    "ExecuteTime": {
     "end_time": "2025-04-18T22:30:43.624816Z",
     "start_time": "2025-04-18T22:30:43.619425Z"
    }
   },
   "cell_type": "code",
   "source": "df",
   "id": "bcfb303e952aaec6",
   "outputs": [
    {
     "data": {
      "text/plain": [
       "  Alumno  Nota\n",
       "0  M Mar    32\n",
       "1  Lucia    36\n",
       "2   Jose    24\n",
       "3    Eva    40"
      ],
      "text/html": [
       "<div>\n",
       "<style scoped>\n",
       "    .dataframe tbody tr th:only-of-type {\n",
       "        vertical-align: middle;\n",
       "    }\n",
       "\n",
       "    .dataframe tbody tr th {\n",
       "        vertical-align: top;\n",
       "    }\n",
       "\n",
       "    .dataframe thead th {\n",
       "        text-align: right;\n",
       "    }\n",
       "</style>\n",
       "<table border=\"1\" class=\"dataframe\">\n",
       "  <thead>\n",
       "    <tr style=\"text-align: right;\">\n",
       "      <th></th>\n",
       "      <th>Alumno</th>\n",
       "      <th>Nota</th>\n",
       "    </tr>\n",
       "  </thead>\n",
       "  <tbody>\n",
       "    <tr>\n",
       "      <th>0</th>\n",
       "      <td>M Mar</td>\n",
       "      <td>32</td>\n",
       "    </tr>\n",
       "    <tr>\n",
       "      <th>1</th>\n",
       "      <td>Lucia</td>\n",
       "      <td>36</td>\n",
       "    </tr>\n",
       "    <tr>\n",
       "      <th>2</th>\n",
       "      <td>Jose</td>\n",
       "      <td>24</td>\n",
       "    </tr>\n",
       "    <tr>\n",
       "      <th>3</th>\n",
       "      <td>Eva</td>\n",
       "      <td>40</td>\n",
       "    </tr>\n",
       "  </tbody>\n",
       "</table>\n",
       "</div>"
      ]
     },
     "execution_count": 77,
     "metadata": {},
     "output_type": "execute_result"
    }
   ],
   "execution_count": 77
  },
  {
   "metadata": {
    "ExecuteTime": {
     "end_time": "2025-04-18T22:14:19.534627Z",
     "start_time": "2025-04-18T22:14:19.529744Z"
    }
   },
   "cell_type": "code",
   "source": "df.min()",
   "id": "2c40bad5dabbf855",
   "outputs": [
    {
     "data": {
      "text/plain": [
       "Alumno    Eva\n",
       "Nota        6\n",
       "dtype: object"
      ]
     },
     "execution_count": 56,
     "metadata": {},
     "output_type": "execute_result"
    }
   ],
   "execution_count": 56
  },
  {
   "metadata": {
    "ExecuteTime": {
     "end_time": "2025-04-18T22:14:27.195975Z",
     "start_time": "2025-04-18T22:14:27.189850Z"
    }
   },
   "cell_type": "code",
   "source": "df.max()",
   "id": "84ca065283c19ac5",
   "outputs": [
    {
     "data": {
      "text/plain": [
       "Alumno    M Mar\n",
       "Nota         10\n",
       "dtype: object"
      ]
     },
     "execution_count": 57,
     "metadata": {},
     "output_type": "execute_result"
    }
   ],
   "execution_count": 57
  },
  {
   "metadata": {
    "ExecuteTime": {
     "end_time": "2025-04-18T22:14:34.973307Z",
     "start_time": "2025-04-18T22:14:34.965574Z"
    }
   },
   "cell_type": "code",
   "source": "df.describe()",
   "id": "46bc3f58ea72cc65",
   "outputs": [
    {
     "data": {
      "text/plain": [
       "            Nota\n",
       "count   4.000000\n",
       "mean    8.250000\n",
       "std     1.707825\n",
       "min     6.000000\n",
       "25%     7.500000\n",
       "50%     8.500000\n",
       "75%     9.250000\n",
       "max    10.000000"
      ],
      "text/html": [
       "<div>\n",
       "<style scoped>\n",
       "    .dataframe tbody tr th:only-of-type {\n",
       "        vertical-align: middle;\n",
       "    }\n",
       "\n",
       "    .dataframe tbody tr th {\n",
       "        vertical-align: top;\n",
       "    }\n",
       "\n",
       "    .dataframe thead th {\n",
       "        text-align: right;\n",
       "    }\n",
       "</style>\n",
       "<table border=\"1\" class=\"dataframe\">\n",
       "  <thead>\n",
       "    <tr style=\"text-align: right;\">\n",
       "      <th></th>\n",
       "      <th>Nota</th>\n",
       "    </tr>\n",
       "  </thead>\n",
       "  <tbody>\n",
       "    <tr>\n",
       "      <th>count</th>\n",
       "      <td>4.000000</td>\n",
       "    </tr>\n",
       "    <tr>\n",
       "      <th>mean</th>\n",
       "      <td>8.250000</td>\n",
       "    </tr>\n",
       "    <tr>\n",
       "      <th>std</th>\n",
       "      <td>1.707825</td>\n",
       "    </tr>\n",
       "    <tr>\n",
       "      <th>min</th>\n",
       "      <td>6.000000</td>\n",
       "    </tr>\n",
       "    <tr>\n",
       "      <th>25%</th>\n",
       "      <td>7.500000</td>\n",
       "    </tr>\n",
       "    <tr>\n",
       "      <th>50%</th>\n",
       "      <td>8.500000</td>\n",
       "    </tr>\n",
       "    <tr>\n",
       "      <th>75%</th>\n",
       "      <td>9.250000</td>\n",
       "    </tr>\n",
       "    <tr>\n",
       "      <th>max</th>\n",
       "      <td>10.000000</td>\n",
       "    </tr>\n",
       "  </tbody>\n",
       "</table>\n",
       "</div>"
      ]
     },
     "execution_count": 58,
     "metadata": {},
     "output_type": "execute_result"
    }
   ],
   "execution_count": 58
  },
  {
   "metadata": {
    "ExecuteTime": {
     "end_time": "2025-04-18T22:19:56.454412Z",
     "start_time": "2025-04-18T22:19:56.449615Z"
    }
   },
   "cell_type": "code",
   "source": [
    "#para sacar la media\n",
    "df['Nota'].mean()"
   ],
   "id": "f1b36c6a53201937",
   "outputs": [
    {
     "data": {
      "text/plain": [
       "np.float64(8.25)"
      ]
     },
     "execution_count": 67,
     "metadata": {},
     "output_type": "execute_result"
    }
   ],
   "execution_count": 67
  },
  {
   "metadata": {
    "ExecuteTime": {
     "end_time": "2025-04-18T22:20:38.920875Z",
     "start_time": "2025-04-18T22:20:38.916636Z"
    }
   },
   "cell_type": "code",
   "source": [
    "#para sacar la mediana\n",
    "df['Nota'].median()"
   ],
   "id": "6a5ac5413099ef01",
   "outputs": [
    {
     "data": {
      "text/plain": [
       "np.float64(8.5)"
      ]
     },
     "execution_count": 68,
     "metadata": {},
     "output_type": "execute_result"
    }
   ],
   "execution_count": 68
  },
  {
   "metadata": {},
   "cell_type": "markdown",
   "source": "Aplicacion de funciones",
   "id": "99c31d6bc1b18908"
  },
  {
   "metadata": {
    "ExecuteTime": {
     "end_time": "2025-04-18T22:32:21.045920Z",
     "start_time": "2025-04-18T22:32:21.042789Z"
    }
   },
   "cell_type": "code",
   "source": "multiplica_por_dos=lambda x: x*2\n",
   "id": "4693dabb4df9240a",
   "outputs": [],
   "execution_count": 85
  },
  {
   "metadata": {
    "ExecuteTime": {
     "end_time": "2025-04-18T22:32:27.136621Z",
     "start_time": "2025-04-18T22:32:27.131191Z"
    }
   },
   "cell_type": "code",
   "source": "df['Nota'].apply(multiplica_por_dos)\n",
   "id": "cda0dc8412498026",
   "outputs": [
    {
     "data": {
      "text/plain": [
       "0    164\n",
       "1    172\n",
       "2    148\n",
       "3    180\n",
       "Name: Nota, dtype: int64"
      ]
     },
     "execution_count": 88,
     "metadata": {},
     "output_type": "execute_result"
    }
   ],
   "execution_count": 88
  },
  {
   "metadata": {
    "ExecuteTime": {
     "end_time": "2025-04-18T22:32:32.360816Z",
     "start_time": "2025-04-18T22:32:32.354995Z"
    }
   },
   "cell_type": "code",
   "source": [
    "df['Nota']=df['Nota']+25\n",
    "df"
   ],
   "id": "27c385307b8fc743",
   "outputs": [
    {
     "data": {
      "text/plain": [
       "  Alumno  Nota\n",
       "0  M Mar   107\n",
       "1  Lucia   111\n",
       "2   Jose    99\n",
       "3    Eva   115"
      ],
      "text/html": [
       "<div>\n",
       "<style scoped>\n",
       "    .dataframe tbody tr th:only-of-type {\n",
       "        vertical-align: middle;\n",
       "    }\n",
       "\n",
       "    .dataframe tbody tr th {\n",
       "        vertical-align: top;\n",
       "    }\n",
       "\n",
       "    .dataframe thead th {\n",
       "        text-align: right;\n",
       "    }\n",
       "</style>\n",
       "<table border=\"1\" class=\"dataframe\">\n",
       "  <thead>\n",
       "    <tr style=\"text-align: right;\">\n",
       "      <th></th>\n",
       "      <th>Alumno</th>\n",
       "      <th>Nota</th>\n",
       "    </tr>\n",
       "  </thead>\n",
       "  <tbody>\n",
       "    <tr>\n",
       "      <th>0</th>\n",
       "      <td>M Mar</td>\n",
       "      <td>107</td>\n",
       "    </tr>\n",
       "    <tr>\n",
       "      <th>1</th>\n",
       "      <td>Lucia</td>\n",
       "      <td>111</td>\n",
       "    </tr>\n",
       "    <tr>\n",
       "      <th>2</th>\n",
       "      <td>Jose</td>\n",
       "      <td>99</td>\n",
       "    </tr>\n",
       "    <tr>\n",
       "      <th>3</th>\n",
       "      <td>Eva</td>\n",
       "      <td>115</td>\n",
       "    </tr>\n",
       "  </tbody>\n",
       "</table>\n",
       "</div>"
      ]
     },
     "execution_count": 89,
     "metadata": {},
     "output_type": "execute_result"
    }
   ],
   "execution_count": 89
  },
  {
   "metadata": {
    "ExecuteTime": {
     "end_time": "2025-04-18T22:33:01.940167Z",
     "start_time": "2025-04-18T22:33:01.937247Z"
    }
   },
   "cell_type": "code",
   "source": "cuadrado = lambda x : x**2",
   "id": "4651b623590d217e",
   "outputs": [],
   "execution_count": 90
  },
  {
   "metadata": {
    "ExecuteTime": {
     "end_time": "2025-04-18T22:33:04.853901Z",
     "start_time": "2025-04-18T22:33:04.847355Z"
    }
   },
   "cell_type": "code",
   "source": [
    "df['Nota']=df['Nota'].apply(cuadrado)\n",
    "df"
   ],
   "id": "9db15254b1a753d3",
   "outputs": [
    {
     "data": {
      "text/plain": [
       "  Alumno   Nota\n",
       "0  M Mar  11449\n",
       "1  Lucia  12321\n",
       "2   Jose   9801\n",
       "3    Eva  13225"
      ],
      "text/html": [
       "<div>\n",
       "<style scoped>\n",
       "    .dataframe tbody tr th:only-of-type {\n",
       "        vertical-align: middle;\n",
       "    }\n",
       "\n",
       "    .dataframe tbody tr th {\n",
       "        vertical-align: top;\n",
       "    }\n",
       "\n",
       "    .dataframe thead th {\n",
       "        text-align: right;\n",
       "    }\n",
       "</style>\n",
       "<table border=\"1\" class=\"dataframe\">\n",
       "  <thead>\n",
       "    <tr style=\"text-align: right;\">\n",
       "      <th></th>\n",
       "      <th>Alumno</th>\n",
       "      <th>Nota</th>\n",
       "    </tr>\n",
       "  </thead>\n",
       "  <tbody>\n",
       "    <tr>\n",
       "      <th>0</th>\n",
       "      <td>M Mar</td>\n",
       "      <td>11449</td>\n",
       "    </tr>\n",
       "    <tr>\n",
       "      <th>1</th>\n",
       "      <td>Lucia</td>\n",
       "      <td>12321</td>\n",
       "    </tr>\n",
       "    <tr>\n",
       "      <th>2</th>\n",
       "      <td>Jose</td>\n",
       "      <td>9801</td>\n",
       "    </tr>\n",
       "    <tr>\n",
       "      <th>3</th>\n",
       "      <td>Eva</td>\n",
       "      <td>13225</td>\n",
       "    </tr>\n",
       "  </tbody>\n",
       "</table>\n",
       "</div>"
      ]
     },
     "execution_count": 91,
     "metadata": {},
     "output_type": "execute_result"
    }
   ],
   "execution_count": 91
  }
 ],
 "metadata": {
  "kernelspec": {
   "display_name": "Python 3",
   "language": "python",
   "name": "python3"
  },
  "language_info": {
   "codemirror_mode": {
    "name": "ipython",
    "version": 2
   },
   "file_extension": ".py",
   "mimetype": "text/x-python",
   "name": "python",
   "nbconvert_exporter": "python",
   "pygments_lexer": "ipython2",
   "version": "2.7.6"
  }
 },
 "nbformat": 4,
 "nbformat_minor": 5
}
