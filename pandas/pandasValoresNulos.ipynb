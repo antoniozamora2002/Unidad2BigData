{
 "nbformat": 4,
 "nbformat_minor": 0,
 "metadata": {
  "colab": {
   "provenance": [],
   "collapsed_sections": []
  },
  "kernelspec": {
   "name": "python3",
   "display_name": "Python 3 (ipykernel)",
   "language": "python"
  },
  "language_info": {
   "name": "python"
  }
 },
 "cells": [
  {
   "cell_type": "code",
   "metadata": {
    "id": "8I1g3SlsSKFV",
    "ExecuteTime": {
     "end_time": "2025-04-18T23:46:28.821070Z",
     "start_time": "2025-04-18T23:46:28.542907Z"
    }
   },
   "source": [
    "import pandas as pd"
   ],
   "outputs": [],
   "execution_count": 1
  },
  {
   "cell_type": "code",
   "source": [
    "def cargar():\n",
    "  datos = pd.read_csv('titanic.csv')\n",
    "  return datos\n",
    "#datos.head(3)"
   ],
   "metadata": {
    "id": "fBVC2pNASPrV",
    "ExecuteTime": {
     "end_time": "2025-04-18T23:46:31.925537Z",
     "start_time": "2025-04-18T23:46:31.922942Z"
    }
   },
   "outputs": [],
   "execution_count": 2
  },
  {
   "cell_type": "code",
   "source": [
    "df=cargar()\n",
    "df.isnull()"
   ],
   "metadata": {
    "colab": {
     "base_uri": "https://localhost:8080/",
     "height": 424
    },
    "id": "b7fPOS2LS4xc",
    "outputId": "77227d3a-5b10-4b84-9da1-df0517d15181",
    "ExecuteTime": {
     "end_time": "2025-04-18T23:46:33.484077Z",
     "start_time": "2025-04-18T23:46:33.461345Z"
    }
   },
   "outputs": [
    {
     "data": {
      "text/plain": [
       "     PassengerId  Survived  Pclass   Name    Sex    Age  SibSp  Parch  Ticket  \\\n",
       "0          False     False   False  False  False  False  False  False   False   \n",
       "1          False     False   False  False  False  False  False  False   False   \n",
       "2          False     False   False  False  False  False  False  False   False   \n",
       "3          False     False   False  False  False  False  False  False   False   \n",
       "4          False     False   False  False  False  False  False  False   False   \n",
       "..           ...       ...     ...    ...    ...    ...    ...    ...     ...   \n",
       "886        False     False   False  False  False  False  False  False   False   \n",
       "887        False     False   False  False  False  False  False  False   False   \n",
       "888        False     False   False  False  False   True  False  False   False   \n",
       "889        False     False   False  False  False  False  False  False   False   \n",
       "890        False     False   False  False  False  False  False  False   False   \n",
       "\n",
       "      Fare  Cabin  Embarked  \n",
       "0    False   True     False  \n",
       "1    False  False     False  \n",
       "2    False   True     False  \n",
       "3    False  False     False  \n",
       "4    False   True     False  \n",
       "..     ...    ...       ...  \n",
       "886  False   True     False  \n",
       "887  False  False     False  \n",
       "888  False   True     False  \n",
       "889  False  False     False  \n",
       "890  False   True     False  \n",
       "\n",
       "[891 rows x 12 columns]"
      ],
      "text/html": [
       "<div>\n",
       "<style scoped>\n",
       "    .dataframe tbody tr th:only-of-type {\n",
       "        vertical-align: middle;\n",
       "    }\n",
       "\n",
       "    .dataframe tbody tr th {\n",
       "        vertical-align: top;\n",
       "    }\n",
       "\n",
       "    .dataframe thead th {\n",
       "        text-align: right;\n",
       "    }\n",
       "</style>\n",
       "<table border=\"1\" class=\"dataframe\">\n",
       "  <thead>\n",
       "    <tr style=\"text-align: right;\">\n",
       "      <th></th>\n",
       "      <th>PassengerId</th>\n",
       "      <th>Survived</th>\n",
       "      <th>Pclass</th>\n",
       "      <th>Name</th>\n",
       "      <th>Sex</th>\n",
       "      <th>Age</th>\n",
       "      <th>SibSp</th>\n",
       "      <th>Parch</th>\n",
       "      <th>Ticket</th>\n",
       "      <th>Fare</th>\n",
       "      <th>Cabin</th>\n",
       "      <th>Embarked</th>\n",
       "    </tr>\n",
       "  </thead>\n",
       "  <tbody>\n",
       "    <tr>\n",
       "      <th>0</th>\n",
       "      <td>False</td>\n",
       "      <td>False</td>\n",
       "      <td>False</td>\n",
       "      <td>False</td>\n",
       "      <td>False</td>\n",
       "      <td>False</td>\n",
       "      <td>False</td>\n",
       "      <td>False</td>\n",
       "      <td>False</td>\n",
       "      <td>False</td>\n",
       "      <td>True</td>\n",
       "      <td>False</td>\n",
       "    </tr>\n",
       "    <tr>\n",
       "      <th>1</th>\n",
       "      <td>False</td>\n",
       "      <td>False</td>\n",
       "      <td>False</td>\n",
       "      <td>False</td>\n",
       "      <td>False</td>\n",
       "      <td>False</td>\n",
       "      <td>False</td>\n",
       "      <td>False</td>\n",
       "      <td>False</td>\n",
       "      <td>False</td>\n",
       "      <td>False</td>\n",
       "      <td>False</td>\n",
       "    </tr>\n",
       "    <tr>\n",
       "      <th>2</th>\n",
       "      <td>False</td>\n",
       "      <td>False</td>\n",
       "      <td>False</td>\n",
       "      <td>False</td>\n",
       "      <td>False</td>\n",
       "      <td>False</td>\n",
       "      <td>False</td>\n",
       "      <td>False</td>\n",
       "      <td>False</td>\n",
       "      <td>False</td>\n",
       "      <td>True</td>\n",
       "      <td>False</td>\n",
       "    </tr>\n",
       "    <tr>\n",
       "      <th>3</th>\n",
       "      <td>False</td>\n",
       "      <td>False</td>\n",
       "      <td>False</td>\n",
       "      <td>False</td>\n",
       "      <td>False</td>\n",
       "      <td>False</td>\n",
       "      <td>False</td>\n",
       "      <td>False</td>\n",
       "      <td>False</td>\n",
       "      <td>False</td>\n",
       "      <td>False</td>\n",
       "      <td>False</td>\n",
       "    </tr>\n",
       "    <tr>\n",
       "      <th>4</th>\n",
       "      <td>False</td>\n",
       "      <td>False</td>\n",
       "      <td>False</td>\n",
       "      <td>False</td>\n",
       "      <td>False</td>\n",
       "      <td>False</td>\n",
       "      <td>False</td>\n",
       "      <td>False</td>\n",
       "      <td>False</td>\n",
       "      <td>False</td>\n",
       "      <td>True</td>\n",
       "      <td>False</td>\n",
       "    </tr>\n",
       "    <tr>\n",
       "      <th>...</th>\n",
       "      <td>...</td>\n",
       "      <td>...</td>\n",
       "      <td>...</td>\n",
       "      <td>...</td>\n",
       "      <td>...</td>\n",
       "      <td>...</td>\n",
       "      <td>...</td>\n",
       "      <td>...</td>\n",
       "      <td>...</td>\n",
       "      <td>...</td>\n",
       "      <td>...</td>\n",
       "      <td>...</td>\n",
       "    </tr>\n",
       "    <tr>\n",
       "      <th>886</th>\n",
       "      <td>False</td>\n",
       "      <td>False</td>\n",
       "      <td>False</td>\n",
       "      <td>False</td>\n",
       "      <td>False</td>\n",
       "      <td>False</td>\n",
       "      <td>False</td>\n",
       "      <td>False</td>\n",
       "      <td>False</td>\n",
       "      <td>False</td>\n",
       "      <td>True</td>\n",
       "      <td>False</td>\n",
       "    </tr>\n",
       "    <tr>\n",
       "      <th>887</th>\n",
       "      <td>False</td>\n",
       "      <td>False</td>\n",
       "      <td>False</td>\n",
       "      <td>False</td>\n",
       "      <td>False</td>\n",
       "      <td>False</td>\n",
       "      <td>False</td>\n",
       "      <td>False</td>\n",
       "      <td>False</td>\n",
       "      <td>False</td>\n",
       "      <td>False</td>\n",
       "      <td>False</td>\n",
       "    </tr>\n",
       "    <tr>\n",
       "      <th>888</th>\n",
       "      <td>False</td>\n",
       "      <td>False</td>\n",
       "      <td>False</td>\n",
       "      <td>False</td>\n",
       "      <td>False</td>\n",
       "      <td>True</td>\n",
       "      <td>False</td>\n",
       "      <td>False</td>\n",
       "      <td>False</td>\n",
       "      <td>False</td>\n",
       "      <td>True</td>\n",
       "      <td>False</td>\n",
       "    </tr>\n",
       "    <tr>\n",
       "      <th>889</th>\n",
       "      <td>False</td>\n",
       "      <td>False</td>\n",
       "      <td>False</td>\n",
       "      <td>False</td>\n",
       "      <td>False</td>\n",
       "      <td>False</td>\n",
       "      <td>False</td>\n",
       "      <td>False</td>\n",
       "      <td>False</td>\n",
       "      <td>False</td>\n",
       "      <td>False</td>\n",
       "      <td>False</td>\n",
       "    </tr>\n",
       "    <tr>\n",
       "      <th>890</th>\n",
       "      <td>False</td>\n",
       "      <td>False</td>\n",
       "      <td>False</td>\n",
       "      <td>False</td>\n",
       "      <td>False</td>\n",
       "      <td>False</td>\n",
       "      <td>False</td>\n",
       "      <td>False</td>\n",
       "      <td>False</td>\n",
       "      <td>False</td>\n",
       "      <td>True</td>\n",
       "      <td>False</td>\n",
       "    </tr>\n",
       "  </tbody>\n",
       "</table>\n",
       "<p>891 rows × 12 columns</p>\n",
       "</div>"
      ]
     },
     "execution_count": 3,
     "metadata": {},
     "output_type": "execute_result"
    }
   ],
   "execution_count": 3
  },
  {
   "cell_type": "code",
   "source": [
    "#Eliminar filas que tienen al menos 1 valor faltante\n",
    "df=cargar()\n",
    "print(df.sample(4))\n",
    "print(df.shape)\n",
    "print('*'*50)\n",
    "df=df.dropna()\n",
    "print(df.sample(4))\n",
    "print(df.shape)\n",
    "print('*'*50)"
   ],
   "metadata": {
    "colab": {
     "base_uri": "https://localhost:8080/"
    },
    "id": "3vWHich1XRkZ",
    "outputId": "b63b17f2-b66c-40cd-c060-aba79eef6c3a",
    "ExecuteTime": {
     "end_time": "2025-04-18T23:47:11.272785Z",
     "start_time": "2025-04-18T23:47:11.257169Z"
    }
   },
   "outputs": [
    {
     "name": "stdout",
     "output_type": "stream",
     "text": [
      "     PassengerId  Survived  Pclass  \\\n",
      "15            16         1       2   \n",
      "270          271         0       1   \n",
      "793          794         0       1   \n",
      "710          711         1       1   \n",
      "\n",
      "                                                 Name     Sex   Age  SibSp  \\\n",
      "15                   Hewlett, Mrs. (Mary D Kingcome)   female  55.0      0   \n",
      "270                             Cairns, Mr. Alexander    male   NaN      0   \n",
      "793                          Hoyt, Mr. William Fisher    male   NaN      0   \n",
      "710  Mayne, Mlle. Berthe Antonine (\"Mrs de Villiers\")  female  24.0      0   \n",
      "\n",
      "     Parch    Ticket     Fare Cabin Embarked  \n",
      "15       0    248706  16.0000   NaN        S  \n",
      "270      0    113798  31.0000   NaN        S  \n",
      "793      0  PC 17600  30.6958   NaN        C  \n",
      "710      0  PC 17482  49.5042   C90        C  \n",
      "(891, 12)\n",
      "**************************************************\n",
      "     PassengerId  Survived  Pclass  \\\n",
      "577          578         1       1   \n",
      "21            22         1       2   \n",
      "879          880         1       1   \n",
      "523          524         1       1   \n",
      "\n",
      "                                                Name     Sex   Age  SibSp  \\\n",
      "577        Silvey, Mrs. William Baird (Alice Munger)  female  39.0      1   \n",
      "21                             Beesley, Mr. Lawrence    male  34.0      0   \n",
      "879    Potter, Mrs. Thomas Jr (Lily Alexenia Wilson)  female  56.0      0   \n",
      "523  Hippach, Mrs. Louis Albert (Ida Sophia Fischer)  female  44.0      0   \n",
      "\n",
      "     Parch  Ticket     Fare Cabin Embarked  \n",
      "577      0   13507  55.9000   E44        S  \n",
      "21       0  248698  13.0000   D56        S  \n",
      "879      1   11767  83.1583   C50        C  \n",
      "523      1  111361  57.9792   B18        C  \n",
      "(183, 12)\n",
      "**************************************************\n"
     ]
    }
   ],
   "execution_count": 4
  },
  {
   "cell_type": "code",
   "source": [
    "#Eliminar columnas que tienen al menos 1 valor faltante\n",
    "df=cargar()\n",
    "print(df.sample(4))\n",
    "print(df.shape)\n",
    "print('*'*50)\n",
    "df=df.dropna(axis=1)\n",
    "print(df.sample(4))\n",
    "print(df.shape)\n",
    "print('*'*50)"
   ],
   "metadata": {
    "colab": {
     "base_uri": "https://localhost:8080/"
    },
    "id": "DfqRuEIRXtoH",
    "outputId": "9ddaa4ba-50f2-4b6d-8b51-9ba052688482",
    "ExecuteTime": {
     "end_time": "2025-04-18T23:47:13.522321Z",
     "start_time": "2025-04-18T23:47:13.508810Z"
    }
   },
   "outputs": [
    {
     "name": "stdout",
     "output_type": "stream",
     "text": [
      "     PassengerId  Survived  Pclass                               Name     Sex  \\\n",
      "613          614         0       3                   Horgan, Mr. John    male   \n",
      "471          472         0       3                    Cacic, Mr. Luka    male   \n",
      "273          274         0       1              Natsch, Mr. Charles H    male   \n",
      "720          721         1       2  Harper, Miss. Annie Jessie \"Nina\"  female   \n",
      "\n",
      "      Age  SibSp  Parch    Ticket     Fare Cabin Embarked  \n",
      "613   NaN      0      0    370377   7.7500   NaN        Q  \n",
      "471  38.0      0      0    315089   8.6625   NaN        S  \n",
      "273  37.0      0      1  PC 17596  29.7000  C118        C  \n",
      "720   6.0      0      1    248727  33.0000   NaN        S  \n",
      "(891, 12)\n",
      "**************************************************\n",
      "     PassengerId  Survived  Pclass                                       Name  \\\n",
      "279          280         1       3           Abbott, Mrs. Stanton (Rosa Hunt)   \n",
      "411          412         0       3                            Hart, Mr. Henry   \n",
      "194          195         1       1  Brown, Mrs. James Joseph (Margaret Tobin)   \n",
      "582          583         0       2                 Downton, Mr. William James   \n",
      "\n",
      "        Sex  SibSp  Parch     Ticket     Fare  \n",
      "279  female      1      1  C.A. 2673  20.2500  \n",
      "411    male      0      0     394140   6.8583  \n",
      "194  female      0      0   PC 17610  27.7208  \n",
      "582    male      0      0      28403  26.0000  \n",
      "(891, 9)\n",
      "**************************************************\n"
     ]
    }
   ],
   "execution_count": 5
  },
  {
   "cell_type": "code",
   "source": [
    "df.columns"
   ],
   "metadata": {
    "colab": {
     "base_uri": "https://localhost:8080/"
    },
    "id": "-ewrzY9qYX-e",
    "outputId": "f48211ac-26fd-4ff3-bb06-f4d82e28fcd9",
    "ExecuteTime": {
     "end_time": "2025-04-18T23:47:15.421824Z",
     "start_time": "2025-04-18T23:47:15.416049Z"
    }
   },
   "outputs": [
    {
     "data": {
      "text/plain": [
       "Index(['PassengerId', 'Survived', 'Pclass', 'Name', 'Sex', 'SibSp', 'Parch',\n",
       "       'Ticket', 'Fare'],\n",
       "      dtype='object')"
      ]
     },
     "execution_count": 6,
     "metadata": {},
     "output_type": "execute_result"
    }
   ],
   "execution_count": 6
  },
  {
   "cell_type": "code",
   "source": [
    "#Eliminar solo cuando todos sus valores son nulos\n",
    "df=cargar()\n",
    "print(df.sample(4))\n",
    "print(df.shape)\n",
    "print('*'*50)\n",
    "df=df.dropna(axis=0,how='all')#para columnas axis=1\n",
    "print(df.sample(4))\n",
    "print(df.shape)\n",
    "print('*'*50)"
   ],
   "metadata": {
    "colab": {
     "base_uri": "https://localhost:8080/"
    },
    "id": "5I8ceLxjYhAA",
    "outputId": "d5a9fe99-5788-4308-d4d5-c8af5a8b2974",
    "ExecuteTime": {
     "end_time": "2025-04-18T23:47:17.144953Z",
     "start_time": "2025-04-18T23:47:17.131653Z"
    }
   },
   "outputs": [
    {
     "name": "stdout",
     "output_type": "stream",
     "text": [
      "     PassengerId  Survived  Pclass                          Name     Sex  \\\n",
      "353          354         0       3     Arnold-Franchi, Mr. Josef    male   \n",
      "787          788         0       3     Rice, Master. George Hugh    male   \n",
      "66            67         1       2  Nye, Mrs. (Elizabeth Ramell)  female   \n",
      "160          161         0       3      Cribb, Mr. John Hatfield    male   \n",
      "\n",
      "      Age  SibSp  Parch      Ticket    Fare Cabin Embarked  \n",
      "353  25.0      1      0      349237  17.800   NaN        S  \n",
      "787   8.0      4      1      382652  29.125   NaN        Q  \n",
      "66   29.0      0      0  C.A. 29395  10.500   F33        S  \n",
      "160  44.0      0      1      371362  16.100   NaN        S  \n",
      "(891, 12)\n",
      "**************************************************\n",
      "     PassengerId  Survived  Pclass  \\\n",
      "498          499         0       1   \n",
      "30            31         0       1   \n",
      "830          831         1       3   \n",
      "431          432         1       3   \n",
      "\n",
      "                                                  Name     Sex   Age  SibSp  \\\n",
      "498    Allison, Mrs. Hudson J C (Bessie Waldo Daniels)  female  25.0      1   \n",
      "30                            Uruchurtu, Don. Manuel E    male  40.0      0   \n",
      "830            Yasbeck, Mrs. Antoni (Selini Alexander)  female  15.0      1   \n",
      "431  Thorneycroft, Mrs. Percival (Florence Kate White)  female   NaN      1   \n",
      "\n",
      "     Parch    Ticket      Fare    Cabin Embarked  \n",
      "498      2    113781  151.5500  C22 C26        S  \n",
      "30       0  PC 17601   27.7208      NaN        C  \n",
      "830      0      2659   14.4542      NaN        C  \n",
      "431      0    376564   16.1000      NaN        S  \n",
      "(891, 12)\n",
      "**************************************************\n"
     ]
    }
   ],
   "execution_count": 7
  },
  {
   "cell_type": "code",
   "source": [
    "#Eliminar si tiene al menos 2 faltantes\n",
    "df=cargar()\n",
    "print(df.sample(4))\n",
    "print(df.shape)\n",
    "print('*'*50)\n",
    "df=df.dropna(axis=0,thresh=2)\n",
    "print(df.sample(4))\n",
    "print(df.shape)\n",
    "print('*'*50)"
   ],
   "metadata": {
    "colab": {
     "base_uri": "https://localhost:8080/"
    },
    "id": "mRze9AvHYvYJ",
    "outputId": "afc3fac0-cb62-4372-a385-5b1062b25ae3",
    "ExecuteTime": {
     "end_time": "2025-04-18T23:47:19.030362Z",
     "start_time": "2025-04-18T23:47:19.017661Z"
    }
   },
   "outputs": [
    {
     "name": "stdout",
     "output_type": "stream",
     "text": [
      "     PassengerId  Survived  Pclass                             Name   Sex  \\\n",
      "196          197         0       3              Mernagh, Mr. Robert  male   \n",
      "497          498         0       3  Shellard, Mr. Frederick William  male   \n",
      "873          874         0       3      Vander Cruyssen, Mr. Victor  male   \n",
      "17            18         1       2     Williams, Mr. Charles Eugene  male   \n",
      "\n",
      "      Age  SibSp  Parch     Ticket   Fare Cabin Embarked  \n",
      "196   NaN      0      0     368703   7.75   NaN        Q  \n",
      "497   NaN      0      0  C.A. 6212  15.10   NaN        S  \n",
      "873  47.0      0      0     345765   9.00   NaN        S  \n",
      "17    NaN      0      0     244373  13.00   NaN        S  \n",
      "(891, 12)\n",
      "**************************************************\n",
      "     PassengerId  Survived  Pclass                              Name     Sex  \\\n",
      "385          386         0       2         Davies, Mr. Charles Henry    male   \n",
      "769          770         0       3  Gronnestad, Mr. Daniel Danielsen    male   \n",
      "63            64         0       3             Skoog, Master. Harald    male   \n",
      "823          824         1       3                Moor, Mrs. (Beila)  female   \n",
      "\n",
      "      Age  SibSp  Parch        Ticket     Fare Cabin Embarked  \n",
      "385  18.0      0      0  S.O.C. 14879  73.5000   NaN        S  \n",
      "769  32.0      0      0          8471   8.3625   NaN        S  \n",
      "63    4.0      3      2        347088  27.9000   NaN        S  \n",
      "823  27.0      0      1        392096  12.4750  E121        S  \n",
      "(891, 12)\n",
      "**************************************************\n"
     ]
    }
   ],
   "execution_count": 8
  },
  {
   "cell_type": "code",
   "source": [
    "#Eliminar por columna especifica o dada\n",
    "df=cargar()\n",
    "print(df.sample(4))\n",
    "print(df.shape)\n",
    "print('*'*50)\n",
    "df=df.dropna(subset=['Cabin'])\n",
    "print(df.sample(4))\n",
    "print(df.shape)\n",
    "print('*'*50)"
   ],
   "metadata": {
    "colab": {
     "base_uri": "https://localhost:8080/"
    },
    "id": "JferVHx3ZFDz",
    "outputId": "a4867fbb-f63f-4330-d44c-a381f984bca2",
    "ExecuteTime": {
     "end_time": "2025-04-18T23:47:22.133324Z",
     "start_time": "2025-04-18T23:47:22.119652Z"
    }
   },
   "outputs": [
    {
     "name": "stdout",
     "output_type": "stream",
     "text": [
      "     PassengerId  Survived  Pclass  \\\n",
      "792          793         0       3   \n",
      "712          713         1       1   \n",
      "710          711         1       1   \n",
      "881          882         0       3   \n",
      "\n",
      "                                                 Name     Sex   Age  SibSp  \\\n",
      "792                           Sage, Miss. Stella Anna  female   NaN      8   \n",
      "712                          Taylor, Mr. Elmer Zebley    male  48.0      1   \n",
      "710  Mayne, Mlle. Berthe Antonine (\"Mrs de Villiers\")  female  24.0      0   \n",
      "881                                Markun, Mr. Johann    male  33.0      0   \n",
      "\n",
      "     Parch    Ticket     Fare Cabin Embarked  \n",
      "792      2  CA. 2343  69.5500   NaN        S  \n",
      "712      0     19996  52.0000  C126        S  \n",
      "710      0  PC 17482  49.5042   C90        C  \n",
      "881      0    349257   7.8958   NaN        S  \n",
      "(891, 12)\n",
      "**************************************************\n",
      "     PassengerId  Survived  Pclass  \\\n",
      "298          299         1       1   \n",
      "679          680         1       1   \n",
      "645          646         1       1   \n",
      "849          850         1       1   \n",
      "\n",
      "                                             Name     Sex   Age  SibSp  Parch  \\\n",
      "298                         Saalfeld, Mr. Adolphe    male   NaN      0      0   \n",
      "679            Cardeza, Mr. Thomas Drake Martinez    male  36.0      0      1   \n",
      "645                     Harper, Mr. Henry Sleeper    male  48.0      1      0   \n",
      "849  Goldenberg, Mrs. Samuel L (Edwiga Grabowska)  female   NaN      1      0   \n",
      "\n",
      "       Ticket      Fare        Cabin Embarked  \n",
      "298     19988   30.5000         C106        S  \n",
      "679  PC 17755  512.3292  B51 B53 B55        C  \n",
      "645  PC 17572   76.7292          D33        C  \n",
      "849     17453   89.1042          C92        C  \n",
      "(204, 12)\n",
      "**************************************************\n"
     ]
    }
   ],
   "execution_count": 9
  },
  {
   "cell_type": "code",
   "source": [
    "#Sustituimos por valor indicado 0\n",
    "df=cargar()\n",
    "print(df.sample(4))\n",
    "print(df.shape)\n",
    "print('*'*50)\n",
    "df.fillna(0,inplace=True)\n",
    "print(df.sample(4))\n",
    "print(df.shape)\n",
    "print('*'*50)"
   ],
   "metadata": {
    "colab": {
     "base_uri": "https://localhost:8080/"
    },
    "id": "HTfnUm_GZSTZ",
    "outputId": "cc505f65-85e4-4bb5-b549-35fbffa68260",
    "ExecuteTime": {
     "end_time": "2025-04-19T00:00:42.494198Z",
     "start_time": "2025-04-19T00:00:42.479628Z"
    }
   },
   "outputs": [
    {
     "name": "stdout",
     "output_type": "stream",
     "text": [
      "     PassengerId  Survived  Pclass                                   Name  \\\n",
      "665          666         0       2                     Hickman, Mr. Lewis   \n",
      "69            70         0       3                      Kink, Mr. Vincenz   \n",
      "312          313         0       2  Lahtinen, Mrs. William (Anna Sylfven)   \n",
      "656          657         0       3                  Radeff, Mr. Alexander   \n",
      "\n",
      "        Sex   Age  SibSp  Parch        Ticket     Fare Cabin Embarked  \n",
      "665    male  32.0      2      0  S.O.C. 14879  73.5000   NaN        S  \n",
      "69     male  26.0      2      0        315151   8.6625   NaN        S  \n",
      "312  female  26.0      1      1        250651  26.0000   NaN        S  \n",
      "656    male   NaN      0      0        349223   7.8958   NaN        S  \n",
      "(891, 12)\n",
      "**************************************************\n",
      "     PassengerId  Survived  Pclass  \\\n",
      "613          614         0       3   \n",
      "571          572         1       1   \n",
      "197          198         0       3   \n",
      "200          201         0       3   \n",
      "\n",
      "                                              Name     Sex   Age  SibSp  \\\n",
      "613                               Horgan, Mr. John    male   0.0      0   \n",
      "571  Appleton, Mrs. Edward Dale (Charlotte Lamson)  female  53.0      2   \n",
      "197               Olsen, Mr. Karl Siegwart Andreas    male  42.0      0   \n",
      "200                 Vande Walle, Mr. Nestor Cyriel    male  28.0      0   \n",
      "\n",
      "     Parch  Ticket     Fare Cabin Embarked  \n",
      "613      0  370377   7.7500     0        Q  \n",
      "571      0   11769  51.4792  C101        S  \n",
      "197      1    4579   8.4042     0        S  \n",
      "200      0  345770   9.5000     0        S  \n",
      "(891, 12)\n",
      "**************************************************\n"
     ]
    }
   ],
   "execution_count": 15
  },
  {
   "cell_type": "code",
   "source": [
    "#Sustituimos con valor anterior\n",
    "df=cargar()\n",
    "print(df.sample(4))\n",
    "print(df.shape)\n",
    "print('*'*50)\n",
    "df.fillna(method='bfill',inplace=True)\n",
    "print(df.sample(4))\n",
    "print(df.shape)\n",
    "print('*'*50)"
   ],
   "metadata": {
    "colab": {
     "base_uri": "https://localhost:8080/"
    },
    "id": "euKriW5raI5f",
    "outputId": "0f71e9eb-c262-4392-d5af-0903fde25353",
    "ExecuteTime": {
     "end_time": "2025-04-18T23:47:42.442579Z",
     "start_time": "2025-04-18T23:47:42.425135Z"
    }
   },
   "outputs": [
    {
     "name": "stdout",
     "output_type": "stream",
     "text": [
      "     PassengerId  Survived  Pclass                              Name     Sex  \\\n",
      "205          206         0       3        Strom, Miss. Telma Matilda  female   \n",
      "753          754         0       3                Jonkoff, Mr. Lalio    male   \n",
      "156          157         1       3  Gilnagh, Miss. Katherine \"Katie\"  female   \n",
      "731          732         0       3          Hassan, Mr. Houssein G N    male   \n",
      "\n",
      "      Age  SibSp  Parch  Ticket     Fare Cabin Embarked  \n",
      "205   2.0      0      1  347054  10.4625    G6        S  \n",
      "753  23.0      0      0  349204   7.8958   NaN        S  \n",
      "156  16.0      0      0   35851   7.7333   NaN        Q  \n",
      "731  11.0      0      0    2699  18.7875   NaN        C  \n",
      "(891, 12)\n",
      "**************************************************\n",
      "     PassengerId  Survived  Pclass                          Name     Sex  \\\n",
      "109          110         1       3           Moran, Miss. Bertha  female   \n",
      "282          283         0       3     de Pelsmaeker, Mr. Alfons    male   \n",
      "477          478         0       3     Braund, Mr. Lewis Richard    male   \n",
      "217          218         0       2  Jacobsohn, Mr. Sidney Samuel    male   \n",
      "\n",
      "      Age  SibSp  Parch  Ticket     Fare Cabin Embarked  \n",
      "109  47.0      1      0  371110  24.1500  C110        Q  \n",
      "282  16.0      0      0  345778   9.5000   A19        S  \n",
      "477  29.0      1      0    3460   7.0458   B49        S  \n",
      "217  42.0      1      0  243847  27.0000   D15        S  \n",
      "(891, 12)\n",
      "**************************************************\n"
     ]
    },
    {
     "name": "stderr",
     "output_type": "stream",
     "text": [
      "C:\\Users\\Joseph Cruz\\AppData\\Local\\Temp\\ipykernel_14196\\1832665405.py:6: FutureWarning: DataFrame.fillna with 'method' is deprecated and will raise in a future version. Use obj.ffill() or obj.bfill() instead.\n",
      "  df.fillna(method='bfill',inplace=True)\n"
     ]
    }
   ],
   "execution_count": 13
  },
  {
   "cell_type": "code",
   "source": [
    "#Sustituimos con valor posterior\n",
    "df=cargar()\n",
    "print(df.sample(4))\n",
    "print(df.shape)\n",
    "print('*'*50)\n",
    "df.fillna(method='ffill',inplace=True)\n",
    "print(df.sample(4))\n",
    "print(df.shape)\n",
    "print('*'*50)"
   ],
   "metadata": {
    "colab": {
     "base_uri": "https://localhost:8080/"
    },
    "id": "74cMKZgmbNnN",
    "outputId": "8d143d14-11f1-49a1-e043-c58c048f8d5d",
    "ExecuteTime": {
     "end_time": "2025-04-18T23:47:45.062509Z",
     "start_time": "2025-04-18T23:47:45.049905Z"
    }
   },
   "outputs": [
    {
     "name": "stdout",
     "output_type": "stream",
     "text": [
      "     PassengerId  Survived  Pclass                             Name     Sex  \\\n",
      "134          135         0       2   Sobey, Mr. Samuel James Hayden    male   \n",
      "695          696         0       2       Chapman, Mr. Charles Henry    male   \n",
      "635          636         1       2                Davis, Miss. Mary  female   \n",
      "117          118         0       2  Turpin, Mr. William John Robert    male   \n",
      "\n",
      "      Age  SibSp  Parch      Ticket  Fare Cabin Embarked  \n",
      "134  25.0      0      0  C.A. 29178  13.0   NaN        S  \n",
      "695  52.0      0      0      248731  13.5   NaN        S  \n",
      "635  28.0      0      0      237668  13.0   NaN        S  \n",
      "117  29.0      1      0       11668  21.0   NaN        S  \n",
      "(891, 12)\n",
      "**************************************************\n",
      "     PassengerId  Survived  Pclass                         Name   Sex   Age  \\\n",
      "637          638         0       2          Collyer, Mr. Harvey  male  31.0   \n",
      "21            22         1       2        Beesley, Mr. Lawrence  male  34.0   \n",
      "50            51         0       3   Panula, Master. Juha Niilo  male   7.0   \n",
      "95            96         0       3  Shorney, Mr. Charles Joseph  male  59.0   \n",
      "\n",
      "     SibSp  Parch      Ticket     Fare Cabin Embarked  \n",
      "637      1      1  C.A. 31921  26.2500   B50        S  \n",
      "21       0      0      248698  13.0000   D56        S  \n",
      "50       4      1     3101295  39.6875   B78        S  \n",
      "95       0      0      374910   8.0500   E31        S  \n",
      "(891, 12)\n",
      "**************************************************\n"
     ]
    },
    {
     "name": "stderr",
     "output_type": "stream",
     "text": [
      "C:\\Users\\Joseph Cruz\\AppData\\Local\\Temp\\ipykernel_14196\\3416837926.py:6: FutureWarning: DataFrame.fillna with 'method' is deprecated and will raise in a future version. Use obj.ffill() or obj.bfill() instead.\n",
      "  df.fillna(method='ffill',inplace=True)\n"
     ]
    }
   ],
   "execution_count": 14
  },
  {
   "cell_type": "code",
   "source": [],
   "metadata": {
    "id": "sLFEC00MbcGE"
   },
   "execution_count": null,
   "outputs": []
  }
 ]
}
