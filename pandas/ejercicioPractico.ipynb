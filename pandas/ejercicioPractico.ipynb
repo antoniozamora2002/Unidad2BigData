{
 "cells": [
  {
   "cell_type": "code",
   "id": "initial_id",
   "metadata": {
    "collapsed": true,
    "ExecuteTime": {
     "end_time": "2025-04-19T00:05:15.298439Z",
     "start_time": "2025-04-19T00:05:15.006431Z"
    }
   },
   "source": [
    "import pandas as pd\n",
    "df_ventas = pd.read_csv('ventas.csv',sep=';')\n",
    "print(df_ventas.head())\n",
    "df_ventas.fillna(0,inplace=True)\n",
    "df_ventas['Ingresos'] = df_ventas['Cantidad'] * df_ventas['Precio_Unitario']\n",
    "print(df_ventas.head())\n",
    "ingresos_por_tienda_producto = df_ventas.groupby(['Tienda','Producto'])['Ingresos'].sum().reset_index()\n",
    "print(ingresos_por_tienda_producto)\n",
    "producto_top_por_tienda = ingresos_por_tienda_producto.sort_values(['Tienda','Ingresos'],ascending=[True, False]).groupby('Tienda').first().reset_index()\n",
    "print(producto_top_por_tienda)\n",
    "resumen_cantidad = df_ventas.groupby('Producto')['Cantidad'].sum().reset_index()\n",
    "print('Resumen: ')\n",
    "print(resumen_cantidad)\n",
    "resumen_cantidad.to_csv('resumen_ventas.csv',index=False)"
   ],
   "outputs": [
    {
     "name": "stdout",
     "output_type": "stream",
     "text": [
      "        Fecha    Tienda    Producto  Cantidad  Precio_Unitario\n",
      "0  13/01/2023  Tienda A  Producto 2      19.0            29.45\n",
      "1  16/01/2023  Tienda C  Producto 1      18.0            38.34\n",
      "2  22/01/2023  Tienda A  Producto 1       3.0            29.93\n",
      "3  01/01/2023  Tienda A  Producto 2       6.0            43.78\n",
      "4  04/01/2023  Tienda A  Producto 3       6.0            17.77\n",
      "        Fecha    Tienda    Producto  Cantidad  Precio_Unitario  Ingresos\n",
      "0  13/01/2023  Tienda A  Producto 2      19.0            29.45    559.55\n",
      "1  16/01/2023  Tienda C  Producto 1      18.0            38.34    690.12\n",
      "2  22/01/2023  Tienda A  Producto 1       3.0            29.93     89.79\n",
      "3  01/01/2023  Tienda A  Producto 2       6.0            43.78    262.68\n",
      "4  04/01/2023  Tienda A  Producto 3       6.0            17.77    106.62\n",
      "     Tienda    Producto  Ingresos\n",
      "0  Tienda A  Producto 1   1563.89\n",
      "1  Tienda A  Producto 2   2642.17\n",
      "2  Tienda A  Producto 3   1966.91\n",
      "3  Tienda B  Producto 1    361.34\n",
      "4  Tienda B  Producto 2    829.79\n",
      "5  Tienda B  Producto 3    497.38\n",
      "6  Tienda C  Producto 1   2291.94\n",
      "7  Tienda C  Producto 2   1048.26\n",
      "8  Tienda C  Producto 3   1471.16\n",
      "     Tienda    Producto  Ingresos\n",
      "0  Tienda A  Producto 2   2642.17\n",
      "1  Tienda B  Producto 2    829.79\n",
      "2  Tienda C  Producto 1   2291.94\n",
      "Resumen: \n",
      "     Producto  Cantidad\n",
      "0  Producto 1     148.0\n",
      "1  Producto 2     179.0\n",
      "2  Producto 3     138.0\n"
     ]
    }
   ],
   "execution_count": 1
  }
 ],
 "metadata": {
  "kernelspec": {
   "display_name": "Python 3",
   "language": "python",
   "name": "python3"
  },
  "language_info": {
   "codemirror_mode": {
    "name": "ipython",
    "version": 2
   },
   "file_extension": ".py",
   "mimetype": "text/x-python",
   "name": "python",
   "nbconvert_exporter": "python",
   "pygments_lexer": "ipython2",
   "version": "2.7.6"
  }
 },
 "nbformat": 4,
 "nbformat_minor": 5
}
