{
 "nbformat": 4,
 "nbformat_minor": 0,
 "metadata": {
  "colab": {
   "provenance": [],
   "collapsed_sections": []
  },
  "kernelspec": {
   "name": "python3",
   "display_name": "Python 3"
  },
  "language_info": {
   "name": "python"
  }
 },
 "cells": [
  {
   "cell_type": "markdown",
   "source": "# Numpy, libreria para ciencia de datos",
   "metadata": {
    "id": "Qt2cbP-eV24w"
   }
  },
  {
   "cell_type": "code",
   "metadata": {
    "id": "xyjKX8JMV00r",
    "ExecuteTime": {
     "end_time": "2025-06-12T16:28:40.273011Z",
     "start_time": "2025-06-12T16:28:40.139656Z"
    }
   },
   "source": [
    "import numpy as np \n",
    "#pip install numpy"
   ],
   "outputs": [],
   "execution_count": 1
  },
  {
   "cell_type": "code",
   "source": [
    "def creaArray(fila,columna):\n",
    "  array = np.random.random((fila,columna))\n",
    "  return array"
   ],
   "metadata": {
    "id": "nbQ1vOrSOLb3",
    "ExecuteTime": {
     "end_time": "2025-06-12T16:28:42.311311Z",
     "start_time": "2025-06-12T16:28:42.305896Z"
    }
   },
   "outputs": [],
   "execution_count": 2
  },
  {
   "cell_type": "code",
   "source": [
    "array_1d=np.array([1,4,3])\n",
    "print(array_1d)\n"
   ],
   "metadata": {
    "colab": {
     "base_uri": "https://localhost:8080/"
    },
    "id": "2PY4MZwuZXDd",
    "outputId": "5aae11b2-f1ec-4ce8-b2cb-6b761b9e6709",
    "ExecuteTime": {
     "end_time": "2025-06-12T16:28:45.120672Z",
     "start_time": "2025-06-12T16:28:45.115359Z"
    }
   },
   "outputs": [
    {
     "name": "stdout",
     "output_type": "stream",
     "text": [
      "[1 4 3]\n"
     ]
    }
   ],
   "execution_count": 3
  },
  {
   "cell_type": "code",
   "source": [
    "array_1d"
   ],
   "metadata": {
    "colab": {
     "base_uri": "https://localhost:8080/"
    },
    "id": "vm9PGpVeaELZ",
    "outputId": "ffc5524f-11f8-49ae-dd5b-93c09bb73ed3",
    "ExecuteTime": {
     "end_time": "2025-06-12T16:28:48.715949Z",
     "start_time": "2025-06-12T16:28:48.704189Z"
    }
   },
   "outputs": [
    {
     "data": {
      "text/plain": [
       "array([1, 4, 3])"
      ]
     },
     "execution_count": 4,
     "metadata": {},
     "output_type": "execute_result"
    }
   ],
   "execution_count": 4
  },
  {
   "cell_type": "code",
   "source": [
    "array_2d=np.array([(1,4,2),(5,2,3)])\n",
    "array_2d"
   ],
   "metadata": {
    "colab": {
     "base_uri": "https://localhost:8080/"
    },
    "id": "jS3dTgujaUNn",
    "outputId": "10d532e7-a905-4fdf-d084-3fd7f2e1c3ba",
    "ExecuteTime": {
     "end_time": "2025-06-12T16:28:51.916196Z",
     "start_time": "2025-06-12T16:28:51.910351Z"
    }
   },
   "outputs": [
    {
     "data": {
      "text/plain": [
       "array([[1, 4, 2],\n",
       "       [5, 2, 3]])"
      ]
     },
     "execution_count": 5,
     "metadata": {},
     "output_type": "execute_result"
    }
   ],
   "execution_count": 5
  },
  {
   "cell_type": "code",
   "source": [
    "array_3d=np.array([[(1.6,4.5,2),(1,5.8,9)],[(7,5,9.3),(8,1.4,3)],[(3,5,3),(7,2,9)]],dtype=float)\n",
    "array_3d"
   ],
   "metadata": {
    "colab": {
     "base_uri": "https://localhost:8080/"
    },
    "id": "6Q5JtZ7BafH4",
    "outputId": "048f686a-ffa3-4f5a-a588-38da1fe26b45",
    "ExecuteTime": {
     "end_time": "2025-06-12T16:29:15.326434Z",
     "start_time": "2025-06-12T16:29:15.319801Z"
    }
   },
   "outputs": [
    {
     "data": {
      "text/plain": [
       "array([[[1.6, 4.5, 2. ],\n",
       "        [1. , 5.8, 9. ]],\n",
       "\n",
       "       [[7. , 5. , 9.3],\n",
       "        [8. , 1.4, 3. ]],\n",
       "\n",
       "       [[3. , 5. , 3. ],\n",
       "        [7. , 2. , 9. ]]])"
      ]
     },
     "execution_count": 6,
     "metadata": {},
     "output_type": "execute_result"
    }
   ],
   "execution_count": 6
  },
  {
   "cell_type": "code",
   "source": [
    "print(array_3d)"
   ],
   "metadata": {
    "colab": {
     "base_uri": "https://localhost:8080/"
    },
    "id": "a7enQ-tfbHA5",
    "outputId": "207dcaa7-f14f-4acf-a839-8fd6a1b13ae7",
    "ExecuteTime": {
     "end_time": "2025-06-12T16:29:20.165890Z",
     "start_time": "2025-06-12T16:29:20.159991Z"
    }
   },
   "outputs": [
    {
     "name": "stdout",
     "output_type": "stream",
     "text": [
      "[[[1.6 4.5 2. ]\n",
      "  [1.  5.8 9. ]]\n",
      "\n",
      " [[7.  5.  9.3]\n",
      "  [8.  1.4 3. ]]\n",
      "\n",
      " [[3.  5.  3. ]\n",
      "  [7.  2.  9. ]]]\n"
     ]
    }
   ],
   "execution_count": 7
  },
  {
   "cell_type": "markdown",
   "source": "# Creando Arrays",
   "metadata": {
    "id": "jZtofP53nl-r"
   }
  },
  {
   "cell_type": "code",
   "source": [
    "#De ceros con 3 filas y 4 columnas\n",
    "array_ceros=np.zeros((3,4))\n",
    "array_ceros"
   ],
   "metadata": {
    "colab": {
     "base_uri": "https://localhost:8080/"
    },
    "id": "95BfDw62baL_",
    "outputId": "df00a8e7-9b35-4d0d-b9e4-1f9d2394823b",
    "ExecuteTime": {
     "end_time": "2025-06-12T16:30:34.509468Z",
     "start_time": "2025-06-12T16:30:34.503154Z"
    }
   },
   "outputs": [
    {
     "data": {
      "text/plain": [
       "array([[0., 0., 0., 0.],\n",
       "       [0., 0., 0., 0.],\n",
       "       [0., 0., 0., 0.]])"
      ]
     },
     "execution_count": 10,
     "metadata": {},
     "output_type": "execute_result"
    }
   ],
   "execution_count": 10
  },
  {
   "cell_type": "code",
   "source": [
    "print(np.zeros((4,5)))"
   ],
   "metadata": {
    "colab": {
     "base_uri": "https://localhost:8080/"
    },
    "id": "JzfhUUVTnx9D",
    "outputId": "93a00ccd-1608-4997-cfae-981da42c2319",
    "ExecuteTime": {
     "end_time": "2025-06-12T16:30:47.804561Z",
     "start_time": "2025-06-12T16:30:47.799159Z"
    }
   },
   "outputs": [
    {
     "name": "stdout",
     "output_type": "stream",
     "text": [
      "[[0. 0. 0. 0. 0.]\n",
      " [0. 0. 0. 0. 0.]\n",
      " [0. 0. 0. 0. 0.]\n",
      " [0. 0. 0. 0. 0.]]\n"
     ]
    }
   ],
   "execution_count": 11
  },
  {
   "cell_type": "code",
   "source": [
    "#De unos con 2 dimensiones 4 filas 5 columnas\n",
    "np.ones((2,4,5))"
   ],
   "metadata": {
    "colab": {
     "base_uri": "https://localhost:8080/"
    },
    "id": "6UA1KdwUn6Nd",
    "outputId": "b58a7440-4274-4a48-943e-a9bdc03be86f",
    "ExecuteTime": {
     "end_time": "2025-06-12T16:31:03.864045Z",
     "start_time": "2025-06-12T16:31:03.857266Z"
    }
   },
   "outputs": [
    {
     "data": {
      "text/plain": [
       "array([[[1., 1., 1., 1., 1.],\n",
       "        [1., 1., 1., 1., 1.],\n",
       "        [1., 1., 1., 1., 1.],\n",
       "        [1., 1., 1., 1., 1.]],\n",
       "\n",
       "       [[1., 1., 1., 1., 1.],\n",
       "        [1., 1., 1., 1., 1.],\n",
       "        [1., 1., 1., 1., 1.],\n",
       "        [1., 1., 1., 1., 1.]]])"
      ]
     },
     "execution_count": 12,
     "metadata": {},
     "output_type": "execute_result"
    }
   ],
   "execution_count": 12
  },
  {
   "cell_type": "code",
   "source": [
    "#Intervalo y saltos\n",
    "np.arange(12,31,2)"
   ],
   "metadata": {
    "colab": {
     "base_uri": "https://localhost:8080/"
    },
    "id": "eP6z471woN2t",
    "outputId": "73676fd6-dfe6-4064-d603-17a19df7c911",
    "ExecuteTime": {
     "end_time": "2025-06-12T16:31:13.697536Z",
     "start_time": "2025-06-12T16:31:13.690868Z"
    }
   },
   "outputs": [
    {
     "data": {
      "text/plain": [
       "array([12, 14, 16, 18, 20, 22, 24, 26, 28, 30])"
      ]
     },
     "execution_count": 13,
     "metadata": {},
     "output_type": "execute_result"
    }
   ],
   "execution_count": 13
  },
  {
   "cell_type": "code",
   "source": [
    "#Intervalo y divisiones\n",
    "np.linspace(0,4,7)"
   ],
   "metadata": {
    "colab": {
     "base_uri": "https://localhost:8080/"
    },
    "id": "1XQLxWRQoaST",
    "outputId": "6eb60179-4a2a-49c8-daa3-92dbecac799b",
    "ExecuteTime": {
     "end_time": "2025-06-12T16:37:47.563219Z",
     "start_time": "2025-06-12T16:37:47.557038Z"
    }
   },
   "outputs": [
    {
     "data": {
      "text/plain": [
       "array([0.        , 0.66666667, 1.33333333, 2.        , 2.66666667,\n",
       "       3.33333333, 4.        ])"
      ]
     },
     "execution_count": 14,
     "metadata": {},
     "output_type": "execute_result"
    }
   ],
   "execution_count": 14
  },
  {
   "cell_type": "code",
   "source": [
    "#Valor dado\n",
    "np.full((3,3),7)"
   ],
   "metadata": {
    "colab": {
     "base_uri": "https://localhost:8080/"
    },
    "id": "Q4jKricCouQN",
    "outputId": "3318f1b2-74d7-4896-83a9-e917aab7cddf",
    "ExecuteTime": {
     "end_time": "2025-06-12T16:40:03.573630Z",
     "start_time": "2025-06-12T16:40:03.568324Z"
    }
   },
   "outputs": [
    {
     "data": {
      "text/plain": [
       "array([[7, 7, 7],\n",
       "       [7, 7, 7],\n",
       "       [7, 7, 7]])"
      ]
     },
     "execution_count": 15,
     "metadata": {},
     "output_type": "execute_result"
    }
   ],
   "execution_count": 15
  },
  {
   "cell_type": "code",
   "source": [
    "#Matriz identidad, diagonal de unos\n",
    "np.eye(3)"
   ],
   "metadata": {
    "colab": {
     "base_uri": "https://localhost:8080/"
    },
    "id": "TVXefEqXpCKX",
    "outputId": "ce07ca3a-4f96-4af0-e73c-8b09433ee154",
    "ExecuteTime": {
     "end_time": "2025-06-12T16:41:23.212074Z",
     "start_time": "2025-06-12T16:41:23.205328Z"
    }
   },
   "outputs": [
    {
     "data": {
      "text/plain": [
       "array([[1., 0., 0.],\n",
       "       [0., 1., 0.],\n",
       "       [0., 0., 1.]])"
      ]
     },
     "execution_count": 18,
     "metadata": {},
     "output_type": "execute_result"
    }
   ],
   "execution_count": 18
  },
  {
   "cell_type": "code",
   "source": [
    "#Valores aleatorios entre 0 y 1\n",
    "np.random.random((4,4))"
   ],
   "metadata": {
    "colab": {
     "base_uri": "https://localhost:8080/"
    },
    "id": "_jTAb_bFpOV6",
    "outputId": "dc57c16e-6932-4def-d8f1-0d5ba9a1f3a6",
    "ExecuteTime": {
     "end_time": "2025-06-12T16:41:41.972123Z",
     "start_time": "2025-06-12T16:41:41.965759Z"
    }
   },
   "outputs": [
    {
     "data": {
      "text/plain": [
       "array([[0.82469762, 0.31992777, 0.15185693, 0.79176233],\n",
       "       [0.39952823, 0.31338382, 0.09178858, 0.56704907],\n",
       "       [0.18703595, 0.39341763, 0.5089014 , 0.32791518],\n",
       "       [0.32142953, 0.09954538, 0.88141911, 0.96265615]])"
      ]
     },
     "execution_count": 20,
     "metadata": {},
     "output_type": "execute_result"
    }
   ],
   "execution_count": 20
  },
  {
   "cell_type": "code",
   "source": [
    "#Vacio de 4 filas y 3 columnas\n",
    "np.empty((4,3))"
   ],
   "metadata": {
    "colab": {
     "base_uri": "https://localhost:8080/"
    },
    "id": "X9OqStRApboG",
    "outputId": "20bf5c51-81bb-418f-efbb-0fcb2911a71a",
    "ExecuteTime": {
     "end_time": "2025-06-12T16:41:51.119864Z",
     "start_time": "2025-06-12T16:41:51.114057Z"
    }
   },
   "outputs": [
    {
     "data": {
      "text/plain": [
       "array([[0., 0., 0.],\n",
       "       [0., 0., 0.],\n",
       "       [0., 0., 0.],\n",
       "       [0., 0., 0.]])"
      ]
     },
     "execution_count": 21,
     "metadata": {},
     "output_type": "execute_result"
    }
   ],
   "execution_count": 21
  },
  {
   "cell_type": "markdown",
   "source": "# Grabar y cargar",
   "metadata": {
    "id": "DPgHRPoD7T3W"
   }
  },
  {
   "cell_type": "code",
   "source": [
    "#Grabar\n",
    "#np.save('mi_array',np.random.random((3,3)))\n",
    "np.save('mi_array_3d',array_3d)"
   ],
   "metadata": {
    "id": "hDuTx54cp32T",
    "ExecuteTime": {
     "end_time": "2025-06-12T16:42:01.455264Z",
     "start_time": "2025-06-12T16:42:01.450159Z"
    }
   },
   "outputs": [],
   "execution_count": 22
  },
  {
   "cell_type": "code",
   "source": [
    "#Cargar\n",
    "mi_array=np.load('mi_array_3d.npy')\n",
    "mi_array"
   ],
   "metadata": {
    "colab": {
     "base_uri": "https://localhost:8080/"
    },
    "id": "rBZ1Cr0t7huS",
    "outputId": "8b1143c1-8596-4142-9367-f40c0ca38016",
    "ExecuteTime": {
     "end_time": "2025-06-12T16:42:10.345284Z",
     "start_time": "2025-06-12T16:42:10.330834Z"
    }
   },
   "outputs": [
    {
     "data": {
      "text/plain": [
       "array([[[1.6, 4.5, 2. ],\n",
       "        [1. , 5.8, 9. ]],\n",
       "\n",
       "       [[7. , 5. , 9.3],\n",
       "        [8. , 1.4, 3. ]],\n",
       "\n",
       "       [[3. , 5. , 3. ],\n",
       "        [7. , 2. , 9. ]]])"
      ]
     },
     "execution_count": 23,
     "metadata": {},
     "output_type": "execute_result"
    }
   ],
   "execution_count": 23
  },
  {
   "cell_type": "code",
   "source": [
    "#Grabar a fichero de texto\n",
    "np.savetxt('mi_array.txt',array_2d,delimiter=\" \")"
   ],
   "metadata": {
    "id": "4jRAji7F7ucK",
    "ExecuteTime": {
     "end_time": "2025-06-12T16:42:44.486914Z",
     "start_time": "2025-06-12T16:42:44.481456Z"
    }
   },
   "outputs": [],
   "execution_count": 24
  },
  {
   "cell_type": "code",
   "source": [
    "#Cargar de fichero de texto\n",
    "array_2d=np.loadtxt('mi_array.txt')\n",
    "print(array_2d)"
   ],
   "metadata": {
    "colab": {
     "base_uri": "https://localhost:8080/"
    },
    "id": "1uCWBQGk9-qZ",
    "outputId": "39530c47-043a-4943-acd1-39f0977569c6",
    "ExecuteTime": {
     "end_time": "2025-06-12T16:42:53.001046Z",
     "start_time": "2025-06-12T16:42:52.984217Z"
    }
   },
   "outputs": [
    {
     "name": "stdout",
     "output_type": "stream",
     "text": [
      "[[1. 4. 2.]\n",
      " [5. 2. 3.]]\n"
     ]
    }
   ],
   "execution_count": 25
  },
  {
   "cell_type": "markdown",
   "source": "# Tipos de datos",
   "metadata": {
    "id": "noI4Aql9BsZj"
   }
  },
  {
   "cell_type": "code",
   "source": [
    "#Enteros\n",
    "np.int64"
   ],
   "metadata": {
    "colab": {
     "base_uri": "https://localhost:8080/"
    },
    "id": "vobaLjt_-LlX",
    "outputId": "03df032c-4447-4149-ca05-796c3e5b592e",
    "ExecuteTime": {
     "end_time": "2025-06-12T16:43:07.495953Z",
     "start_time": "2025-06-12T16:43:07.489883Z"
    }
   },
   "outputs": [
    {
     "data": {
      "text/plain": [
       "numpy.int64"
      ]
     },
     "execution_count": 26,
     "metadata": {},
     "output_type": "execute_result"
    }
   ],
   "execution_count": 26
  },
  {
   "cell_type": "code",
   "source": [
    "#Decimal, numero doble precision o de punto flotante\n",
    "np.float64"
   ],
   "metadata": {
    "colab": {
     "base_uri": "https://localhost:8080/"
    },
    "id": "PZgnKH7JB2n3",
    "outputId": "2ccc6183-83c5-41ce-968d-0a3bef41264f",
    "ExecuteTime": {
     "end_time": "2025-06-12T16:43:10.787557Z",
     "start_time": "2025-06-12T16:43:10.781762Z"
    }
   },
   "outputs": [
    {
     "data": {
      "text/plain": [
       "numpy.float64"
      ]
     },
     "execution_count": 27,
     "metadata": {},
     "output_type": "execute_result"
    }
   ],
   "execution_count": 27
  },
  {
   "cell_type": "code",
   "source": [
    "#Complejos\n",
    "np.complex128"
   ],
   "metadata": {
    "colab": {
     "base_uri": "https://localhost:8080/"
    },
    "id": "eJGo8jexCBQ1",
    "outputId": "f048e020-85fc-426c-c1a2-12ce9936f0a9",
    "ExecuteTime": {
     "end_time": "2025-06-12T16:45:25.702677Z",
     "start_time": "2025-06-12T16:45:25.697451Z"
    }
   },
   "outputs": [
    {
     "data": {
      "text/plain": [
       "numpy.complex128"
      ]
     },
     "execution_count": 37,
     "metadata": {},
     "output_type": "execute_result"
    }
   ],
   "execution_count": 37
  },
  {
   "cell_type": "code",
   "source": [
    "#Boolean\n",
    "np.bool_"
   ],
   "metadata": {
    "colab": {
     "base_uri": "https://localhost:8080/"
    },
    "id": "moh_0PF4CMYx",
    "outputId": "76109285-2988-43f2-ed30-eb47dcc002b8",
    "ExecuteTime": {
     "end_time": "2025-06-12T16:43:28.761672Z",
     "start_time": "2025-06-12T16:43:28.756297Z"
    }
   },
   "outputs": [
    {
     "data": {
      "text/plain": [
       "numpy.bool"
      ]
     },
     "execution_count": 30,
     "metadata": {},
     "output_type": "execute_result"
    }
   ],
   "execution_count": 30
  },
  {
   "cell_type": "code",
   "source": [
    "#Objetos\n",
    "np.object_"
   ],
   "metadata": {
    "colab": {
     "base_uri": "https://localhost:8080/"
    },
    "id": "JNjUrVDCCQoQ",
    "outputId": "b69f7789-9e1b-4661-ac5b-53554c990496",
    "ExecuteTime": {
     "end_time": "2025-06-12T16:45:27.970348Z",
     "start_time": "2025-06-12T16:45:27.964577Z"
    }
   },
   "outputs": [
    {
     "data": {
      "text/plain": [
       "numpy.object_"
      ]
     },
     "execution_count": 38,
     "metadata": {},
     "output_type": "execute_result"
    }
   ],
   "execution_count": 38
  },
  {
   "cell_type": "code",
   "source": [
    "#Cadenas\n",
    "np.bytes_"
   ],
   "metadata": {
    "colab": {
     "base_uri": "https://localhost:8080/"
    },
    "id": "2CoxmnEHCg_2",
    "outputId": "43d29a65-1d0a-442b-e261-e87368e24e4f",
    "ExecuteTime": {
     "end_time": "2025-06-12T16:48:01.934965Z",
     "start_time": "2025-06-12T16:48:01.929468Z"
    }
   },
   "outputs": [
    {
     "data": {
      "text/plain": [
       "numpy.bytes_"
      ]
     },
     "execution_count": 40,
     "metadata": {},
     "output_type": "execute_result"
    }
   ],
   "execution_count": 40
  },
  {
   "cell_type": "code",
   "source": "np.str_",
   "metadata": {
    "colab": {
     "base_uri": "https://localhost:8080/"
    },
    "id": "u9x8qya2Cka4",
    "outputId": "2f78bd83-50fb-424f-f13a-bf2e498fa995",
    "ExecuteTime": {
     "end_time": "2025-06-12T16:48:09.777646Z",
     "start_time": "2025-06-12T16:48:09.772278Z"
    }
   },
   "outputs": [
    {
     "data": {
      "text/plain": [
       "numpy.str_"
      ]
     },
     "execution_count": 42,
     "metadata": {},
     "output_type": "execute_result"
    }
   ],
   "execution_count": 42
  },
  {
   "cell_type": "markdown",
   "source": "# Propiedades y caracteristicas",
   "metadata": {
    "id": "fC2uMJHEFr7C"
   }
  },
  {
   "cell_type": "code",
   "source": [
    "array_3d"
   ],
   "metadata": {
    "colab": {
     "base_uri": "https://localhost:8080/"
    },
    "id": "G090abzMCnzT",
    "outputId": "e4fa6c10-dd92-461f-c9d4-97178aad15c2",
    "ExecuteTime": {
     "end_time": "2025-06-12T16:48:14.546018Z",
     "start_time": "2025-06-12T16:48:14.539808Z"
    }
   },
   "outputs": [
    {
     "data": {
      "text/plain": [
       "array([[[1.6, 4.5, 2. ],\n",
       "        [1. , 5.8, 9. ]],\n",
       "\n",
       "       [[7. , 5. , 9.3],\n",
       "        [8. , 1.4, 3. ]],\n",
       "\n",
       "       [[3. , 5. , 3. ],\n",
       "        [7. , 2. , 9. ]]])"
      ]
     },
     "execution_count": 43,
     "metadata": {},
     "output_type": "execute_result"
    }
   ],
   "execution_count": 43
  },
  {
   "cell_type": "code",
   "source": [
    "#Dimension o forma\n",
    "array_3d.shape"
   ],
   "metadata": {
    "colab": {
     "base_uri": "https://localhost:8080/"
    },
    "id": "yzQb7f4uFyM6",
    "outputId": "89f0114c-c355-4137-bb6d-3629a2a7b592",
    "ExecuteTime": {
     "end_time": "2025-06-12T16:48:20.036258Z",
     "start_time": "2025-06-12T16:48:20.030028Z"
    }
   },
   "outputs": [
    {
     "data": {
      "text/plain": [
       "(3, 2, 3)"
      ]
     },
     "execution_count": 44,
     "metadata": {},
     "output_type": "execute_result"
    }
   ],
   "execution_count": 44
  },
  {
   "cell_type": "code",
   "source": [
    "#Longitud\n",
    "len(array_3d)"
   ],
   "metadata": {
    "colab": {
     "base_uri": "https://localhost:8080/"
    },
    "id": "6TM3UYimGBce",
    "outputId": "677de1fb-828d-4aa9-fc61-f54f8d92a054",
    "ExecuteTime": {
     "end_time": "2025-06-12T16:48:24.869475Z",
     "start_time": "2025-06-12T16:48:24.864283Z"
    }
   },
   "outputs": [
    {
     "data": {
      "text/plain": [
       "3"
      ]
     },
     "execution_count": 45,
     "metadata": {},
     "output_type": "execute_result"
    }
   ],
   "execution_count": 45
  },
  {
   "cell_type": "code",
   "source": [
    "#Numero de dimensiones\n",
    "array_3d.ndim"
   ],
   "metadata": {
    "colab": {
     "base_uri": "https://localhost:8080/"
    },
    "id": "afEJ3OJVGOfC",
    "outputId": "ffc3d0d4-e986-46b0-d8e1-69814abb5800",
    "ExecuteTime": {
     "end_time": "2025-06-12T16:48:27.126096Z",
     "start_time": "2025-06-12T16:48:27.120663Z"
    }
   },
   "outputs": [
    {
     "data": {
      "text/plain": [
       "3"
      ]
     },
     "execution_count": 46,
     "metadata": {},
     "output_type": "execute_result"
    }
   ],
   "execution_count": 46
  },
  {
   "cell_type": "code",
   "source": [
    "#Tamaño o numero de elementos\n",
    "array_3d.size"
   ],
   "metadata": {
    "colab": {
     "base_uri": "https://localhost:8080/"
    },
    "id": "1RJQqkp_GVCn",
    "outputId": "9ce18853-a02a-4db6-e49e-c6ba2fa6223a",
    "ExecuteTime": {
     "end_time": "2025-06-12T16:48:31.677812Z",
     "start_time": "2025-06-12T16:48:31.671233Z"
    }
   },
   "outputs": [
    {
     "data": {
      "text/plain": [
       "18"
      ]
     },
     "execution_count": 47,
     "metadata": {},
     "output_type": "execute_result"
    }
   ],
   "execution_count": 47
  },
  {
   "cell_type": "code",
   "source": [
    "#Tipos de datos\n",
    "array_3d.dtype"
   ],
   "metadata": {
    "colab": {
     "base_uri": "https://localhost:8080/"
    },
    "id": "M7Q1bJwFGjZU",
    "outputId": "6a6eb879-230d-4b5b-ebc5-a5bc72a362ea",
    "ExecuteTime": {
     "end_time": "2025-06-12T16:48:34.007884Z",
     "start_time": "2025-06-12T16:48:34.003283Z"
    }
   },
   "outputs": [
    {
     "data": {
      "text/plain": [
       "dtype('float64')"
      ]
     },
     "execution_count": 48,
     "metadata": {},
     "output_type": "execute_result"
    }
   ],
   "execution_count": 48
  },
  {
   "cell_type": "code",
   "source": [
    "array_3d.dtype.name"
   ],
   "metadata": {
    "colab": {
     "base_uri": "https://localhost:8080/",
     "height": 36
    },
    "id": "1a67kDn2Gwrd",
    "outputId": "22b4113a-b725-474c-8fd7-ce48bbb937b9",
    "ExecuteTime": {
     "end_time": "2025-06-12T16:48:38.007718Z",
     "start_time": "2025-06-12T16:48:38.000725Z"
    }
   },
   "outputs": [
    {
     "data": {
      "text/plain": [
       "'float64'"
      ]
     },
     "execution_count": 49,
     "metadata": {},
     "output_type": "execute_result"
    }
   ],
   "execution_count": 49
  },
  {
   "cell_type": "code",
   "source": [
    "#Convertir de un tipo a otro\n",
    "array_3d.astype(int)"
   ],
   "metadata": {
    "colab": {
     "base_uri": "https://localhost:8080/"
    },
    "id": "B57hxp6gG53L",
    "outputId": "81df89e3-637f-47f0-a275-01b35b28c0a3",
    "ExecuteTime": {
     "end_time": "2025-06-12T16:48:51.028529Z",
     "start_time": "2025-06-12T16:48:51.022270Z"
    }
   },
   "outputs": [
    {
     "data": {
      "text/plain": [
       "array([[[1, 4, 2],\n",
       "        [1, 5, 9]],\n",
       "\n",
       "       [[7, 5, 9],\n",
       "        [8, 1, 3]],\n",
       "\n",
       "       [[3, 5, 3],\n",
       "        [7, 2, 9]]])"
      ]
     },
     "execution_count": 50,
     "metadata": {},
     "output_type": "execute_result"
    }
   ],
   "execution_count": 50
  },
  {
   "cell_type": "markdown",
   "source": "# Ayuda",
   "metadata": {
    "id": "-5ND-KlqHNYP"
   }
  },
  {
   "cell_type": "code",
   "source": [
    "np.info(np.ndarray.dtype)"
   ],
   "metadata": {
    "colab": {
     "base_uri": "https://localhost:8080/"
    },
    "id": "-M4HQ7F7HCeC",
    "outputId": "ec4b4c93-aec1-4ab7-fe83-8e6f822a8df9",
    "ExecuteTime": {
     "end_time": "2025-06-12T16:48:56.685394Z",
     "start_time": "2025-06-12T16:48:56.680640Z"
    }
   },
   "outputs": [
    {
     "name": "stdout",
     "output_type": "stream",
     "text": [
      "Data-type of the array's elements.\n",
      "\n",
      ".. warning::\n",
      "\n",
      "    Setting ``arr.dtype`` is discouraged and may be deprecated in the\n",
      "    future.  Setting will replace the ``dtype`` without modifying the\n",
      "    memory (see also `ndarray.view` and `ndarray.astype`).\n",
      "\n",
      "Parameters\n",
      "----------\n",
      "None\n",
      "\n",
      "Returns\n",
      "-------\n",
      "d : numpy dtype object\n",
      "\n",
      "See Also\n",
      "--------\n",
      "ndarray.astype : Cast the values contained in the array to a new data-type.\n",
      "ndarray.view : Create a view of the same data but a different data-type.\n",
      "numpy.dtype\n",
      "\n",
      "Examples\n",
      "--------\n",
      ">>> import numpy as np\n",
      ">>> x = np.arange(4).reshape((2, 2))\n",
      ">>> x\n",
      "array([[0, 1],\n",
      "       [2, 3]])\n",
      ">>> x.dtype\n",
      "dtype('int64')   # may vary (OS, bitness)\n",
      ">>> isinstance(x.dtype, np.dtype)\n",
      "True\n"
     ]
    }
   ],
   "execution_count": 51
  },
  {
   "cell_type": "markdown",
   "source": "# Operadores Aritmeticos",
   "metadata": {
    "id": "UpeRtP2WIOA9"
   }
  },
  {
   "cell_type": "code",
   "source": [
    "#Arrays de ejemplos\n",
    "array1=np.random.random((4,4))\n",
    "array1"
   ],
   "metadata": {
    "id": "xtwpcngrHUOO",
    "colab": {
     "base_uri": "https://localhost:8080/"
    },
    "outputId": "e9c99a72-3386-48c6-b733-b8475be09a89",
    "ExecuteTime": {
     "end_time": "2025-06-12T16:49:06.589594Z",
     "start_time": "2025-06-12T16:49:06.581436Z"
    }
   },
   "outputs": [
    {
     "data": {
      "text/plain": [
       "array([[0.19450603, 0.16241982, 0.48592612, 0.72233632],\n",
       "       [0.40394053, 0.64487742, 0.77242924, 0.23505739],\n",
       "       [0.62586753, 0.54270714, 0.08846162, 0.64608525],\n",
       "       [0.38565532, 0.87357231, 0.5600041 , 0.7135091 ]])"
      ]
     },
     "execution_count": 52,
     "metadata": {},
     "output_type": "execute_result"
    }
   ],
   "execution_count": 52
  },
  {
   "cell_type": "code",
   "source": [
    "array2=np.random.random((4,4))\n",
    "array2"
   ],
   "metadata": {
    "colab": {
     "base_uri": "https://localhost:8080/"
    },
    "id": "Co1p3RSIIcr7",
    "outputId": "572788d8-0361-41bb-afd9-9fd08cd7b72d",
    "ExecuteTime": {
     "end_time": "2025-06-12T16:49:10.647691Z",
     "start_time": "2025-06-12T16:49:10.640446Z"
    }
   },
   "outputs": [
    {
     "data": {
      "text/plain": [
       "array([[0.84940491, 0.11202782, 0.62300524, 0.23396045],\n",
       "       [0.01332861, 0.82326831, 0.99396794, 0.78958293],\n",
       "       [0.70265808, 0.04450586, 0.90760406, 0.24555561],\n",
       "       [0.93844585, 0.1386971 , 0.70168452, 0.63690189]])"
      ]
     },
     "execution_count": 53,
     "metadata": {},
     "output_type": "execute_result"
    }
   ],
   "execution_count": 53
  },
  {
   "cell_type": "code",
   "source": [
    "#Suma\n",
    "array3=array1+array2\n",
    "array3"
   ],
   "metadata": {
    "colab": {
     "base_uri": "https://localhost:8080/"
    },
    "id": "szwMpnOqIsve",
    "outputId": "f518d04b-4b76-42f1-9490-4b4bbb814852",
    "ExecuteTime": {
     "end_time": "2025-06-12T16:49:14.325293Z",
     "start_time": "2025-06-12T16:49:14.319414Z"
    }
   },
   "outputs": [
    {
     "data": {
      "text/plain": [
       "array([[1.04391094, 0.27444764, 1.10893136, 0.95629677],\n",
       "       [0.41726914, 1.46814573, 1.76639717, 1.02464032],\n",
       "       [1.32852561, 0.587213  , 0.99606568, 0.89164086],\n",
       "       [1.32410117, 1.01226941, 1.26168862, 1.350411  ]])"
      ]
     },
     "execution_count": 54,
     "metadata": {},
     "output_type": "execute_result"
    }
   ],
   "execution_count": 54
  },
  {
   "cell_type": "code",
   "source": [
    "#Otra opcion de suma\n",
    "array3=np.add(array1,array2)\n",
    "array3"
   ],
   "metadata": {
    "colab": {
     "base_uri": "https://localhost:8080/"
    },
    "id": "S2eWEiYhI0lU",
    "outputId": "10c66128-6772-4f63-c970-50f9cbf46442",
    "ExecuteTime": {
     "end_time": "2025-06-12T16:49:22.598106Z",
     "start_time": "2025-06-12T16:49:22.591971Z"
    }
   },
   "outputs": [
    {
     "data": {
      "text/plain": [
       "array([[1.04391094, 0.27444764, 1.10893136, 0.95629677],\n",
       "       [0.41726914, 1.46814573, 1.76639717, 1.02464032],\n",
       "       [1.32852561, 0.587213  , 0.99606568, 0.89164086],\n",
       "       [1.32410117, 1.01226941, 1.26168862, 1.350411  ]])"
      ]
     },
     "execution_count": 55,
     "metadata": {},
     "output_type": "execute_result"
    }
   ],
   "execution_count": 55
  },
  {
   "cell_type": "code",
   "source": [
    "#Resta\n",
    "array3=array1-array2\n",
    "array3"
   ],
   "metadata": {
    "colab": {
     "base_uri": "https://localhost:8080/"
    },
    "id": "IszHWH6IJAW_",
    "outputId": "01b60f48-170b-4f5f-e91e-b65457a00eec",
    "ExecuteTime": {
     "end_time": "2025-06-12T16:49:25.976942Z",
     "start_time": "2025-06-12T16:49:25.971127Z"
    }
   },
   "outputs": [
    {
     "data": {
      "text/plain": [
       "array([[-0.65489888,  0.05039201, -0.13707912,  0.48837586],\n",
       "       [ 0.39061192, -0.17839089, -0.2215387 , -0.55452553],\n",
       "       [-0.07679055,  0.49820128, -0.81914245,  0.40052963],\n",
       "       [-0.55279053,  0.73487521, -0.14168043,  0.07660721]])"
      ]
     },
     "execution_count": 56,
     "metadata": {},
     "output_type": "execute_result"
    }
   ],
   "execution_count": 56
  },
  {
   "cell_type": "code",
   "source": [
    "#Multiplica\n",
    "array3=np.multiply(array1,array2)\n",
    "array3"
   ],
   "metadata": {
    "colab": {
     "base_uri": "https://localhost:8080/"
    },
    "id": "UFt7aTepJLcT",
    "outputId": "2bbaa165-8c65-43c1-add5-37dd8ea14c97",
    "ExecuteTime": {
     "end_time": "2025-06-12T16:49:30.451872Z",
     "start_time": "2025-06-12T16:49:30.446102Z"
    }
   },
   "outputs": [
    {
     "data": {
      "text/plain": [
       "array([[0.16521438, 0.01819554, 0.30273452, 0.16899813],\n",
       "       [0.00538396, 0.53090714, 0.76776989, 0.18559731],\n",
       "       [0.43977088, 0.02415365, 0.08028812, 0.15864986],\n",
       "       [0.36191663, 0.12116194, 0.39294621, 0.4544353 ]])"
      ]
     },
     "execution_count": 57,
     "metadata": {},
     "output_type": "execute_result"
    }
   ],
   "execution_count": 57
  },
  {
   "cell_type": "code",
   "source": [
    "#Divide\n",
    "array3=array1/array2\n",
    "array3"
   ],
   "metadata": {
    "colab": {
     "base_uri": "https://localhost:8080/"
    },
    "id": "Lr0U6RYgJayg",
    "outputId": "ec3aef3d-ed44-4124-d665-7873309ec75c",
    "ExecuteTime": {
     "end_time": "2025-06-12T16:49:37.366619Z",
     "start_time": "2025-06-12T16:49:37.361201Z"
    }
   },
   "outputs": [
    {
     "data": {
      "text/plain": [
       "array([[ 0.22899094,  1.4498169 ,  0.77997116,  3.08742912],\n",
       "       [30.30628081,  0.78331379,  0.77711685,  0.29769817],\n",
       "       [ 0.8907142 , 12.19405949,  0.09746719,  2.63111576],\n",
       "       [ 0.41095106,  6.29841811,  0.79808529,  1.12028102]])"
      ]
     },
     "execution_count": 58,
     "metadata": {},
     "output_type": "execute_result"
    }
   ],
   "execution_count": 58
  },
  {
   "cell_type": "code",
   "source": [
    "array3=np.divide(array1,array2)\n",
    "array3"
   ],
   "metadata": {
    "colab": {
     "base_uri": "https://localhost:8080/"
    },
    "id": "-8MfTmdiJjlV",
    "outputId": "d9f23c37-7bc6-474f-eb9b-7b8919ef4a2e",
    "ExecuteTime": {
     "end_time": "2025-06-12T16:49:39.491831Z",
     "start_time": "2025-06-12T16:49:39.486693Z"
    }
   },
   "outputs": [
    {
     "data": {
      "text/plain": [
       "array([[ 0.22899094,  1.4498169 ,  0.77997116,  3.08742912],\n",
       "       [30.30628081,  0.78331379,  0.77711685,  0.29769817],\n",
       "       [ 0.8907142 , 12.19405949,  0.09746719,  2.63111576],\n",
       "       [ 0.41095106,  6.29841811,  0.79808529,  1.12028102]])"
      ]
     },
     "execution_count": 59,
     "metadata": {},
     "output_type": "execute_result"
    }
   ],
   "execution_count": 59
  },
  {
   "cell_type": "code",
   "source": [
    "np.exp(array1)"
   ],
   "metadata": {
    "colab": {
     "base_uri": "https://localhost:8080/"
    },
    "id": "gRcerhkeJpoF",
    "outputId": "b5edbfd4-c511-4462-e645-498c4bf38d03",
    "ExecuteTime": {
     "end_time": "2025-06-12T16:49:44.763223Z",
     "start_time": "2025-06-12T16:49:44.757118Z"
    }
   },
   "outputs": [
    {
     "data": {
      "text/plain": [
       "array([[1.21471081, 1.176354  , 1.62567989, 2.05923863],\n",
       "       [1.49771488, 1.90575341, 2.16501921, 1.26498137],\n",
       "       [1.86986742, 1.72065863, 1.09249232, 1.90805662],\n",
       "       [1.4705777 , 2.39545289, 1.75067968, 2.04114128]])"
      ]
     },
     "execution_count": 60,
     "metadata": {},
     "output_type": "execute_result"
    }
   ],
   "execution_count": 60
  },
  {
   "cell_type": "code",
   "source": [
    "np.sin(array1)"
   ],
   "metadata": {
    "colab": {
     "base_uri": "https://localhost:8080/"
    },
    "id": "htY_ozG8JwiP",
    "outputId": "5e1436f7-aa73-408a-e95c-a1332b9e6139",
    "ExecuteTime": {
     "end_time": "2025-06-12T16:49:53.899519Z",
     "start_time": "2025-06-12T16:49:53.894240Z"
    }
   },
   "outputs": [
    {
     "data": {
      "text/plain": [
       "array([[0.1932819 , 0.16170665, 0.46702748, 0.66113933],\n",
       "       [0.39304478, 0.60110048, 0.69787716, 0.2328988 ],\n",
       "       [0.58580059, 0.51645604, 0.08834629, 0.60206531],\n",
       "       [0.3761664 , 0.76662758, 0.53118967, 0.65449092]])"
      ]
     },
     "execution_count": 61,
     "metadata": {},
     "output_type": "execute_result"
    }
   ],
   "execution_count": 61
  },
  {
   "cell_type": "code",
   "source": [
    "np.cos(array2)"
   ],
   "metadata": {
    "colab": {
     "base_uri": "https://localhost:8080/"
    },
    "id": "ImdB2MjIJzmx",
    "outputId": "f9d00e0d-2cb4-4d3a-861e-14327c72d5b2",
    "ExecuteTime": {
     "end_time": "2025-06-12T16:49:55.964891Z",
     "start_time": "2025-06-12T16:49:55.958670Z"
    }
   },
   "outputs": [
    {
     "data": {
      "text/plain": [
       "array([[0.66043011, 0.99373144, 0.81212863, 0.97275587],\n",
       "       [0.99991118, 0.67982796, 0.54536825, 0.70414152],\n",
       "       [0.76312711, 0.99900978, 0.61563559, 0.97000241],\n",
       "       [0.59104238, 0.99039697, 0.7637559 , 0.80394208]])"
      ]
     },
     "execution_count": 62,
     "metadata": {},
     "output_type": "execute_result"
    }
   ],
   "execution_count": 62
  },
  {
   "cell_type": "code",
   "source": [
    "np.log(array2)"
   ],
   "metadata": {
    "colab": {
     "base_uri": "https://localhost:8080/"
    },
    "id": "Z7sKY9H9J2DK",
    "outputId": "27f9fbdb-b185-4bc8-cab9-db2a017fb4ba",
    "ExecuteTime": {
     "end_time": "2025-06-12T16:49:59.242228Z",
     "start_time": "2025-06-12T16:49:59.236115Z"
    }
   },
   "outputs": [
    {
     "data": {
      "text/plain": [
       "array([[-0.16321928, -2.18900806, -0.47320034, -1.45260318],\n",
       "       [-4.31784259, -0.19447312, -0.00605033, -0.23625041],\n",
       "       [-0.35288488, -3.11213435, -0.09694705, -1.40423182],\n",
       "       [-0.06353012, -1.97546288, -0.35427137, -0.45113965]])"
      ]
     },
     "execution_count": 63,
     "metadata": {},
     "output_type": "execute_result"
    }
   ],
   "execution_count": 63
  },
  {
   "cell_type": "code",
   "source": [
    "#Producto de matrices\n",
    "array1.dot(array2)"
   ],
   "metadata": {
    "colab": {
     "base_uri": "https://localhost:8080/"
    },
    "id": "8s7hN2auJ_SP",
    "outputId": "deb16eb2-49ee-443e-867b-2b3250e6bab5",
    "ExecuteTime": {
     "end_time": "2025-06-12T16:50:04.963015Z",
     "start_time": "2025-06-12T16:50:04.956586Z"
    }
   },
   "outputs": [
    {
     "data": {
      "text/plain": [
       "array([[1.18669265, 0.27731769, 1.23049911, 0.7531299 ],\n",
       "       [1.11504667, 0.64313913, 1.7586406 , 0.94307315],\n",
       "       [1.20732278, 0.61045537, 1.46298839, 1.00815571],\n",
       "       [1.40230209, 0.88627363, 2.11748844, 1.37193333]])"
      ]
     },
     "execution_count": 64,
     "metadata": {},
     "output_type": "execute_result"
    }
   ],
   "execution_count": 64
  },
  {
   "cell_type": "markdown",
   "source": "# Comparacion",
   "metadata": {
    "id": "1abJux-1KICz"
   }
  },
  {
   "cell_type": "markdown",
   "source": [
    "== != < > <= >= and or"
   ],
   "metadata": {
    "id": "9QDr2FVsKgas"
   }
  },
  {
   "cell_type": "code",
   "source": [
    "array1==array2"
   ],
   "metadata": {
    "colab": {
     "base_uri": "https://localhost:8080/"
    },
    "id": "yU4Ni1BZKEDq",
    "outputId": "5c4262ce-8144-4d65-b7b3-d1a223e500ce",
    "ExecuteTime": {
     "end_time": "2025-06-12T16:50:11.690756Z",
     "start_time": "2025-06-12T16:50:11.684576Z"
    }
   },
   "outputs": [
    {
     "data": {
      "text/plain": [
       "array([[False, False, False, False],\n",
       "       [False, False, False, False],\n",
       "       [False, False, False, False],\n",
       "       [False, False, False, False]])"
      ]
     },
     "execution_count": 65,
     "metadata": {},
     "output_type": "execute_result"
    }
   ],
   "execution_count": 65
  },
  {
   "cell_type": "code",
   "source": [
    "array1<0.5"
   ],
   "metadata": {
    "colab": {
     "base_uri": "https://localhost:8080/"
    },
    "id": "LycOCTfNKNtp",
    "outputId": "c46f8135-4fe0-44bf-de0c-e398bfad09c5",
    "ExecuteTime": {
     "end_time": "2025-06-12T16:50:14.802115Z",
     "start_time": "2025-06-12T16:50:14.795103Z"
    }
   },
   "outputs": [
    {
     "data": {
      "text/plain": [
       "array([[ True,  True,  True, False],\n",
       "       [ True, False, False,  True],\n",
       "       [False, False,  True, False],\n",
       "       [ True, False, False, False]])"
      ]
     },
     "execution_count": 66,
     "metadata": {},
     "output_type": "execute_result"
    }
   ],
   "execution_count": 66
  },
  {
   "cell_type": "code",
   "source": [
    "array1"
   ],
   "metadata": {
    "colab": {
     "base_uri": "https://localhost:8080/"
    },
    "id": "Q3AgLedfKTv0",
    "outputId": "ab9b381b-88d7-4d33-9078-b3a2b990c38d",
    "ExecuteTime": {
     "end_time": "2025-06-12T16:50:19.235945Z",
     "start_time": "2025-06-12T16:50:19.229863Z"
    }
   },
   "outputs": [
    {
     "data": {
      "text/plain": [
       "array([[0.19450603, 0.16241982, 0.48592612, 0.72233632],\n",
       "       [0.40394053, 0.64487742, 0.77242924, 0.23505739],\n",
       "       [0.62586753, 0.54270714, 0.08846162, 0.64608525],\n",
       "       [0.38565532, 0.87357231, 0.5600041 , 0.7135091 ]])"
      ]
     },
     "execution_count": 67,
     "metadata": {},
     "output_type": "execute_result"
    }
   ],
   "execution_count": 67
  },
  {
   "cell_type": "code",
   "source": [
    "array3<=0.4"
   ],
   "metadata": {
    "colab": {
     "base_uri": "https://localhost:8080/"
    },
    "id": "OPeg2ID2KXNC",
    "outputId": "45402c91-6969-49f9-e7eb-61ae02bfb142",
    "ExecuteTime": {
     "end_time": "2025-06-12T16:50:23.313691Z",
     "start_time": "2025-06-12T16:50:23.307595Z"
    }
   },
   "outputs": [
    {
     "data": {
      "text/plain": [
       "array([[ True, False, False, False],\n",
       "       [False, False, False,  True],\n",
       "       [False, False,  True, False],\n",
       "       [False, False, False, False]])"
      ]
     },
     "execution_count": 68,
     "metadata": {},
     "output_type": "execute_result"
    }
   ],
   "execution_count": 68
  },
  {
   "cell_type": "code",
   "source": [
    "array3"
   ],
   "metadata": {
    "colab": {
     "base_uri": "https://localhost:8080/"
    },
    "id": "GvYY5607KswA",
    "outputId": "269dc579-42de-4b0b-9e50-62e3e60c2843",
    "ExecuteTime": {
     "end_time": "2025-06-12T16:50:25.588221Z",
     "start_time": "2025-06-12T16:50:25.582232Z"
    }
   },
   "outputs": [
    {
     "data": {
      "text/plain": [
       "array([[ 0.22899094,  1.4498169 ,  0.77997116,  3.08742912],\n",
       "       [30.30628081,  0.78331379,  0.77711685,  0.29769817],\n",
       "       [ 0.8907142 , 12.19405949,  0.09746719,  2.63111576],\n",
       "       [ 0.41095106,  6.29841811,  0.79808529,  1.12028102]])"
      ]
     },
     "execution_count": 69,
     "metadata": {},
     "output_type": "execute_result"
    }
   ],
   "execution_count": 69
  },
  {
   "cell_type": "markdown",
   "source": "# Estadisticos basicos y otras funciones",
   "metadata": {
    "id": "JeUbmqqLOdNX"
   }
  },
  {
   "cell_type": "code",
   "source": [
    "array1=creaArray(5,5)\n",
    "array1"
   ],
   "metadata": {
    "id": "sOVecvgdKv4J",
    "colab": {
     "base_uri": "https://localhost:8080/"
    },
    "outputId": "de11e6ae-8fb8-4de7-b101-15ba3c4e2d53",
    "ExecuteTime": {
     "end_time": "2025-06-12T16:50:29.988217Z",
     "start_time": "2025-06-12T16:50:29.981985Z"
    }
   },
   "outputs": [
    {
     "data": {
      "text/plain": [
       "array([[0.96720219, 0.3039706 , 0.62661212, 0.63939482, 0.44461414],\n",
       "       [0.34617934, 0.9561863 , 0.02010284, 0.95506495, 0.74124961],\n",
       "       [0.07772438, 0.75107808, 0.30657956, 0.93263977, 0.56694998],\n",
       "       [0.08711106, 0.78574825, 0.28022945, 0.29571563, 0.10432606],\n",
       "       [0.41362251, 0.4953785 , 0.56257826, 0.50434297, 0.98202362]])"
      ]
     },
     "execution_count": 70,
     "metadata": {},
     "output_type": "execute_result"
    }
   ],
   "execution_count": 70
  },
  {
   "cell_type": "code",
   "source": [
    "sumaTotal=array1.sum()\n",
    "print(sumaTotal)"
   ],
   "metadata": {
    "colab": {
     "base_uri": "https://localhost:8080/"
    },
    "id": "00fJAWTFOnRV",
    "outputId": "25c8060a-bb38-4f32-9882-23c87b21fe77",
    "ExecuteTime": {
     "end_time": "2025-06-12T16:50:39.864763Z",
     "start_time": "2025-06-12T16:50:39.860451Z"
    }
   },
   "outputs": [
    {
     "name": "stdout",
     "output_type": "stream",
     "text": [
      "13.146625004109803\n"
     ]
    }
   ],
   "execution_count": 71
  },
  {
   "cell_type": "code",
   "source": [
    "array1.min()"
   ],
   "metadata": {
    "colab": {
     "base_uri": "https://localhost:8080/"
    },
    "id": "i-tQeDc0OtuP",
    "outputId": "91d01ec5-f1dd-4ed7-d866-3e5a401a0a39",
    "ExecuteTime": {
     "end_time": "2025-06-12T16:50:54.905328Z",
     "start_time": "2025-06-12T16:50:54.899113Z"
    }
   },
   "outputs": [
    {
     "data": {
      "text/plain": [
       "np.float64(0.020102844998806102)"
      ]
     },
     "execution_count": 72,
     "metadata": {},
     "output_type": "execute_result"
    }
   ],
   "execution_count": 72
  },
  {
   "cell_type": "code",
   "source": [
    "array1.max()"
   ],
   "metadata": {
    "colab": {
     "base_uri": "https://localhost:8080/"
    },
    "id": "ldEA4HckOx0L",
    "outputId": "dd4be892-695e-4530-ac80-1a82d9221a3e",
    "ExecuteTime": {
     "end_time": "2025-06-12T16:50:59.296249Z",
     "start_time": "2025-06-12T16:50:59.290883Z"
    }
   },
   "outputs": [
    {
     "data": {
      "text/plain": [
       "np.float64(0.9820236177350607)"
      ]
     },
     "execution_count": 73,
     "metadata": {},
     "output_type": "execute_result"
    }
   ],
   "execution_count": 73
  },
  {
   "cell_type": "code",
   "source": [
    "#Maximo por filas\n",
    "array1.max(axis=0)"
   ],
   "metadata": {
    "colab": {
     "base_uri": "https://localhost:8080/"
    },
    "id": "wp9SGXehO2S2",
    "outputId": "97915073-0293-4a83-8509-7965a39be5e1",
    "ExecuteTime": {
     "end_time": "2025-06-12T16:51:05.767873Z",
     "start_time": "2025-06-12T16:51:05.761841Z"
    }
   },
   "outputs": [
    {
     "data": {
      "text/plain": [
       "array([0.96720219, 0.9561863 , 0.62661212, 0.95506495, 0.98202362])"
      ]
     },
     "execution_count": 74,
     "metadata": {},
     "output_type": "execute_result"
    }
   ],
   "execution_count": 74
  },
  {
   "cell_type": "code",
   "source": [
    "#Maximo por columnas\n",
    "array1.max(axis=1)"
   ],
   "metadata": {
    "colab": {
     "base_uri": "https://localhost:8080/"
    },
    "id": "E5UQz3ShPP1P",
    "outputId": "23be155c-ce7c-42a4-f6b4-385b1ea41afa",
    "ExecuteTime": {
     "end_time": "2025-06-12T16:51:10.268837Z",
     "start_time": "2025-06-12T16:51:10.263126Z"
    }
   },
   "outputs": [
    {
     "data": {
      "text/plain": [
       "array([0.96720219, 0.9561863 , 0.93263977, 0.78574825, 0.98202362])"
      ]
     },
     "execution_count": 75,
     "metadata": {},
     "output_type": "execute_result"
    }
   ],
   "execution_count": 75
  },
  {
   "cell_type": "code",
   "source": [
    "#Suma acumulada\n",
    "array1.cumsum(axis=1)"
   ],
   "metadata": {
    "colab": {
     "base_uri": "https://localhost:8080/"
    },
    "id": "J3eUbXiPPbIL",
    "outputId": "f5b190c2-5b2c-4514-89d1-0659eb49424c",
    "ExecuteTime": {
     "end_time": "2025-06-12T16:51:17.371665Z",
     "start_time": "2025-06-12T16:51:17.365599Z"
    }
   },
   "outputs": [
    {
     "data": {
      "text/plain": [
       "array([[0.96720219, 1.27117279, 1.89778491, 2.53717973, 2.98179387],\n",
       "       [0.34617934, 1.30236564, 1.32246849, 2.27753343, 3.01878304],\n",
       "       [0.07772438, 0.82880247, 1.13538203, 2.0680218 , 2.63497178],\n",
       "       [0.08711106, 0.87285931, 1.15308876, 1.44880439, 1.55313045],\n",
       "       [0.41362251, 0.90900102, 1.47157928, 1.97592224, 2.95794586]])"
      ]
     },
     "execution_count": 76,
     "metadata": {},
     "output_type": "execute_result"
    }
   ],
   "execution_count": 76
  },
  {
   "cell_type": "code",
   "source": [
    "array1"
   ],
   "metadata": {
    "colab": {
     "base_uri": "https://localhost:8080/"
    },
    "id": "hsAVunO-PreU",
    "outputId": "c3ed7834-a840-435d-c774-5d930d49db98",
    "ExecuteTime": {
     "end_time": "2025-06-12T16:51:22.640830Z",
     "start_time": "2025-06-12T16:51:22.634824Z"
    }
   },
   "outputs": [
    {
     "data": {
      "text/plain": [
       "array([[0.96720219, 0.3039706 , 0.62661212, 0.63939482, 0.44461414],\n",
       "       [0.34617934, 0.9561863 , 0.02010284, 0.95506495, 0.74124961],\n",
       "       [0.07772438, 0.75107808, 0.30657956, 0.93263977, 0.56694998],\n",
       "       [0.08711106, 0.78574825, 0.28022945, 0.29571563, 0.10432606],\n",
       "       [0.41362251, 0.4953785 , 0.56257826, 0.50434297, 0.98202362]])"
      ]
     },
     "execution_count": 77,
     "metadata": {},
     "output_type": "execute_result"
    }
   ],
   "execution_count": 77
  },
  {
   "cell_type": "code",
   "source": [
    "#Media\n",
    "np.mean(array1)"
   ],
   "metadata": {
    "colab": {
     "base_uri": "https://localhost:8080/"
    },
    "id": "h8GEIx21PtD0",
    "outputId": "5e6c1e26-a355-404d-f794-b639f349580f",
    "ExecuteTime": {
     "end_time": "2025-06-12T16:52:15.491689Z",
     "start_time": "2025-06-12T16:52:15.484747Z"
    }
   },
   "outputs": [
    {
     "data": {
      "text/plain": [
       "np.float64(0.5258650001643921)"
      ]
     },
     "execution_count": 78,
     "metadata": {},
     "output_type": "execute_result"
    }
   ],
   "execution_count": 78
  },
  {
   "cell_type": "code",
   "source": [
    "#Mediana\n",
    "np.median(array1)"
   ],
   "metadata": {
    "colab": {
     "base_uri": "https://localhost:8080/"
    },
    "id": "ffJAyKT8P6pL",
    "outputId": "1d8a48d3-8c4e-4efc-8a48-50d5f2a44727",
    "ExecuteTime": {
     "end_time": "2025-06-12T16:52:21.283467Z",
     "start_time": "2025-06-12T16:52:21.276593Z"
    }
   },
   "outputs": [
    {
     "data": {
      "text/plain": [
       "np.float64(0.5043429662761413)"
      ]
     },
     "execution_count": 79,
     "metadata": {},
     "output_type": "execute_result"
    }
   ],
   "execution_count": 79
  },
  {
   "cell_type": "code",
   "source": [
    "#Correlacion\n",
    "np.corrcoef(array1)"
   ],
   "metadata": {
    "colab": {
     "base_uri": "https://localhost:8080/"
    },
    "id": "uvchtDtWP_ra",
    "outputId": "f788b5c7-62d7-4fc2-fb42-a659c14cb12b",
    "ExecuteTime": {
     "end_time": "2025-06-12T16:52:25.984430Z",
     "start_time": "2025-06-12T16:52:25.976871Z"
    }
   },
   "outputs": [
    {
     "data": {
      "text/plain": [
       "array([[ 1.        , -0.54222875, -0.66727224, -0.6813095 , -0.45404506],\n",
       "       [-0.54222875,  1.        ,  0.84062129,  0.45094646,  0.14075989],\n",
       "       [-0.66727224,  0.84062129,  1.        ,  0.51613747,  0.14661019],\n",
       "       [-0.6813095 ,  0.45094646,  0.51613747,  1.        , -0.33201664],\n",
       "       [-0.45404506,  0.14075989,  0.14661019, -0.33201664,  1.        ]])"
      ]
     },
     "execution_count": 80,
     "metadata": {},
     "output_type": "execute_result"
    }
   ],
   "execution_count": 80
  },
  {
   "cell_type": "code",
   "source": [
    "#Desviacion\n",
    "np.std(array1)"
   ],
   "metadata": {
    "colab": {
     "base_uri": "https://localhost:8080/"
    },
    "id": "a80afpGSQFOo",
    "outputId": "046601e2-527b-4417-8823-3e769369de49",
    "ExecuteTime": {
     "end_time": "2025-06-12T16:52:28.980399Z",
     "start_time": "2025-06-12T16:52:28.974367Z"
    }
   },
   "outputs": [
    {
     "data": {
      "text/plain": [
       "np.float64(0.29791095499764236)"
      ]
     },
     "execution_count": 81,
     "metadata": {},
     "output_type": "execute_result"
    }
   ],
   "execution_count": 81
  },
  {
   "cell_type": "markdown",
   "source": "# Copiando arrays",
   "metadata": {
    "id": "qkR0rDPgHpA4"
   }
  },
  {
   "cell_type": "code",
   "source": [
    "array1=np.random.randint(21,size=(4,4))\n",
    "array1"
   ],
   "metadata": {
    "id": "mTzm7lvlQLZs",
    "colab": {
     "base_uri": "https://localhost:8080/"
    },
    "outputId": "e0a3b3b6-18ca-4263-c07d-26d69469f1e6",
    "ExecuteTime": {
     "end_time": "2025-06-12T16:52:35.674112Z",
     "start_time": "2025-06-12T16:52:35.666739Z"
    }
   },
   "outputs": [
    {
     "data": {
      "text/plain": [
       "array([[13, 19, 11, 13],\n",
       "       [12,  8,  5, 20],\n",
       "       [ 3, 17,  7, 13],\n",
       "       [19, 11, 18, 14]], dtype=int32)"
      ]
     },
     "execution_count": 82,
     "metadata": {},
     "output_type": "execute_result"
    }
   ],
   "execution_count": 82
  },
  {
   "cell_type": "code",
   "source": [
    "#Crea una imagen del array, el valor cambiado se refleja en los dos\n",
    "array_cop=array1.view()\n",
    "array_cop"
   ],
   "metadata": {
    "colab": {
     "base_uri": "https://localhost:8080/"
    },
    "id": "ClvQpBtRH5iw",
    "outputId": "76df3424-deff-4be8-b890-16e5e90df198",
    "ExecuteTime": {
     "end_time": "2025-06-12T16:52:47.498463Z",
     "start_time": "2025-06-12T16:52:47.491568Z"
    }
   },
   "outputs": [
    {
     "data": {
      "text/plain": [
       "array([[13, 19, 11, 13],\n",
       "       [12,  8,  5, 20],\n",
       "       [ 3, 17,  7, 13],\n",
       "       [19, 11, 18, 14]], dtype=int32)"
      ]
     },
     "execution_count": 83,
     "metadata": {},
     "output_type": "execute_result"
    }
   ],
   "execution_count": 83
  },
  {
   "cell_type": "code",
   "source": [
    "np.array_equal(array1,array_cop)"
   ],
   "metadata": {
    "colab": {
     "base_uri": "https://localhost:8080/"
    },
    "id": "gHHMXOHDH6qg",
    "outputId": "e827db80-b5dc-4a62-bc91-8e997cbb024b",
    "ExecuteTime": {
     "end_time": "2025-06-12T16:52:59.372672Z",
     "start_time": "2025-06-12T16:52:59.366757Z"
    }
   },
   "outputs": [
    {
     "data": {
      "text/plain": [
       "True"
      ]
     },
     "execution_count": 84,
     "metadata": {},
     "output_type": "execute_result"
    }
   ],
   "execution_count": 84
  },
  {
   "cell_type": "code",
   "source": [
    "#Modificamos un valor de la copia\n",
    "array_cop[0,1]=99\n",
    "array_cop"
   ],
   "metadata": {
    "colab": {
     "base_uri": "https://localhost:8080/"
    },
    "id": "AHcGfUyAId1H",
    "outputId": "6e8d0e1e-da1a-4e33-da70-8080b5ece1e8",
    "ExecuteTime": {
     "end_time": "2025-06-12T16:53:05.810856Z",
     "start_time": "2025-06-12T16:53:05.801575Z"
    }
   },
   "outputs": [
    {
     "data": {
      "text/plain": [
       "array([[13, 99, 11, 13],\n",
       "       [12,  8,  5, 20],\n",
       "       [ 3, 17,  7, 13],\n",
       "       [19, 11, 18, 14]], dtype=int32)"
      ]
     },
     "execution_count": 85,
     "metadata": {},
     "output_type": "execute_result"
    }
   ],
   "execution_count": 85
  },
  {
   "cell_type": "code",
   "source": [
    "#Modificamos un valor del original\n",
    "array1[1,2]=88\n",
    "array1"
   ],
   "metadata": {
    "colab": {
     "base_uri": "https://localhost:8080/"
    },
    "id": "YsWHA7uZJKFq",
    "outputId": "29fc9f5c-db9e-43bd-8706-c7e15d355f39",
    "ExecuteTime": {
     "end_time": "2025-06-12T16:53:09.673267Z",
     "start_time": "2025-06-12T16:53:09.666369Z"
    }
   },
   "outputs": [
    {
     "data": {
      "text/plain": [
       "array([[13, 99, 11, 13],\n",
       "       [12,  8, 88, 20],\n",
       "       [ 3, 17,  7, 13],\n",
       "       [19, 11, 18, 14]], dtype=int32)"
      ]
     },
     "execution_count": 86,
     "metadata": {},
     "output_type": "execute_result"
    }
   ],
   "execution_count": 86
  },
  {
   "cell_type": "code",
   "source": [
    "array_cop"
   ],
   "metadata": {
    "colab": {
     "base_uri": "https://localhost:8080/"
    },
    "id": "bLF1bX1tJLoU",
    "outputId": "d6a9e23f-4409-48c8-9f1b-515ee134e883",
    "ExecuteTime": {
     "end_time": "2025-06-12T16:53:12.013625Z",
     "start_time": "2025-06-12T16:53:12.007157Z"
    }
   },
   "outputs": [
    {
     "data": {
      "text/plain": [
       "array([[13, 99, 11, 13],\n",
       "       [12,  8, 88, 20],\n",
       "       [ 3, 17,  7, 13],\n",
       "       [19, 11, 18, 14]], dtype=int32)"
      ]
     },
     "execution_count": 87,
     "metadata": {},
     "output_type": "execute_result"
    }
   ],
   "execution_count": 87
  },
  {
   "cell_type": "code",
   "source": [
    "#Creamos copia independiente\n",
    "array_cop2 = np.copy(array1)\n",
    "array_cop2"
   ],
   "metadata": {
    "colab": {
     "base_uri": "https://localhost:8080/"
    },
    "id": "8KAQ4tiYJpfl",
    "outputId": "1eb9a6dc-5239-4e6d-d56d-1698e36f3292",
    "ExecuteTime": {
     "end_time": "2025-06-12T16:53:19.355023Z",
     "start_time": "2025-06-12T16:53:19.349195Z"
    }
   },
   "outputs": [
    {
     "data": {
      "text/plain": [
       "array([[13, 99, 11, 13],\n",
       "       [12,  8, 88, 20],\n",
       "       [ 3, 17,  7, 13],\n",
       "       [19, 11, 18, 14]], dtype=int32)"
      ]
     },
     "execution_count": 88,
     "metadata": {},
     "output_type": "execute_result"
    }
   ],
   "execution_count": 88
  },
  {
   "cell_type": "code",
   "source": [
    "array_cop2[2,3]=77\n",
    "array_cop2"
   ],
   "metadata": {
    "colab": {
     "base_uri": "https://localhost:8080/"
    },
    "id": "IaOYgUuwKCJ3",
    "outputId": "254df089-aa4c-4246-e455-145d8d6d68ee",
    "ExecuteTime": {
     "end_time": "2025-06-12T16:53:21.944072Z",
     "start_time": "2025-06-12T16:53:21.937637Z"
    }
   },
   "outputs": [
    {
     "data": {
      "text/plain": [
       "array([[13, 99, 11, 13],\n",
       "       [12,  8, 88, 20],\n",
       "       [ 3, 17,  7, 77],\n",
       "       [19, 11, 18, 14]], dtype=int32)"
      ]
     },
     "execution_count": 89,
     "metadata": {},
     "output_type": "execute_result"
    }
   ],
   "execution_count": 89
  },
  {
   "cell_type": "code",
   "source": [
    "array1"
   ],
   "metadata": {
    "colab": {
     "base_uri": "https://localhost:8080/"
    },
    "id": "Bx0hS4CSKTuH",
    "outputId": "a2582493-4602-4454-981e-177ea9880af2",
    "ExecuteTime": {
     "end_time": "2025-06-12T16:53:25.082515Z",
     "start_time": "2025-06-12T16:53:25.077077Z"
    }
   },
   "outputs": [
    {
     "data": {
      "text/plain": [
       "array([[13, 99, 11, 13],\n",
       "       [12,  8, 88, 20],\n",
       "       [ 3, 17,  7, 13],\n",
       "       [19, 11, 18, 14]], dtype=int32)"
      ]
     },
     "execution_count": 90,
     "metadata": {},
     "output_type": "execute_result"
    }
   ],
   "execution_count": 90
  },
  {
   "cell_type": "code",
   "source": [
    "array_cop2 = array1 * 3\n",
    "array_cop2"
   ],
   "metadata": {
    "colab": {
     "base_uri": "https://localhost:8080/"
    },
    "id": "oVsuzQF_KXrM",
    "outputId": "2eece667-9b02-43dc-8f60-439214903b51",
    "ExecuteTime": {
     "end_time": "2025-06-12T16:53:29.310337Z",
     "start_time": "2025-06-12T16:53:29.304373Z"
    }
   },
   "outputs": [
    {
     "data": {
      "text/plain": [
       "array([[ 39, 297,  33,  39],\n",
       "       [ 36,  24, 264,  60],\n",
       "       [  9,  51,  21,  39],\n",
       "       [ 57,  33,  54,  42]], dtype=int32)"
      ]
     },
     "execution_count": 91,
     "metadata": {},
     "output_type": "execute_result"
    }
   ],
   "execution_count": 91
  },
  {
   "cell_type": "code",
   "source": [
    "array1"
   ],
   "metadata": {
    "colab": {
     "base_uri": "https://localhost:8080/"
    },
    "id": "OSLgr2gGKnNr",
    "outputId": "905f7f2a-bd72-4520-bb9f-aa782ad60b9f",
    "ExecuteTime": {
     "end_time": "2025-06-12T16:53:34.721707Z",
     "start_time": "2025-06-12T16:53:34.715004Z"
    }
   },
   "outputs": [
    {
     "data": {
      "text/plain": [
       "array([[13, 99, 11, 13],\n",
       "       [12,  8, 88, 20],\n",
       "       [ 3, 17,  7, 13],\n",
       "       [19, 11, 18, 14]], dtype=int32)"
      ]
     },
     "execution_count": 92,
     "metadata": {},
     "output_type": "execute_result"
    }
   ],
   "execution_count": 92
  },
  {
   "cell_type": "code",
   "source": [
    "array_cop2=array1.copy()\n",
    "array_cop2"
   ],
   "metadata": {
    "colab": {
     "base_uri": "https://localhost:8080/"
    },
    "id": "d-Syuo1pKr-X",
    "outputId": "850046aa-71fc-4334-ca37-7671d87fad83",
    "ExecuteTime": {
     "end_time": "2025-06-12T16:53:36.998049Z",
     "start_time": "2025-06-12T16:53:36.992667Z"
    }
   },
   "outputs": [
    {
     "data": {
      "text/plain": [
       "array([[13, 99, 11, 13],\n",
       "       [12,  8, 88, 20],\n",
       "       [ 3, 17,  7, 13],\n",
       "       [19, 11, 18, 14]], dtype=int32)"
      ]
     },
     "execution_count": 93,
     "metadata": {},
     "output_type": "execute_result"
    }
   ],
   "execution_count": 93
  },
  {
   "cell_type": "code",
   "source": [
    "array1"
   ],
   "metadata": {
    "colab": {
     "base_uri": "https://localhost:8080/"
    },
    "id": "djpJOWarOEMn",
    "outputId": "6fa21527-d8fb-48a3-db86-a08c5f56c61f",
    "ExecuteTime": {
     "end_time": "2025-06-12T16:53:39.196137Z",
     "start_time": "2025-06-12T16:53:39.190592Z"
    }
   },
   "outputs": [
    {
     "data": {
      "text/plain": [
       "array([[13, 99, 11, 13],\n",
       "       [12,  8, 88, 20],\n",
       "       [ 3, 17,  7, 13],\n",
       "       [19, 11, 18, 14]], dtype=int32)"
      ]
     },
     "execution_count": 94,
     "metadata": {},
     "output_type": "execute_result"
    }
   ],
   "execution_count": 94
  },
  {
   "cell_type": "code",
   "source": [
    "np.array_equal(array1,array_cop2)"
   ],
   "metadata": {
    "colab": {
     "base_uri": "https://localhost:8080/"
    },
    "id": "8c40PStLOFuB",
    "outputId": "13640b36-fe79-42dd-bef5-ecd30112e2b0",
    "ExecuteTime": {
     "end_time": "2025-06-12T16:53:41.608116Z",
     "start_time": "2025-06-12T16:53:41.601015Z"
    }
   },
   "outputs": [
    {
     "data": {
      "text/plain": [
       "True"
      ]
     },
     "execution_count": 95,
     "metadata": {},
     "output_type": "execute_result"
    }
   ],
   "execution_count": 95
  },
  {
   "cell_type": "markdown",
   "source": "# Arrays, ordenamiento",
   "metadata": {
    "id": "_FADIrlKOans"
   }
  },
  {
   "cell_type": "code",
   "source": [
    "array_1 = np.random.randint(41,size=(10,10))\n",
    "array_1"
   ],
   "metadata": {
    "colab": {
     "base_uri": "https://localhost:8080/"
    },
    "id": "-PDuGu-KOWSW",
    "outputId": "85851257-e245-4ab9-c7be-a3ffe51d8f5f",
    "ExecuteTime": {
     "end_time": "2025-06-12T16:53:46.180344Z",
     "start_time": "2025-06-12T16:53:46.174041Z"
    }
   },
   "outputs": [
    {
     "data": {
      "text/plain": [
       "array([[33,  2, 38, 29, 20,  9, 13, 32, 29,  2],\n",
       "       [38,  1, 17, 22, 32, 13,  8, 35,  2, 32],\n",
       "       [27, 23, 30, 14, 37, 16, 28, 37, 12, 15],\n",
       "       [ 1, 15, 33,  1,  5, 14, 38, 18, 39, 33],\n",
       "       [13, 38, 10,  2, 34, 34, 36, 23, 32,  4],\n",
       "       [38, 14, 24, 11, 37, 11, 28, 38, 10, 12],\n",
       "       [20, 11, 27, 14, 23, 34,  5, 18, 31, 24],\n",
       "       [ 4, 12,  8, 40, 20, 28, 30,  1, 17, 28],\n",
       "       [23, 29, 34, 34, 17, 29, 39, 33,  3, 24],\n",
       "       [32, 23, 19, 31, 11, 31, 25, 23, 27, 12]], dtype=int32)"
      ]
     },
     "execution_count": 96,
     "metadata": {},
     "output_type": "execute_result"
    }
   ],
   "execution_count": 96
  },
  {
   "cell_type": "code",
   "source": [
    "array_2 = np.random.randint(31,size=(10,10))\n",
    "array_2"
   ],
   "metadata": {
    "colab": {
     "base_uri": "https://localhost:8080/"
    },
    "id": "dmsQyHRzO5A4",
    "outputId": "0f170c95-f328-49c5-e083-c8a8c92f4726",
    "ExecuteTime": {
     "end_time": "2025-06-12T16:53:51.024408Z",
     "start_time": "2025-06-12T16:53:51.016401Z"
    }
   },
   "outputs": [
    {
     "data": {
      "text/plain": [
       "array([[26, 24,  7,  6, 23,  8, 14, 20, 15, 27],\n",
       "       [30, 14, 25, 23,  9, 13, 21, 13, 10, 10],\n",
       "       [25, 14,  6,  2,  5, 14, 27, 12, 29, 16],\n",
       "       [30, 10, 11,  0, 30, 12, 20, 28, 25, 18],\n",
       "       [26,  3, 10, 14, 22,  8, 28,  1,  7, 15],\n",
       "       [11, 18,  5, 17, 22,  4, 15,  1, 20, 15],\n",
       "       [29,  7,  1, 18, 10, 17,  8, 11,  6,  4],\n",
       "       [19, 17, 13, 26,  8, 28, 12, 12, 29,  7],\n",
       "       [16, 14, 27,  3, 29, 12, 21, 15, 30,  0],\n",
       "       [17,  9, 13, 15, 30,  1, 23, 27, 17, 27]], dtype=int32)"
      ]
     },
     "execution_count": 97,
     "metadata": {},
     "output_type": "execute_result"
    }
   ],
   "execution_count": 97
  },
  {
   "cell_type": "code",
   "source": [
    "array_1"
   ],
   "metadata": {
    "colab": {
     "base_uri": "https://localhost:8080/"
    },
    "id": "pTOxfiGMPC8D",
    "outputId": "bd22a4ff-6014-46e9-e8c8-9f97347a32da",
    "ExecuteTime": {
     "end_time": "2025-06-12T16:54:00.153502Z",
     "start_time": "2025-06-12T16:54:00.146896Z"
    }
   },
   "outputs": [
    {
     "data": {
      "text/plain": [
       "array([[33,  2, 38, 29, 20,  9, 13, 32, 29,  2],\n",
       "       [38,  1, 17, 22, 32, 13,  8, 35,  2, 32],\n",
       "       [27, 23, 30, 14, 37, 16, 28, 37, 12, 15],\n",
       "       [ 1, 15, 33,  1,  5, 14, 38, 18, 39, 33],\n",
       "       [13, 38, 10,  2, 34, 34, 36, 23, 32,  4],\n",
       "       [38, 14, 24, 11, 37, 11, 28, 38, 10, 12],\n",
       "       [20, 11, 27, 14, 23, 34,  5, 18, 31, 24],\n",
       "       [ 4, 12,  8, 40, 20, 28, 30,  1, 17, 28],\n",
       "       [23, 29, 34, 34, 17, 29, 39, 33,  3, 24],\n",
       "       [32, 23, 19, 31, 11, 31, 25, 23, 27, 12]], dtype=int32)"
      ]
     },
     "execution_count": 98,
     "metadata": {},
     "output_type": "execute_result"
    }
   ],
   "execution_count": 98
  },
  {
   "cell_type": "code",
   "source": [
    "array_1.sort()\n",
    "array_1"
   ],
   "metadata": {
    "colab": {
     "base_uri": "https://localhost:8080/"
    },
    "id": "v-CYYe4QPRg9",
    "outputId": "965e79dc-7474-4253-8a0b-89da58fdfdb9",
    "ExecuteTime": {
     "end_time": "2025-06-12T16:54:05.038415Z",
     "start_time": "2025-06-12T16:54:05.032034Z"
    }
   },
   "outputs": [
    {
     "data": {
      "text/plain": [
       "array([[ 2,  2,  9, 13, 20, 29, 29, 32, 33, 38],\n",
       "       [ 1,  2,  8, 13, 17, 22, 32, 32, 35, 38],\n",
       "       [12, 14, 15, 16, 23, 27, 28, 30, 37, 37],\n",
       "       [ 1,  1,  5, 14, 15, 18, 33, 33, 38, 39],\n",
       "       [ 2,  4, 10, 13, 23, 32, 34, 34, 36, 38],\n",
       "       [10, 11, 11, 12, 14, 24, 28, 37, 38, 38],\n",
       "       [ 5, 11, 14, 18, 20, 23, 24, 27, 31, 34],\n",
       "       [ 1,  4,  8, 12, 17, 20, 28, 28, 30, 40],\n",
       "       [ 3, 17, 23, 24, 29, 29, 33, 34, 34, 39],\n",
       "       [11, 12, 19, 23, 23, 25, 27, 31, 31, 32]], dtype=int32)"
      ]
     },
     "execution_count": 99,
     "metadata": {},
     "output_type": "execute_result"
    }
   ],
   "execution_count": 99
  },
  {
   "cell_type": "code",
   "source": [
    "array_1.sort(axis=1)\n",
    "array_1"
   ],
   "metadata": {
    "colab": {
     "base_uri": "https://localhost:8080/"
    },
    "id": "Ox0EPp-gQsNe",
    "outputId": "b2d9577f-b60c-4e38-cf9a-264578787676",
    "ExecuteTime": {
     "end_time": "2025-06-12T16:54:08.822890Z",
     "start_time": "2025-06-12T16:54:08.816767Z"
    }
   },
   "outputs": [
    {
     "data": {
      "text/plain": [
       "array([[ 2,  2,  9, 13, 20, 29, 29, 32, 33, 38],\n",
       "       [ 1,  2,  8, 13, 17, 22, 32, 32, 35, 38],\n",
       "       [12, 14, 15, 16, 23, 27, 28, 30, 37, 37],\n",
       "       [ 1,  1,  5, 14, 15, 18, 33, 33, 38, 39],\n",
       "       [ 2,  4, 10, 13, 23, 32, 34, 34, 36, 38],\n",
       "       [10, 11, 11, 12, 14, 24, 28, 37, 38, 38],\n",
       "       [ 5, 11, 14, 18, 20, 23, 24, 27, 31, 34],\n",
       "       [ 1,  4,  8, 12, 17, 20, 28, 28, 30, 40],\n",
       "       [ 3, 17, 23, 24, 29, 29, 33, 34, 34, 39],\n",
       "       [11, 12, 19, 23, 23, 25, 27, 31, 31, 32]], dtype=int32)"
      ]
     },
     "execution_count": 100,
     "metadata": {},
     "output_type": "execute_result"
    }
   ],
   "execution_count": 100
  },
  {
   "cell_type": "code",
   "source": [
    "array_2"
   ],
   "metadata": {
    "colab": {
     "base_uri": "https://localhost:8080/"
    },
    "id": "kIAQpM9nRk5Y",
    "outputId": "6880e0fd-7b61-42e8-9a36-26898dd3cced",
    "ExecuteTime": {
     "end_time": "2025-06-12T16:54:11.788803Z",
     "start_time": "2025-06-12T16:54:11.782857Z"
    }
   },
   "outputs": [
    {
     "data": {
      "text/plain": [
       "array([[26, 24,  7,  6, 23,  8, 14, 20, 15, 27],\n",
       "       [30, 14, 25, 23,  9, 13, 21, 13, 10, 10],\n",
       "       [25, 14,  6,  2,  5, 14, 27, 12, 29, 16],\n",
       "       [30, 10, 11,  0, 30, 12, 20, 28, 25, 18],\n",
       "       [26,  3, 10, 14, 22,  8, 28,  1,  7, 15],\n",
       "       [11, 18,  5, 17, 22,  4, 15,  1, 20, 15],\n",
       "       [29,  7,  1, 18, 10, 17,  8, 11,  6,  4],\n",
       "       [19, 17, 13, 26,  8, 28, 12, 12, 29,  7],\n",
       "       [16, 14, 27,  3, 29, 12, 21, 15, 30,  0],\n",
       "       [17,  9, 13, 15, 30,  1, 23, 27, 17, 27]], dtype=int32)"
      ]
     },
     "execution_count": 101,
     "metadata": {},
     "output_type": "execute_result"
    }
   ],
   "execution_count": 101
  },
  {
   "cell_type": "code",
   "source": [
    "array_2.sort(axis=0)\n",
    "array_2"
   ],
   "metadata": {
    "colab": {
     "base_uri": "https://localhost:8080/"
    },
    "id": "pzfrlHn0Rerk",
    "outputId": "f328fed0-5681-4fa5-ec7a-3412417d3416",
    "ExecuteTime": {
     "end_time": "2025-06-12T16:54:14.257840Z",
     "start_time": "2025-06-12T16:54:14.251691Z"
    }
   },
   "outputs": [
    {
     "data": {
      "text/plain": [
       "array([[11,  3,  1,  0,  5,  1,  8,  1,  6,  0],\n",
       "       [16,  7,  5,  2,  8,  4, 12,  1,  7,  4],\n",
       "       [17,  9,  6,  3,  9,  8, 14, 11, 10,  7],\n",
       "       [19, 10,  7,  6, 10,  8, 15, 12, 15, 10],\n",
       "       [25, 14, 10, 14, 22, 12, 20, 12, 17, 15],\n",
       "       [26, 14, 11, 15, 22, 12, 21, 13, 20, 15],\n",
       "       [26, 14, 13, 17, 23, 13, 21, 15, 25, 16],\n",
       "       [29, 17, 13, 18, 29, 14, 23, 20, 29, 18],\n",
       "       [30, 18, 25, 23, 30, 17, 27, 27, 29, 27],\n",
       "       [30, 24, 27, 26, 30, 28, 28, 28, 30, 27]], dtype=int32)"
      ]
     },
     "execution_count": 102,
     "metadata": {},
     "output_type": "execute_result"
    }
   ],
   "execution_count": 102
  },
  {
   "cell_type": "markdown",
   "source": "# Subconjuntos, indexado",
   "metadata": {
    "id": "iC7tpFK7DesZ"
   }
  },
  {
   "cell_type": "code",
   "source": [
    "array = np.random.randint(31,size=(10,10))\n",
    "array"
   ],
   "metadata": {
    "colab": {
     "base_uri": "https://localhost:8080/"
    },
    "id": "hcqva0LUDjJp",
    "outputId": "6b65bc73-05eb-4bff-db46-90e45c1c7e01",
    "ExecuteTime": {
     "end_time": "2025-06-12T17:03:30.710837Z",
     "start_time": "2025-06-12T17:03:30.703565Z"
    }
   },
   "outputs": [
    {
     "data": {
      "text/plain": [
       "array([[15, 19, 11,  8, 20,  5,  1, 11, 16, 26],\n",
       "       [26, 28, 11, 12, 11, 28,  0, 24,  1,  6],\n",
       "       [13, 14, 29,  8,  9,  8, 17, 12, 11,  9],\n",
       "       [19,  3,  1, 25,  9, 11, 30, 22, 26, 26],\n",
       "       [ 7, 29, 20,  7,  7, 26, 25, 17, 19, 18],\n",
       "       [ 9, 27,  2, 26, 19,  9, 12,  3,  2, 22],\n",
       "       [15, 16,  7,  6, 14,  1, 29, 11,  5, 13],\n",
       "       [27,  2, 25, 22, 23, 15,  0, 27,  6, 16],\n",
       "       [ 3,  2,  1,  5, 23, 11, 21, 26, 27,  4],\n",
       "       [ 9, 12, 15,  2, 25,  1, 18, 12, 16,  4]], dtype=int32)"
      ]
     },
     "execution_count": 109,
     "metadata": {},
     "output_type": "execute_result"
    }
   ],
   "execution_count": 109
  },
  {
   "cell_type": "code",
   "source": [
    "#Seleccionamos elemento de la fila 2, columna 3\n",
    "array[2,3]"
   ],
   "metadata": {
    "colab": {
     "base_uri": "https://localhost:8080/"
    },
    "id": "i6mbs2hMDs3M",
    "outputId": "97ed43e7-e665-4ed3-b999-b9831e14e7df",
    "ExecuteTime": {
     "end_time": "2025-06-12T17:03:32.779697Z",
     "start_time": "2025-06-12T17:03:32.774259Z"
    }
   },
   "outputs": [
    {
     "data": {
      "text/plain": [
       "np.int32(8)"
      ]
     },
     "execution_count": 110,
     "metadata": {},
     "output_type": "execute_result"
    }
   ],
   "execution_count": 110
  },
  {
   "cell_type": "code",
   "source": [
    "#Slicing\n",
    "array[1:4]"
   ],
   "metadata": {
    "id": "M5bPMKVJEXxa",
    "ExecuteTime": {
     "end_time": "2025-06-12T17:03:36.137787Z",
     "start_time": "2025-06-12T17:03:36.131722Z"
    }
   },
   "outputs": [
    {
     "data": {
      "text/plain": [
       "array([[26, 28, 11, 12, 11, 28,  0, 24,  1,  6],\n",
       "       [13, 14, 29,  8,  9,  8, 17, 12, 11,  9],\n",
       "       [19,  3,  1, 25,  9, 11, 30, 22, 26, 26]], dtype=int32)"
      ]
     },
     "execution_count": 111,
     "metadata": {},
     "output_type": "execute_result"
    }
   ],
   "execution_count": 111
  },
  {
   "cell_type": "code",
   "source": [
    "array[1:4,2:5]"
   ],
   "metadata": {
    "colab": {
     "base_uri": "https://localhost:8080/"
    },
    "id": "6ZpUBmcKEh4e",
    "outputId": "b7161bf2-038e-421a-a62e-29c53159d23d",
    "ExecuteTime": {
     "end_time": "2025-06-12T17:04:02.863617Z",
     "start_time": "2025-06-12T17:04:02.857344Z"
    }
   },
   "outputs": [
    {
     "data": {
      "text/plain": [
       "array([[11, 12, 11],\n",
       "       [29,  8,  9],\n",
       "       [ 1, 25,  9]], dtype=int32)"
      ]
     },
     "execution_count": 112,
     "metadata": {},
     "output_type": "execute_result"
    }
   ],
   "execution_count": 112
  },
  {
   "cell_type": "code",
   "source": [
    "array[:1]"
   ],
   "metadata": {
    "colab": {
     "base_uri": "https://localhost:8080/"
    },
    "id": "Ax3wtJgQEqas",
    "outputId": "9f68a807-56a5-46a2-f973-f4a9cd44799e",
    "ExecuteTime": {
     "end_time": "2025-06-12T17:04:29.600603Z",
     "start_time": "2025-06-12T17:04:29.594784Z"
    }
   },
   "outputs": [
    {
     "data": {
      "text/plain": [
       "array([[15, 19, 11,  8, 20,  5,  1, 11, 16, 26]], dtype=int32)"
      ]
     },
     "execution_count": 113,
     "metadata": {},
     "output_type": "execute_result"
    }
   ],
   "execution_count": 113
  },
  {
   "cell_type": "code",
   "source": [
    "array[3:4]"
   ],
   "metadata": {
    "colab": {
     "base_uri": "https://localhost:8080/"
    },
    "id": "ljGX-P_BFuZo",
    "outputId": "57c64744-ae6b-4122-d188-5837c83470a4",
    "ExecuteTime": {
     "end_time": "2025-06-12T17:04:50.746233Z",
     "start_time": "2025-06-12T17:04:50.739942Z"
    }
   },
   "outputs": [
    {
     "data": {
      "text/plain": [
       "array([[19,  3,  1, 25,  9, 11, 30, 22, 26, 26]], dtype=int32)"
      ]
     },
     "execution_count": 114,
     "metadata": {},
     "output_type": "execute_result"
    }
   ],
   "execution_count": 114
  },
  {
   "cell_type": "code",
   "source": [
    "array[:,4:5]"
   ],
   "metadata": {
    "colab": {
     "base_uri": "https://localhost:8080/"
    },
    "id": "LC-1O5SOF8jg",
    "outputId": "1d83319a-e494-476f-e48f-5b380e912e09",
    "ExecuteTime": {
     "end_time": "2025-06-12T17:04:54.783029Z",
     "start_time": "2025-06-12T17:04:54.777165Z"
    }
   },
   "outputs": [
    {
     "data": {
      "text/plain": [
       "array([[20],\n",
       "       [11],\n",
       "       [ 9],\n",
       "       [ 9],\n",
       "       [ 7],\n",
       "       [19],\n",
       "       [14],\n",
       "       [23],\n",
       "       [23],\n",
       "       [25]], dtype=int32)"
      ]
     },
     "execution_count": 115,
     "metadata": {},
     "output_type": "execute_result"
    }
   ],
   "execution_count": 115
  },
  {
   "cell_type": "code",
   "source": [
    "array"
   ],
   "metadata": {
    "colab": {
     "base_uri": "https://localhost:8080/"
    },
    "id": "3fgtBM9GGOL2",
    "outputId": "9e5306d5-e9b6-4e04-b6cf-fb6f7994a006",
    "ExecuteTime": {
     "end_time": "2025-06-12T17:04:59.394330Z",
     "start_time": "2025-06-12T17:04:59.388060Z"
    }
   },
   "outputs": [
    {
     "data": {
      "text/plain": [
       "array([[15, 19, 11,  8, 20,  5,  1, 11, 16, 26],\n",
       "       [26, 28, 11, 12, 11, 28,  0, 24,  1,  6],\n",
       "       [13, 14, 29,  8,  9,  8, 17, 12, 11,  9],\n",
       "       [19,  3,  1, 25,  9, 11, 30, 22, 26, 26],\n",
       "       [ 7, 29, 20,  7,  7, 26, 25, 17, 19, 18],\n",
       "       [ 9, 27,  2, 26, 19,  9, 12,  3,  2, 22],\n",
       "       [15, 16,  7,  6, 14,  1, 29, 11,  5, 13],\n",
       "       [27,  2, 25, 22, 23, 15,  0, 27,  6, 16],\n",
       "       [ 3,  2,  1,  5, 23, 11, 21, 26, 27,  4],\n",
       "       [ 9, 12, 15,  2, 25,  1, 18, 12, 16,  4]], dtype=int32)"
      ]
     },
     "execution_count": 116,
     "metadata": {},
     "output_type": "execute_result"
    }
   ],
   "execution_count": 116
  },
  {
   "cell_type": "code",
   "source": [
    "array[::-1]"
   ],
   "metadata": {
    "colab": {
     "base_uri": "https://localhost:8080/"
    },
    "id": "o7ffKbKyGalh",
    "outputId": "34e03f3c-0f22-4da4-daca-6a47d3dd858b",
    "ExecuteTime": {
     "end_time": "2025-06-12T17:05:02.582709Z",
     "start_time": "2025-06-12T17:05:02.577212Z"
    }
   },
   "outputs": [
    {
     "data": {
      "text/plain": [
       "array([[ 9, 12, 15,  2, 25,  1, 18, 12, 16,  4],\n",
       "       [ 3,  2,  1,  5, 23, 11, 21, 26, 27,  4],\n",
       "       [27,  2, 25, 22, 23, 15,  0, 27,  6, 16],\n",
       "       [15, 16,  7,  6, 14,  1, 29, 11,  5, 13],\n",
       "       [ 9, 27,  2, 26, 19,  9, 12,  3,  2, 22],\n",
       "       [ 7, 29, 20,  7,  7, 26, 25, 17, 19, 18],\n",
       "       [19,  3,  1, 25,  9, 11, 30, 22, 26, 26],\n",
       "       [13, 14, 29,  8,  9,  8, 17, 12, 11,  9],\n",
       "       [26, 28, 11, 12, 11, 28,  0, 24,  1,  6],\n",
       "       [15, 19, 11,  8, 20,  5,  1, 11, 16, 26]], dtype=int32)"
      ]
     },
     "execution_count": 117,
     "metadata": {},
     "output_type": "execute_result"
    }
   ],
   "execution_count": 117
  },
  {
   "cell_type": "markdown",
   "source": "# Manipulacion de arrays",
   "metadata": {
    "id": "381v9CAWJzUc"
   }
  },
  {
   "cell_type": "code",
   "source": [
    "array = np.random.randint(10,size=(5,5))\n",
    "array"
   ],
   "metadata": {
    "colab": {
     "base_uri": "https://localhost:8080/"
    },
    "id": "HgM3HNaoJ259",
    "outputId": "fd7e214a-7777-4c6e-8eae-8b6bdf84590f",
    "ExecuteTime": {
     "end_time": "2025-06-12T17:05:50.857582Z",
     "start_time": "2025-06-12T17:05:50.851481Z"
    }
   },
   "outputs": [
    {
     "data": {
      "text/plain": [
       "array([[4, 0, 7, 1, 1],\n",
       "       [6, 9, 6, 6, 6],\n",
       "       [1, 0, 8, 9, 7],\n",
       "       [6, 7, 6, 3, 1],\n",
       "       [0, 3, 3, 2, 2]], dtype=int32)"
      ]
     },
     "execution_count": 118,
     "metadata": {},
     "output_type": "execute_result"
    }
   ],
   "execution_count": 118
  },
  {
   "cell_type": "code",
   "source": [
    "#Traspuesta\n",
    "array_t = np.transpose(array)\n",
    "array_t"
   ],
   "metadata": {
    "colab": {
     "base_uri": "https://localhost:8080/"
    },
    "id": "hBrfsXQ4KNr4",
    "outputId": "a7710c1b-f749-492d-9a0e-16b38ffdefe6",
    "ExecuteTime": {
     "end_time": "2025-06-12T17:05:54.358722Z",
     "start_time": "2025-06-12T17:05:54.352304Z"
    }
   },
   "outputs": [
    {
     "data": {
      "text/plain": [
       "array([[4, 6, 1, 6, 0],\n",
       "       [0, 9, 0, 7, 3],\n",
       "       [7, 6, 8, 6, 3],\n",
       "       [1, 6, 9, 3, 2],\n",
       "       [1, 6, 7, 1, 2]], dtype=int32)"
      ]
     },
     "execution_count": 119,
     "metadata": {},
     "output_type": "execute_result"
    }
   ],
   "execution_count": 119
  },
  {
   "cell_type": "code",
   "source": [
    "#Aplanar el array\n",
    "array.ravel()"
   ],
   "metadata": {
    "colab": {
     "base_uri": "https://localhost:8080/"
    },
    "id": "FghiQRp0KYUF",
    "outputId": "583b9b5c-3e28-4e11-daff-bb9388b3a454",
    "ExecuteTime": {
     "end_time": "2025-06-12T17:05:59.548468Z",
     "start_time": "2025-06-12T17:05:59.542421Z"
    }
   },
   "outputs": [
    {
     "data": {
      "text/plain": [
       "array([4, 0, 7, 1, 1, 6, 9, 6, 6, 6, 1, 0, 8, 9, 7, 6, 7, 6, 3, 1, 0, 3,\n",
       "       3, 2, 2], dtype=int32)"
      ]
     },
     "execution_count": 120,
     "metadata": {},
     "output_type": "execute_result"
    }
   ],
   "execution_count": 120
  },
  {
   "cell_type": "code",
   "source": [
    "#Cambiamos la forma pero no los datos\n",
    "array.reshape(5,5)"
   ],
   "metadata": {
    "colab": {
     "base_uri": "https://localhost:8080/"
    },
    "id": "F8Q12gNeKrzu",
    "outputId": "7c9964f9-a5ec-48fe-b850-00231dcdef5c",
    "ExecuteTime": {
     "end_time": "2025-06-12T17:06:02.800266Z",
     "start_time": "2025-06-12T17:06:02.793720Z"
    }
   },
   "outputs": [
    {
     "data": {
      "text/plain": [
       "array([[4, 0, 7, 1, 1],\n",
       "       [6, 9, 6, 6, 6],\n",
       "       [1, 0, 8, 9, 7],\n",
       "       [6, 7, 6, 3, 1],\n",
       "       [0, 3, 3, 2, 2]], dtype=int32)"
      ]
     },
     "execution_count": 121,
     "metadata": {},
     "output_type": "execute_result"
    }
   ],
   "execution_count": 121
  },
  {
   "cell_type": "code",
   "source": [
    "array.reshape(1,25)"
   ],
   "metadata": {
    "colab": {
     "base_uri": "https://localhost:8080/"
    },
    "id": "lxkHfYoQLR_Z",
    "outputId": "c84951ad-49da-4eaa-89a8-36fe323a3f34",
    "ExecuteTime": {
     "end_time": "2025-06-12T17:06:14.839317Z",
     "start_time": "2025-06-12T17:06:14.832658Z"
    }
   },
   "outputs": [
    {
     "data": {
      "text/plain": [
       "array([[4, 0, 7, 1, 1, 6, 9, 6, 6, 6, 1, 0, 8, 9, 7, 6, 7, 6, 3, 1, 0, 3,\n",
       "        3, 2, 2]], dtype=int32)"
      ]
     },
     "execution_count": 122,
     "metadata": {},
     "output_type": "execute_result"
    }
   ],
   "execution_count": 122
  },
  {
   "cell_type": "code",
   "source": [
    "array = np.random.randint(10,size=(4,24))\n",
    "array"
   ],
   "metadata": {
    "colab": {
     "base_uri": "https://localhost:8080/"
    },
    "id": "CIcENu5hLmd-",
    "outputId": "9ebfe6a9-1f24-4810-a67c-8853f5ced7df",
    "ExecuteTime": {
     "end_time": "2025-06-12T17:06:22.441622Z",
     "start_time": "2025-06-12T17:06:22.435254Z"
    }
   },
   "outputs": [
    {
     "data": {
      "text/plain": [
       "array([[1, 5, 9, 9, 3, 6, 1, 0, 3, 2, 7, 4, 2, 6, 4, 6, 8, 9, 9, 7, 6, 5,\n",
       "        6, 0],\n",
       "       [1, 5, 1, 4, 4, 1, 0, 5, 3, 0, 5, 8, 9, 1, 4, 7, 6, 5, 5, 5, 5, 1,\n",
       "        9, 6],\n",
       "       [5, 8, 8, 8, 6, 7, 6, 1, 1, 0, 1, 5, 4, 5, 7, 9, 0, 8, 4, 3, 1, 5,\n",
       "        1, 8],\n",
       "       [7, 4, 9, 3, 4, 1, 8, 1, 4, 0, 4, 2, 8, 2, 8, 9, 3, 1, 2, 9, 4, 2,\n",
       "        7, 5]], dtype=int32)"
      ]
     },
     "execution_count": 123,
     "metadata": {},
     "output_type": "execute_result"
    }
   ],
   "execution_count": 123
  },
  {
   "cell_type": "code",
   "source": [
    "array.reshape(12,8)"
   ],
   "metadata": {
    "colab": {
     "base_uri": "https://localhost:8080/"
    },
    "id": "pyzGNN_SLwmz",
    "outputId": "cdf7dfaa-8fd7-4ba4-ebcb-65f070104454",
    "ExecuteTime": {
     "end_time": "2025-06-12T17:06:24.968530Z",
     "start_time": "2025-06-12T17:06:24.962269Z"
    }
   },
   "outputs": [
    {
     "data": {
      "text/plain": [
       "array([[1, 5, 9, 9, 3, 6, 1, 0],\n",
       "       [3, 2, 7, 4, 2, 6, 4, 6],\n",
       "       [8, 9, 9, 7, 6, 5, 6, 0],\n",
       "       [1, 5, 1, 4, 4, 1, 0, 5],\n",
       "       [3, 0, 5, 8, 9, 1, 4, 7],\n",
       "       [6, 5, 5, 5, 5, 1, 9, 6],\n",
       "       [5, 8, 8, 8, 6, 7, 6, 1],\n",
       "       [1, 0, 1, 5, 4, 5, 7, 9],\n",
       "       [0, 8, 4, 3, 1, 5, 1, 8],\n",
       "       [7, 4, 9, 3, 4, 1, 8, 1],\n",
       "       [4, 0, 4, 2, 8, 2, 8, 9],\n",
       "       [3, 1, 2, 9, 4, 2, 7, 5]], dtype=int32)"
      ]
     },
     "execution_count": 124,
     "metadata": {},
     "output_type": "execute_result"
    }
   ],
   "execution_count": 124
  },
  {
   "cell_type": "code",
   "source": [
    "#Otra forma\n",
    "array.resize((8,12))\n",
    "array"
   ],
   "metadata": {
    "colab": {
     "base_uri": "https://localhost:8080/"
    },
    "id": "NZgc9aYIL39C",
    "outputId": "f061ae60-c811-40d7-df94-a549276c9f01",
    "ExecuteTime": {
     "end_time": "2025-06-12T17:06:27.648409Z",
     "start_time": "2025-06-12T17:06:27.642020Z"
    }
   },
   "outputs": [
    {
     "data": {
      "text/plain": [
       "array([[1, 5, 9, 9, 3, 6, 1, 0, 3, 2, 7, 4],\n",
       "       [2, 6, 4, 6, 8, 9, 9, 7, 6, 5, 6, 0],\n",
       "       [1, 5, 1, 4, 4, 1, 0, 5, 3, 0, 5, 8],\n",
       "       [9, 1, 4, 7, 6, 5, 5, 5, 5, 1, 9, 6],\n",
       "       [5, 8, 8, 8, 6, 7, 6, 1, 1, 0, 1, 5],\n",
       "       [4, 5, 7, 9, 0, 8, 4, 3, 1, 5, 1, 8],\n",
       "       [7, 4, 9, 3, 4, 1, 8, 1, 4, 0, 4, 2],\n",
       "       [8, 2, 8, 9, 3, 1, 2, 9, 4, 2, 7, 5]], dtype=int32)"
      ]
     },
     "execution_count": 125,
     "metadata": {},
     "output_type": "execute_result"
    }
   ],
   "execution_count": 125
  },
  {
   "cell_type": "code",
   "source": [
    "#Añadir/ eliminar elementos\n",
    "np.append(array, 34)"
   ],
   "metadata": {
    "colab": {
     "base_uri": "https://localhost:8080/"
    },
    "id": "orJZJjMoMEWc",
    "outputId": "9d5ae13b-7c29-4765-aee0-18276a21c2b2",
    "ExecuteTime": {
     "end_time": "2025-06-12T17:06:30.847708Z",
     "start_time": "2025-06-12T17:06:30.841689Z"
    }
   },
   "outputs": [
    {
     "data": {
      "text/plain": [
       "array([ 1,  5,  9,  9,  3,  6,  1,  0,  3,  2,  7,  4,  2,  6,  4,  6,  8,\n",
       "        9,  9,  7,  6,  5,  6,  0,  1,  5,  1,  4,  4,  1,  0,  5,  3,  0,\n",
       "        5,  8,  9,  1,  4,  7,  6,  5,  5,  5,  5,  1,  9,  6,  5,  8,  8,\n",
       "        8,  6,  7,  6,  1,  1,  0,  1,  5,  4,  5,  7,  9,  0,  8,  4,  3,\n",
       "        1,  5,  1,  8,  7,  4,  9,  3,  4,  1,  8,  1,  4,  0,  4,  2,  8,\n",
       "        2,  8,  9,  3,  1,  2,  9,  4,  2,  7,  5, 34])"
      ]
     },
     "execution_count": 126,
     "metadata": {},
     "output_type": "execute_result"
    }
   ],
   "execution_count": 126
  },
  {
   "cell_type": "code",
   "source": [
    "array=np.insert(array,2,99)\n",
    "array"
   ],
   "metadata": {
    "colab": {
     "base_uri": "https://localhost:8080/"
    },
    "id": "rBN2lCTkMPlL",
    "outputId": "ad043bff-6b9e-4ad2-c988-bc3a7ad010ac",
    "ExecuteTime": {
     "end_time": "2025-06-12T17:06:34.109137Z",
     "start_time": "2025-06-12T17:06:34.102266Z"
    }
   },
   "outputs": [
    {
     "data": {
      "text/plain": [
       "array([ 1,  5, 99,  9,  9,  3,  6,  1,  0,  3,  2,  7,  4,  2,  6,  4,  6,\n",
       "        8,  9,  9,  7,  6,  5,  6,  0,  1,  5,  1,  4,  4,  1,  0,  5,  3,\n",
       "        0,  5,  8,  9,  1,  4,  7,  6,  5,  5,  5,  5,  1,  9,  6,  5,  8,\n",
       "        8,  8,  6,  7,  6,  1,  1,  0,  1,  5,  4,  5,  7,  9,  0,  8,  4,\n",
       "        3,  1,  5,  1,  8,  7,  4,  9,  3,  4,  1,  8,  1,  4,  0,  4,  2,\n",
       "        8,  2,  8,  9,  3,  1,  2,  9,  4,  2,  7,  5], dtype=int32)"
      ]
     },
     "execution_count": 127,
     "metadata": {},
     "output_type": "execute_result"
    }
   ],
   "execution_count": 127
  },
  {
   "cell_type": "code",
   "source": [
    "#Borrado\n",
    "array=np.delete(array,[1])\n",
    "array"
   ],
   "metadata": {
    "colab": {
     "base_uri": "https://localhost:8080/"
    },
    "id": "N7o5UVlWNw_9",
    "outputId": "b4b191a6-c33a-437b-e445-03b0d5aadf03",
    "ExecuteTime": {
     "end_time": "2025-06-12T17:06:54.966269Z",
     "start_time": "2025-06-12T17:06:54.958175Z"
    }
   },
   "outputs": [
    {
     "data": {
      "text/plain": [
       "array([1, 6, 0, 1, 5, 1, 4, 4, 1, 0, 5, 3, 0, 5, 8, 9, 1, 4, 7, 6, 5, 5,\n",
       "       5, 5, 1, 9, 6, 5, 8, 8, 8, 6, 7, 6, 1, 1, 0, 1, 5, 4, 5, 7, 9, 0,\n",
       "       8, 4, 3, 1, 5, 1, 8, 7, 4, 9, 3, 4, 1, 8, 1, 4, 0, 4, 2, 8, 2, 8,\n",
       "       9, 3, 1, 2, 9, 4, 2, 7, 5], dtype=int32)"
      ]
     },
     "execution_count": 149,
     "metadata": {},
     "output_type": "execute_result"
    }
   ],
   "execution_count": 149
  },
  {
   "cell_type": "code",
   "source": [
    "array_1 = np.random.randint(10,size=(4,4))\n",
    "array_1"
   ],
   "metadata": {
    "colab": {
     "base_uri": "https://localhost:8080/"
    },
    "id": "7OG0p-3zOQAS",
    "outputId": "5ec5af8c-c884-4af6-95cd-de3006f309d0",
    "ExecuteTime": {
     "end_time": "2025-06-12T17:06:56.621618Z",
     "start_time": "2025-06-12T17:06:56.615569Z"
    }
   },
   "outputs": [
    {
     "data": {
      "text/plain": [
       "array([[5, 3, 1, 8],\n",
       "       [6, 3, 3, 8],\n",
       "       [5, 0, 8, 3],\n",
       "       [0, 7, 2, 8]], dtype=int32)"
      ]
     },
     "execution_count": 150,
     "metadata": {},
     "output_type": "execute_result"
    }
   ],
   "execution_count": 150
  },
  {
   "cell_type": "code",
   "source": [
    "array_2 = np.random.randint(10,size=(4,4))\n",
    "array_2"
   ],
   "metadata": {
    "colab": {
     "base_uri": "https://localhost:8080/"
    },
    "id": "-Au6f2GYOphx",
    "outputId": "498dc63f-7c9e-4860-ad4a-5ac75a1e09fd",
    "ExecuteTime": {
     "end_time": "2025-06-12T17:06:59.141319Z",
     "start_time": "2025-06-12T17:06:59.134517Z"
    }
   },
   "outputs": [
    {
     "data": {
      "text/plain": [
       "array([[3, 3, 7, 8],\n",
       "       [4, 7, 4, 8],\n",
       "       [7, 7, 6, 5],\n",
       "       [4, 9, 8, 8]], dtype=int32)"
      ]
     },
     "execution_count": 151,
     "metadata": {},
     "output_type": "execute_result"
    }
   ],
   "execution_count": 151
  },
  {
   "cell_type": "code",
   "source": [
    "#Combinar arrays\n",
    "array_combinado = np.concatenate((array_1,array_2),axis=0)\n",
    "array_combinado"
   ],
   "metadata": {
    "colab": {
     "base_uri": "https://localhost:8080/"
    },
    "id": "TL13HxDnOzJF",
    "outputId": "a02863eb-a0cc-4353-ac89-70a081e75b76",
    "ExecuteTime": {
     "end_time": "2025-06-12T17:07:01.451415Z",
     "start_time": "2025-06-12T17:07:01.444901Z"
    }
   },
   "outputs": [
    {
     "data": {
      "text/plain": [
       "array([[5, 3, 1, 8],\n",
       "       [6, 3, 3, 8],\n",
       "       [5, 0, 8, 3],\n",
       "       [0, 7, 2, 8],\n",
       "       [3, 3, 7, 8],\n",
       "       [4, 7, 4, 8],\n",
       "       [7, 7, 6, 5],\n",
       "       [4, 9, 8, 8]], dtype=int32)"
      ]
     },
     "execution_count": 152,
     "metadata": {},
     "output_type": "execute_result"
    }
   ],
   "execution_count": 152
  },
  {
   "cell_type": "code",
   "source": [
    "#Array vertical\n",
    "array_combinado = np.vstack((array_1,array_2))\n",
    "array_combinado"
   ],
   "metadata": {
    "colab": {
     "base_uri": "https://localhost:8080/"
    },
    "id": "wrtplACVPETj",
    "outputId": "5b9480de-f9bc-4e9b-dd79-489a10a61122",
    "ExecuteTime": {
     "end_time": "2025-06-12T17:08:57.156924Z",
     "start_time": "2025-06-12T17:08:57.149366Z"
    }
   },
   "outputs": [
    {
     "data": {
      "text/plain": [
       "array([[5, 3, 1, 8],\n",
       "       [6, 3, 3, 8],\n",
       "       [5, 0, 8, 3],\n",
       "       [0, 7, 2, 8],\n",
       "       [3, 3, 7, 8],\n",
       "       [4, 7, 4, 8],\n",
       "       [7, 7, 6, 5],\n",
       "       [4, 9, 8, 8]], dtype=int32)"
      ]
     },
     "execution_count": 153,
     "metadata": {},
     "output_type": "execute_result"
    }
   ],
   "execution_count": 153
  },
  {
   "cell_type": "code",
   "source": [
    "#Otra forma\n",
    "array_combinado=np.r_[array_1,array_2]\n",
    "array_combinado"
   ],
   "metadata": {
    "colab": {
     "base_uri": "https://localhost:8080/"
    },
    "id": "nXX4hLYSPXhx",
    "outputId": "c8c5ff55-1c98-4445-849c-7c57266fcfae",
    "ExecuteTime": {
     "end_time": "2025-06-12T17:09:02.729709Z",
     "start_time": "2025-06-12T17:09:02.722877Z"
    }
   },
   "outputs": [
    {
     "data": {
      "text/plain": [
       "array([[5, 3, 1, 8],\n",
       "       [6, 3, 3, 8],\n",
       "       [5, 0, 8, 3],\n",
       "       [0, 7, 2, 8],\n",
       "       [3, 3, 7, 8],\n",
       "       [4, 7, 4, 8],\n",
       "       [7, 7, 6, 5],\n",
       "       [4, 9, 8, 8]], dtype=int32)"
      ]
     },
     "execution_count": 154,
     "metadata": {},
     "output_type": "execute_result"
    }
   ],
   "execution_count": 154
  },
  {
   "cell_type": "code",
   "source": [
    "#Combinado horizontal\n",
    "array_combinado = np.hstack((array_1,array_2))\n",
    "array_combinado"
   ],
   "metadata": {
    "colab": {
     "base_uri": "https://localhost:8080/"
    },
    "id": "uk3TEaUWPkoN",
    "outputId": "0d963194-e66a-443a-8ada-76d0441ebad0",
    "ExecuteTime": {
     "end_time": "2025-06-12T17:09:11.411622Z",
     "start_time": "2025-06-12T17:09:11.405106Z"
    }
   },
   "outputs": [
    {
     "data": {
      "text/plain": [
       "array([[5, 3, 1, 8, 3, 3, 7, 8],\n",
       "       [6, 3, 3, 8, 4, 7, 4, 8],\n",
       "       [5, 0, 8, 3, 7, 7, 6, 5],\n",
       "       [0, 7, 2, 8, 4, 9, 8, 8]], dtype=int32)"
      ]
     },
     "execution_count": 155,
     "metadata": {},
     "output_type": "execute_result"
    }
   ],
   "execution_count": 155
  },
  {
   "cell_type": "code",
   "source": [
    "#Otra forma\n",
    "np.column_stack((array_1,array_2))"
   ],
   "metadata": {
    "colab": {
     "base_uri": "https://localhost:8080/"
    },
    "id": "9xgoFgJ9Qnsu",
    "outputId": "ba6a6916-e71f-4800-989e-b167a20734ae",
    "ExecuteTime": {
     "end_time": "2025-06-12T17:09:16.145769Z",
     "start_time": "2025-06-12T17:09:16.139917Z"
    }
   },
   "outputs": [
    {
     "data": {
      "text/plain": [
       "array([[5, 3, 1, 8, 3, 3, 7, 8],\n",
       "       [6, 3, 3, 8, 4, 7, 4, 8],\n",
       "       [5, 0, 8, 3, 7, 7, 6, 5],\n",
       "       [0, 7, 2, 8, 4, 9, 8, 8]], dtype=int32)"
      ]
     },
     "execution_count": 156,
     "metadata": {},
     "output_type": "execute_result"
    }
   ],
   "execution_count": 156
  },
  {
   "cell_type": "code",
   "source": [
    "#Otra forma\n",
    "np.c_[array_1,array_2]"
   ],
   "metadata": {
    "colab": {
     "base_uri": "https://localhost:8080/"
    },
    "id": "IutL3nAQQ3tQ",
    "outputId": "6d1b7768-e4b9-421f-c2d0-f714a9d710da",
    "ExecuteTime": {
     "end_time": "2025-06-12T17:09:20.843049Z",
     "start_time": "2025-06-12T17:09:20.836737Z"
    }
   },
   "outputs": [
    {
     "data": {
      "text/plain": [
       "array([[5, 3, 1, 8, 3, 3, 7, 8],\n",
       "       [6, 3, 3, 8, 4, 7, 4, 8],\n",
       "       [5, 0, 8, 3, 7, 7, 6, 5],\n",
       "       [0, 7, 2, 8, 4, 9, 8, 8]], dtype=int32)"
      ]
     },
     "execution_count": 157,
     "metadata": {},
     "output_type": "execute_result"
    }
   ],
   "execution_count": 157
  },
  {
   "cell_type": "code",
   "source": [
    "#Splitting, corte array verticalmente\n",
    "np.vsplit(array_1, 2)"
   ],
   "metadata": {
    "colab": {
     "base_uri": "https://localhost:8080/"
    },
    "id": "8K_pkQ-dRB-z",
    "outputId": "c713e4de-72c3-490e-d39d-6ef7deb9d07f",
    "ExecuteTime": {
     "end_time": "2025-06-12T17:09:27.074625Z",
     "start_time": "2025-06-12T17:09:27.066261Z"
    }
   },
   "outputs": [
    {
     "data": {
      "text/plain": [
       "[array([[5, 3, 1, 8],\n",
       "        [6, 3, 3, 8]], dtype=int32),\n",
       " array([[5, 0, 8, 3],\n",
       "        [0, 7, 2, 8]], dtype=int32)]"
      ]
     },
     "execution_count": 158,
     "metadata": {},
     "output_type": "execute_result"
    }
   ],
   "execution_count": 158
  },
  {
   "cell_type": "code",
   "source": [
    "array_1"
   ],
   "metadata": {
    "colab": {
     "base_uri": "https://localhost:8080/"
    },
    "id": "oV0cVY0WRfVr",
    "outputId": "e3a69b91-8f5e-4277-e6ba-d320f551af23",
    "ExecuteTime": {
     "end_time": "2025-06-12T17:09:29.770426Z",
     "start_time": "2025-06-12T17:09:29.764132Z"
    }
   },
   "outputs": [
    {
     "data": {
      "text/plain": [
       "array([[5, 3, 1, 8],\n",
       "       [6, 3, 3, 8],\n",
       "       [5, 0, 8, 3],\n",
       "       [0, 7, 2, 8]], dtype=int32)"
      ]
     },
     "execution_count": 159,
     "metadata": {},
     "output_type": "execute_result"
    }
   ],
   "execution_count": 159
  },
  {
   "cell_type": "code",
   "source": [
    "#Corte horizontal\n",
    "np.hsplit(array_1,2)"
   ],
   "metadata": {
    "colab": {
     "base_uri": "https://localhost:8080/"
    },
    "id": "-IPFf-ZbRgx7",
    "outputId": "3b2a9121-680d-4e41-b8d9-bdf1abdc55e4",
    "ExecuteTime": {
     "end_time": "2025-06-12T17:09:32.578330Z",
     "start_time": "2025-06-12T17:09:32.572327Z"
    }
   },
   "outputs": [
    {
     "data": {
      "text/plain": [
       "[array([[5, 3],\n",
       "        [6, 3],\n",
       "        [5, 0],\n",
       "        [0, 7]], dtype=int32),\n",
       " array([[1, 8],\n",
       "        [3, 8],\n",
       "        [8, 3],\n",
       "        [2, 8]], dtype=int32)]"
      ]
     },
     "execution_count": 160,
     "metadata": {},
     "output_type": "execute_result"
    }
   ],
   "execution_count": 160
  },
  {
   "cell_type": "code",
   "source": [],
   "metadata": {
    "id": "O0xtIPt6RvgI"
   },
   "execution_count": null,
   "outputs": []
  }
 ]
}
